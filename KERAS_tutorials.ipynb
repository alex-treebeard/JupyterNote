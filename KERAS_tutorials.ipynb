{
 "cells": [
  {
   "cell_type": "markdown",
   "metadata": {},
   "source": [
    "# 0. 시작하기전에\n",
    "\n",
    "*김태영,'블록과 함께하는 파이썬 딥러닝 케라스',디지털북스,2017* 을 읽고 복습하기 위해 마음대로 정리한 것입니다. 자세한 내용은 책이나 저자의 [블로그](https://tykimos.github.io/)를 참고하세요. \n",
    "\n",
    "# 1. 케라스(Keras)\n",
    "케라스는 파이썬으로 구현된 쉽고 간결한 딥러닝 라이브러리입니다.  \n",
    "\n",
    "![](https://keras.io/img/keras-logo-small-2018.jpg)\n",
    "\n",
    "\n",
    "## 1.1 케라스의 기본개념\n",
    "\n",
    "케라스로 딥러닝모델을 만들 때는 다음과 같은 순서로 작성합니다.\n",
    "\n",
    "1. 데이터 불러오고 전처리\n",
    "    - 데이터를 훈련, 검증, 시험용으로 분리합니다.\n",
    "    - 데이터 포멧을 변환합니다.\n",
    "2. 모델을 구성하기\n",
    "    - 시퀀스 모델을\n",
    "3. 모델 학습시키기\n",
    "4. 모델 평가하기\n",
    "5. 모델 응용하기\n"
   ]
  },
  {
   "cell_type": "markdown",
   "metadata": {},
   "source": [
    "## 학습 조기종료 시키기\n",
    "\n",
    "# 3. 레이어\n",
    "케라스에서 사용되는 레이어는 층층이 쌓아서 모델을 만드는 개념입니다. \n",
    "\n",
    "## 인공 신경망\n",
    "케라스에서는 `Dense`라는 클래스로 구현이 되어 있습니다. 아래와 같이 사용하죠.\n",
    "``` python\n",
    "Dense(8, input_dim = 4, activation = 'relu')\n",
    "```\n",
    "- 첫번째 인자 : 출력 뉴런의 수\n",
    "- input_dim : 입력 뉴런의 수, 입력층에서만 사용\n",
    "- activation : 활성화 함수\n",
    "    + linear(default 값): 계산된 값이 그대로 출력\n",
    "    + sigmoid : 이진 분류 문제에 주로 사용\n",
    "    + relu : 은닉층에 주로 사용\n",
    "    + softmax : 출력층에 주로 사용\n",
    "    \n",
    "## 레이어 쌓기\n",
    "4개의 입력값을 받아 이진 분류하는 모델은 다음과 같습니다.\n",
    "```python\n",
    "model = Sequential()\n",
    "model.add(Dense(8, input_dim = 4, activation = 'relu'))\n",
    "model.add(Dense(8, activation = 'relu'))\n",
    "model.add(Dense(1, activation = 'sigmoid'))\n",
    "```\n",
    "\n",
    "## 다층 퍼셉트론 신경망 모델\n",
    "간단한 다층 퍼셉트론 신경망 모델로 이진 분류를 해보겠습니다. 예제로 사용할 데이터는 [Pima 인디언의 당뇨병 발병 데이터](https://www.kaggle.com/uciml/pima-indians-diabetes-database) 입니다.\n",
    "\n",
    "### 1. 데이터 준비하기\n",
    "이제 ics.uci.edu 에서는 더이상 제공되지 않습니다. 그래서 저는 Kaggle에서 **diabetes.csv** 파일을 다운로드 했습니다. 간략하게 파일을 살펴보면 다음과 같습니다.\n",
    "- 인스턴스의 수 : 768개\n",
    "- 속성의 수 : 8 (자세한것은 생략)\n",
    "- 클래스의 수 : 2 (당뇨병 유/무)\n",
    "\n",
    "`pandas`로 데이터의 모양을 살펴보겠습니다."
   ]
  },
  {
   "cell_type": "code",
   "execution_count": 1,
   "metadata": {},
   "outputs": [
    {
     "data": {
      "text/html": [
       "<div>\n",
       "<table border=\"1\" class=\"dataframe\">\n",
       "  <thead>\n",
       "    <tr style=\"text-align: right;\">\n",
       "      <th></th>\n",
       "      <th>Pregnancies</th>\n",
       "      <th>Glucose</th>\n",
       "      <th>BloodPressure</th>\n",
       "      <th>SkinThickness</th>\n",
       "      <th>Insulin</th>\n",
       "      <th>BMI</th>\n",
       "      <th>DiabetesPedigreeFunction</th>\n",
       "      <th>Age</th>\n",
       "      <th>Outcome</th>\n",
       "    </tr>\n",
       "  </thead>\n",
       "  <tbody>\n",
       "    <tr>\n",
       "      <th>763</th>\n",
       "      <td>10</td>\n",
       "      <td>101</td>\n",
       "      <td>76</td>\n",
       "      <td>48</td>\n",
       "      <td>180</td>\n",
       "      <td>32.9</td>\n",
       "      <td>0.171</td>\n",
       "      <td>63</td>\n",
       "      <td>0</td>\n",
       "    </tr>\n",
       "    <tr>\n",
       "      <th>764</th>\n",
       "      <td>2</td>\n",
       "      <td>122</td>\n",
       "      <td>70</td>\n",
       "      <td>27</td>\n",
       "      <td>0</td>\n",
       "      <td>36.8</td>\n",
       "      <td>0.340</td>\n",
       "      <td>27</td>\n",
       "      <td>0</td>\n",
       "    </tr>\n",
       "    <tr>\n",
       "      <th>765</th>\n",
       "      <td>5</td>\n",
       "      <td>121</td>\n",
       "      <td>72</td>\n",
       "      <td>23</td>\n",
       "      <td>112</td>\n",
       "      <td>26.2</td>\n",
       "      <td>0.245</td>\n",
       "      <td>30</td>\n",
       "      <td>0</td>\n",
       "    </tr>\n",
       "    <tr>\n",
       "      <th>766</th>\n",
       "      <td>1</td>\n",
       "      <td>126</td>\n",
       "      <td>60</td>\n",
       "      <td>0</td>\n",
       "      <td>0</td>\n",
       "      <td>30.1</td>\n",
       "      <td>0.349</td>\n",
       "      <td>47</td>\n",
       "      <td>1</td>\n",
       "    </tr>\n",
       "    <tr>\n",
       "      <th>767</th>\n",
       "      <td>1</td>\n",
       "      <td>93</td>\n",
       "      <td>70</td>\n",
       "      <td>31</td>\n",
       "      <td>0</td>\n",
       "      <td>30.4</td>\n",
       "      <td>0.315</td>\n",
       "      <td>23</td>\n",
       "      <td>0</td>\n",
       "    </tr>\n",
       "  </tbody>\n",
       "</table>\n",
       "</div>"
      ],
      "text/plain": [
       "     Pregnancies  Glucose  BloodPressure  SkinThickness  Insulin   BMI  \\\n",
       "763           10      101             76             48      180  32.9   \n",
       "764            2      122             70             27        0  36.8   \n",
       "765            5      121             72             23      112  26.2   \n",
       "766            1      126             60              0        0  30.1   \n",
       "767            1       93             70             31        0  30.4   \n",
       "\n",
       "     DiabetesPedigreeFunction  Age  Outcome  \n",
       "763                     0.171   63        0  \n",
       "764                     0.340   27        0  \n",
       "765                     0.245   30        0  \n",
       "766                     0.349   47        1  \n",
       "767                     0.315   23        0  "
      ]
     },
     "execution_count": 1,
     "metadata": {},
     "output_type": "execute_result"
    }
   ],
   "source": [
    "import pandas as pd\n",
    "df = pd.read_csv('diabetes.csv')\n",
    "df.tail()"
   ]
  },
  {
   "cell_type": "markdown",
   "metadata": {},
   "source": [
    "### 2. 데이터 불러오기\n",
    "데이터를 불러오기 앞서, 랜덤 시드를 명시적으로 정합니다. 이것을 하지 않으면 실행할 때마다 다른 결과가 나오므로 파라미터 조정시에는 고정해 주는것이 좋습니다."
   ]
  },
  {
   "cell_type": "code",
   "execution_count": 2,
   "metadata": {},
   "outputs": [
    {
     "data": {
      "text/plain": [
       "array([[   6.   ,  148.   ,   72.   , ...,   33.6  ,    0.627,   50.   ],\n",
       "       [   1.   ,   85.   ,   66.   , ...,   26.6  ,    0.351,   31.   ],\n",
       "       [   8.   ,  183.   ,   64.   , ...,   23.3  ,    0.672,   32.   ],\n",
       "       ..., \n",
       "       [   3.   ,  169.   ,   74.   , ...,   29.9  ,    0.268,   31.   ],\n",
       "       [   0.   ,   99.   ,    0.   , ...,   25.   ,    0.253,   22.   ],\n",
       "       [   4.   ,  127.   ,   88.   , ...,   34.5  ,    0.598,   28.   ]])"
      ]
     },
     "execution_count": 2,
     "metadata": {},
     "output_type": "execute_result"
    }
   ],
   "source": [
    "import numpy as np\n",
    "np.random.seed(5) # 랜덤시드 고정시키기\n",
    "# 다운받은 파일이 같은 폴더에 있다고 가정합니다.\n",
    "dataset = np.genfromtxt('diabetes.csv', delimiter=',')\n",
    "# 데이터를 학습용과 검증용으로 나눕니다.\n",
    "x_train = dataset[1:700, 0:8] # 700개는 학습용으로 68개는 검증용으로 쓰겠습니다\n",
    "y_train = dataset[1:700, 8]\n",
    "x_test = dataset[700:, 0:8] \n",
    "y_test = dataset[700:, 8]\n",
    "x_train # 데이터를 확인해봅니다."
   ]
  },
  {
   "cell_type": "markdown",
   "metadata": {},
   "source": [
    "### 3. 모델 구성하기\n",
    "\n",
    "Dense 레이어만을 사용하여 다층 퍼셉트론 신경망 모델을 만들겠습니다.\n",
    "- 첫번째 레이어는 은닉층으로 8개의 속성을 입력받아 12개로 출력합니다.\n",
    "- 두번째 레이어는 은닉층으로 12개의 뉴런을 입력받아 8개로 출력합니다.\n",
    "- 마지막 레이어는 출력 레이어로 8개의 뉴런을 입력받아 1개의 뉴런을 출력합니다.\n",
    "  \n",
    "은닉층은 *relu* 함수를 사용하고 출력층은 *sigmoid* 함수를 사용하겠습니다.  "
   ]
  },
  {
   "cell_type": "code",
   "execution_count": 3,
   "metadata": {},
   "outputs": [
    {
     "name": "stderr",
     "output_type": "stream",
     "text": [
      "Using TensorFlow backend.\n"
     ]
    }
   ],
   "source": [
    "import keras\n",
    "from keras.models import Sequential\n",
    "from keras.layers import Dense\n",
    "\n",
    "# 모델 만들기\n",
    "model = Sequential()\n",
    "model.add(Dense(12, input_dim = 8, activation = 'relu'))\n",
    "model.add(Dense(8, activation = 'relu'))\n",
    "model.add(Dense(1, activation = 'sigmoid'))\n",
    "# 모델 학습과정 설정\n",
    "model.compile(loss = 'binary_crossentropy', optimizer = 'adam', metrics =['accuracy'])\n",
    "# loss : 평가에 사용된 손실 함수입니다. 이진 분류에서는 binary_crossentropy를 사용합니다\n",
    "# optimizer : 최적 파라미터를 찾는 알고리즘으로 경사 하강법의 하나인 adam을 사용합니다.\n",
    "# metrics : 평가척도, 분류문제에서는 보통 accuracy를 씁니다."
   ]
  },
  {
   "cell_type": "markdown",
   "metadata": {},
   "source": [
    "### 4.학습과 평가\n",
    "먼저 `fit()` 기능을 사용해 모델을 학습시킵니다. 필요한 설정은 다음과 같습니다.\n",
    "- 첫번째 인자 : 입력 변수, 여기서는 8가지 속성입니다.\n",
    "- 두번째 인자 : 출력 변수, 여기서는 당뇨병 유/무 입니다.\n",
    "- batch_size : 가중치를 업데이트할 배치 크기\n",
    "- verbose : 학습과정 표시여부, 보고 싶다면 1\n",
    "\n",
    "시험셋을 이용해 학습한 모델을 평가하겠습니다. `evaluate()` 기능을 이용해 간단히 수행할 수 있습니다."
   ]
  },
  {
   "cell_type": "code",
   "execution_count": 4,
   "metadata": {},
   "outputs": [
    {
     "name": "stdout",
     "output_type": "stream",
     "text": [
      "69/69 [==============================] - 0s 460us/step\n",
      "정확도는 81.15942046262215% 입니다.\n"
     ]
    }
   ],
   "source": [
    "hist =  model.fit(x_train, y_train, epochs = 1000, batch_size = 64, verbose=0)\n",
    "# 모델 평가하기\n",
    "score = model.evaluate(x_test,y_test)\n",
    "print('정확도는 {}% 입니다.'.format(score[1]*100))"
   ]
  },
  {
   "cell_type": "markdown",
   "metadata": {},
   "source": [
    "## 히스토리 기능\n",
    "히스토리 기능은 케라스에 기본으로 탑재되어 있습니다. 별도의 설정없이 아래와 같이 사용할 수 있습니다.\n"
   ]
  },
  {
   "cell_type": "code",
   "execution_count": 5,
   "metadata": {},
   "outputs": [
    {
     "data": {
      "image/png": "[encoded data removed]",
      "text/plain": [
       "<matplotlib.figure.Figure at 0x7fcc9447f7b8>"
      ]
     },
     "metadata": {},
     "output_type": "display_data"
    }
   ],
   "source": [
    "import matplotlib.pyplot as plt\n",
    "%matplotlib inline\n",
    "\n",
    "fig = plt.figure()\n",
    "fig,(ax0, ax1) = plt.subplots(nrows = 1, ncols = 2, sharey = False)\n",
    "ax0.plot(hist.history[\"acc\"], label = 'acc')\n",
    "ax0.set(title='Accuracy')\n",
    "ax1.plot(hist.history[\"loss\"], label = 'loss')\n",
    "ax1.set(title='Accuracy')"
   ]
  },
  {
   "cell_type": "markdown",
   "metadata": {},
   "source": [
    "## 합성곱(convolution) 신경망 레이어\n",
    "케라스에서 제공하는 합성곱 레이어 중 영상처리에 주로 사용되는 `Conv2D` 레이어를 살펴 보겠습니다. 아래는 사용 예제 입니다.\n",
    "\n",
    "```python\n",
    "Conv2D(1, (2, 2), padding = 'valid', input_shape = (4, 4, 1), activation = 'relu')\n",
    "                                                   \n",
    "```\n",
    "- 첫번째 인자: 합성곱 필터의 숫자\n",
    "- 두번째 인자: 합성곱 커널의 (행,열)\n",
    "- padding : 경계 처리 방법\n",
    "    + valid : 출력사이즈는 입력 사이즈보다 작아집니다.\n",
    "    + same : 출력 이미지 사이즈와 입력 사이즈가 동일합니다.\n",
    "- input_shape : 입력형태, (행, 열, 채널 수); 채널은 흑백이면 1, 컬러면 3입니다.\n",
    "- activation : 활성화 함수를 설정\n",
    "\n",
    "사소한 변화를 무시하는 Max Pooling 레이어\n",
    "1차원으로 바꾸는 Flatten 레이어\n",
    "\n",
    "## 합성곱(convolution) 신경망 모델 만들기\n",
    "이미지 기반의 분류에는 합성곱 신경맘 모델이 적합합니다. 여기서 우리는 이미지파일의 분류를 해보도록 하겠습니다.\n",
    "\n",
    "### 1.  데이터 준비하기\n",
    "**tykimos.github.io** 에서 제공하고 있는 데이터를 가지고 살펴 보겠습니다. \n",
    "원, 사각형, 삼각형 데이터셋을 예제로 살펴보겠습니다. 구성은 훈련셋과 시험셋으로 되어 있는 데, 아래 그림은 훈련셋입니다.\n",
    "![훈련 데이터](http://tykimos.github.io/warehouse/2017-3-8-CNN_Data_Augmentation_1.png)\n",
    "<center> Figure from tykimos.github.io </center>\n",
    "다음은 시험용 데이터입니다.\n",
    "![시험 데이터](http://tykimos.github.io/warehouse/2017-3-8-CNN_Data_Augmentation_3.png)\n",
    "<center> Figure from tykimos.github.io </center>\n"
   ]
  },
  {
   "cell_type": "markdown",
   "metadata": {},
   "source": [
    "### 2. 데이터 불러와서 전처리\n",
    "수정된 전체 코드는 다음과 같습니다. 참고로 시험셋은 데이터 부풀리기를 할 필요가 없으니, test_datagen 객체 생성 시에는 별도의 파라미터를 추가하지 않았습니다. 그리고 fit_generator함수에서 steps_per_epoch의 값은 기존 15개에서 더 많은 수 (현재 예는 1500개)로 설정합니다. batch_size * steps_per_epoch가 전체 샘플 수 인데, 데이터 부풀리기를 하지 않을 때는 기존의 15개의 배치사이즈(3개)로 전체 45개를 모두 학습에 사용할 수 있지만, ImageDataGenerator함수를 통해 데이터 부풀리기는 할 때는 하나의 샘플로 여러 개의 결과를 얻기 때문에 요청하는 데로 무한의 샘플이 제공됩니다. 여기서는 100배 정도인 1500개로 설정했습니다."
   ]
  },
  {
   "cell_type": "code",
   "execution_count": 6,
   "metadata": {},
   "outputs": [
    {
     "name": "stdout",
     "output_type": "stream",
     "text": [
      "Found 45 images belonging to 3 classes.\n",
      "Found 15 images belonging to 3 classes.\n"
     ]
    }
   ],
   "source": [
    "# 필요한 라이브러리 불러오기\n",
    "import numpy as np\n",
    "from keras.models import Sequential\n",
    "from keras.layers import Dense, Flatten, Dropout\n",
    "from keras.layers.convolutional import Conv2D, MaxPooling2D\n",
    "from keras.preprocessing.image import ImageDataGenerator\n",
    "# 랜덤시드 고정시키기\n",
    "np.random.seed(5)\n",
    "# 데이터셋 불러오기\n",
    "train_datagen = ImageDataGenerator(rescale=1./255, \n",
    "                                   rotation_range=10,\n",
    "                                   width_shift_range=0.2,\n",
    "                                   height_shift_range=0.2,\n",
    "                                   shear_range=0.7,\n",
    "                                   zoom_range=[0.9, 2.2],\n",
    "                                   horizontal_flip=True,\n",
    "                                   vertical_flip=True,\n",
    "                                   fill_mode='nearest')\n",
    "\n",
    "train_generator = train_datagen.flow_from_directory(\n",
    "        './hard_handwriting_shape/train',\n",
    "        target_size=(24, 24),\n",
    "        batch_size=3,\n",
    "        class_mode='categorical')\n",
    "\n",
    "test_datagen = ImageDataGenerator(rescale=1./255)\n",
    "\n",
    "test_generator = test_datagen.flow_from_directory(\n",
    "        './hard_handwriting_shape/test',\n",
    "        target_size=(24, 24),    \n",
    "        batch_size=3,\n",
    "        class_mode='categorical')"
   ]
  },
  {
   "cell_type": "markdown",
   "metadata": {},
   "source": [
    "# "
   ]
  },
  {
   "cell_type": "code",
   "execution_count": 7,
   "metadata": {},
   "outputs": [
    {
     "name": "stdout",
     "output_type": "stream",
     "text": [
      "-- 평가 --\n",
      "예측의 정확도는 66.66666746139526 % 입니다.\n"
     ]
    }
   ],
   "source": [
    "import warnings\n",
    "warnings.filterwarnings(\"ignore\", message=\"numpy.dtype size changed\") \n",
    "# numpy로인한 경고 무시\n",
    "\n",
    "model = Sequential()\n",
    "model.add(Conv2D(32, kernel_size=(3, 3),\n",
    "                 activation='relu',\n",
    "                 input_shape=(24,24,3)))\n",
    "model.add(Conv2D(64, (3, 3), activation='relu'))\n",
    "model.add(MaxPooling2D(pool_size=(2, 2)))\n",
    "model.add(Flatten())\n",
    "model.add(Dense(128, activation='relu'))\n",
    "model.add(Dense(3, activation='softmax'))\n",
    "\n",
    "# 모델 설정하기\n",
    "model.compile(loss='categorical_crossentropy', optimizer='adam', metrics=['accuracy'])\n",
    "\n",
    "# 모델 학습시키기\n",
    "model.fit_generator(train_generator, steps_per_epoch=1000,\n",
    "        epochs=20, validation_data=test_generator, validation_steps=5, verbose = 0)\n",
    "\n",
    "# 모델 평가하기\n",
    "scores = model.evaluate_generator(test_generator,steps = 5)\n",
    "print(\"예측의 정확도는 {} % 입니다.\".format(scores[1]*100))\n",
    "# 모델 예측하기\n",
    "# print(\"-- 예측 --\")\n",
    "# output = model.predict_generator(test_generator, steps = 5)\n",
    "# np.set_printoptions(formatter={'float': lambda x: \"{0:0.3f}\".format(x)})\n",
    "# print(output)"
   ]
  },
  {
   "cell_type": "markdown",
   "metadata": {},
   "source": [
    "도형을 분류하는 간단한 문제에서 데이터 부풀리기 방법에 대하여 알아보았고, 각 파라미터 별로 어떻게 데이터가 부풀어지는지 살펴보았습니다.\n",
    "> 데이터 부풀리기 방법은 학습용 데이터가 충분하지 않을때 성능 개선에 큰 도움을 줍니다.\n",
    "\n",
    "\n",
    "## 순환 신경망 모델 RNN (Recurrent Neural Network)\n",
    "\n",
    "순환 신경망 모델은 순차적인 자료에서 규칙을 찾습니다. 케라스에서 제공하는 순환 신경망 레이어중 가장 흔히 쓰이는 LSTM(Long Short-Term Memory units) 레이어를 알아보겠습니다. \n",
    "\n",
    "### LSTM 레이어\n",
    "\n",
    "사용법은 Dense 레이어와 비슷하지만, 시퀀스 출력여부와 상태 유지 설정으로 다양한 형태로 구성할 수 있습니다.\n",
    "\n",
    "```python\n",
    "LSTM(3, input_dim= 1, input_length=4)\n",
    "```\n",
    "\n",
    "-  첫번째 인자:\n",
    "- input_dim\n",
    "- input_length:\n",
    "\n",
    "## 순환 신경망 모델 만들기\n",
    "앞서 살펴본 LSTM 레이어를 사용해 순환 신경망 모델을 만들어 보겠습니다.\n",
    "\n",
    "### 1. 데이터 준비\n",
    "\n",
    "사람의 Y염색체 DNA서열중 반복서열이 있는 조각을 가지고 해보겠습니다.\n",
    "\n",
    "    AGATAGACAGATTAGATGATAGGGAGATGATACATAGAAGGTAGATAGATAGATAGATAGATAGATAGAT\n",
    "    AGATAGATAGATAGATAATACATAGATAATTAATGGATAGATATATAGA\n",
    "    \n",
    "약 87%의 정확도로 AGAT가 반복됩니다. 길이는 약 30번 반복이고요.  \n",
    "    \n",
    "DNA 서열 처럼 문자로 구성되어 있는 것은 모델 입출력으로 사용할 수 없기 때문에 각각을 를 숫자로 변환할 수 있는 사전을 하나 만들어봅니다.  \n",
    "첫번째 사전은 DNA를 숫자로, 두번째 사전은 숫자를 DNA로 만들어 줍니다.\n"
   ]
  },
  {
   "cell_type": "code",
   "execution_count": 8,
   "metadata": {},
   "outputs": [],
   "source": [
    "# 사용할 패키지 불러오기\n",
    "import keras\n",
    "from keras.models import Sequential\n",
    "from keras.layers import Dense, LSTM\n",
    "from keras.utils import np_utils\n",
    "import numpy as np\n",
    "import matplotlib.pyplot as plt\n",
    "%matplotlib inline\n",
    "\n",
    "# 코드 사전 정의\n",
    "code2idx = {'A':0, 'C':1, 'T':2, 'G':3}\n",
    "idx2code = {0:'A', 1:'C', 2:'T', 3:'G'}"
   ]
  },
  {
   "cell_type": "markdown",
   "metadata": {},
   "source": [
    "이제 DNA 서열을 가지고 학습용 데이터로 만들어 보겠습니다."
   ]
  },
  {
   "cell_type": "code",
   "execution_count": 9,
   "metadata": {},
   "outputs": [
    {
     "name": "stdout",
     "output_type": "stream",
     "text": [
      "(115, 5)\n",
      "[[0 3 0 2 0]\n",
      " [3 0 2 0 3]\n",
      " [0 2 0 3 0]\n",
      " [2 0 3 0 1]]\n"
     ]
    }
   ],
   "source": [
    "# 2. 데이터셋 생성하기\n",
    "seq = list('AGATAGACAGATTAGATGATAGGGAGATGATACATAGAAGG\\\n",
    "TAGATAGATAGATAGATAGATAGATAGATAGATAGATAGATAGATAATACATA\\\n",
    "GATAATTAATGGATAGATATATAGA')\n",
    "\n",
    "# 데이터셋 생성 함수   \n",
    "def seq2dataset(seq, window_size):\n",
    "    dataset = []\n",
    "    for i in range(len(seq)-window_size):\n",
    "        subset = seq[i:(i+window_size+1)]\n",
    "        dataset.append([code2idx[item] for item in subset])\n",
    "    return np.array(dataset)\n",
    "\n",
    "dataset = seq2dataset(seq, window_size = 4)\n",
    "\n",
    "print(dataset.shape)\n",
    "print(dataset[:4]) # 앞쪽 4개만 확인하기"
   ]
  },
  {
   "cell_type": "markdown",
   "metadata": {},
   "source": [
    "DNA 서열을 5개씩 잘르고 각각에 DNA를 숫자로 변환했습니다.\n"
   ]
  },
  {
   "cell_type": "code",
   "execution_count": 10,
   "metadata": {
    "scrolled": true
   },
   "outputs": [
    {
     "name": "stdout",
     "output_type": "stream",
     "text": [
      "one hot encoding vector size is  4\n"
     ]
    },
    {
     "data": {
      "image/png": "[encoded data removed]",
      "text/plain": [
       "<matplotlib.figure.Figure at 0x7fcbf805f470>"
      ]
     },
     "metadata": {},
     "output_type": "display_data"
    },
    {
     "name": "stdout",
     "output_type": "stream",
     "text": [
      "115/115 [==============================] - 0s 653us/step\n",
      "정확도는 86.08695672905964 % 입니다.\n"
     ]
    }
   ],
   "source": [
    "# 입력(X)과 출력(Y) 변수로 분리하기\n",
    "x_train = dataset[:,0:4]\n",
    "y_train = dataset[:,4]\n",
    "\n",
    "max_idx_value = 13\n",
    "\n",
    "# 입력값 정규화 시키기\n",
    "x_train = x_train / float(max_idx_value)\n",
    "\n",
    "# 입력을 (샘플 수, 타입스텝, 특성 수)로 형태 변환\n",
    "x_train = np.reshape(x_train, (115, 4, 1))\n",
    "\n",
    "# 라벨값에 대한 one-hot 인코딩 수행\n",
    "y_train = np_utils.to_categorical(y_train)\n",
    "\n",
    "one_hot_vec_size = y_train.shape[1]\n",
    "\n",
    "# print(\"one hot encoding vector size is \", one_hot_vec_size)\n",
    "\n",
    "# 3. 모델 구성하기\n",
    "model = Sequential()\n",
    "model.add(LSTM(128, input_shape = (4, 1)))\n",
    "model.add(Dense(one_hot_vec_size, activation='softmax'))\n",
    "\n",
    "# 4. 모델 학습과정 설정하기\n",
    "model.compile(loss='categorical_crossentropy', optimizer='adam', metrics=['accuracy'])\n",
    "\n",
    "# 손실 이력 클래스 정의\n",
    "class LossHistory(keras.callbacks.Callback):\n",
    "    def init(self):\n",
    "        self.losses = []\n",
    "        \n",
    "    def on_epoch_end(self, batch, logs={}):\n",
    "        self.losses.append(logs.get('loss'))\n",
    "\n",
    "history = LossHistory() # 손실 이력 객체 생성\n",
    "history.init()\n",
    "\n",
    "# 5. 모델 학습시키기\n",
    "model.fit(x_train, y_train, epochs=2000, batch_size=14, callbacks=[history], \n",
    "          verbose = 0)\n",
    "\n",
    "# 6. 학습과정 시각화\n",
    "plt.plot(history.losses)\n",
    "plt.ylabel('loss')\n",
    "plt.xlabel('epoch')\n",
    "plt.show()\n",
    "\n",
    "# 7. 모델 평가하기\n",
    "scores = model.evaluate(x_train, y_train)\n",
    "print(\"정확도는 {} % 입니다.\".format(scores[1]*100))\n",
    "\n",
    "# 8. 모델 사용하기\n",
    "pred_count = 115 # 최대 예측 개수 정의"
   ]
  },
  {
   "cell_type": "code",
   "execution_count": 11,
   "metadata": {},
   "outputs": [
    {
     "name": "stdout",
     "output_type": "stream",
     "text": [
      "one step prediction :  AGATAGATGGATAAGATAATAGAGAGATAATAGATAGATGGTAGATAGATAGATAGATAGATAGATAGATAGATAGATAGATAGATAGTACATAGATAGTAAGTAAATAGATAGATATA\n"
     ]
    }
   ],
   "source": [
    "# 한 구절만 예측\n",
    "# AGAT\n",
    "seq_out = ['A', 'G', 'A', 'T']\n",
    "pred_out = model.predict(x_train)\n",
    "\n",
    "for i in range(pred_count):\n",
    "    idx = np.argmax(pred_out[i]) # one-hot 인코딩을 인덱스 값으로 변환\n",
    "    seq_out.append(idx2code[idx]) # seq_out는 최종 서열이므로 인덱스 값을 코드로 변환하여 저장\n",
    "    \n",
    "print(\"one step prediction : \", ''.join(seq_out))"
   ]
  },
  {
   "cell_type": "code",
   "execution_count": 12,
   "metadata": {},
   "outputs": [
    {
     "name": "stdout",
     "output_type": "stream",
     "text": [
      "full song prediction :  AGATAGATAGATAGATAGATAGATAGATAGATAGATAGATAGATAGATAGATAGATAGATAGATAGATAGATAGATAGATAGATAGATAGATAGATAGATAGATAGATAGATAGATAGA\n"
     ]
    }
   ],
   "source": [
    "# 곡 전체 예측\n",
    "\n",
    "seq_in = ['A', 'G', 'A', 'T']\n",
    "seq_out = seq_in\n",
    "# 코드를 인덱스값으로 변환\n",
    "seq_in = [code2idx[it] / float(max_idx_value) for it in seq_in] \n",
    "\n",
    "for i in range(pred_count):\n",
    "    sample_in = np.array(seq_in)\n",
    "    sample_in = np.reshape(sample_in, (1, 4, 1)) # 샘플 수, 타입스텝 수, 속성 수\n",
    "    pred_out = model.predict(sample_in)\n",
    "    idx = np.argmax(pred_out)\n",
    "    seq_out.append(idx2code[idx])\n",
    "    seq_in.append(idx / float(max_idx_value))\n",
    "    seq_in.pop(0)\n",
    "\n",
    "print(\"full song prediction : \", ''.join(seq_out))"
   ]
  },
  {
   "cell_type": "markdown",
   "metadata": {},
   "source": [
    "## 콜백 함수 만들기\n",
    "`fit()` 함수를 여러번 호출하는 순환신경망 모델에서는 기존의 `history` 기능을 사용할 수 없기 때문에 사용자 정의 콜백함수를 만들어 보겠습니다.\n"
   ]
  },
  {
   "cell_type": "code",
   "execution_count": 13,
   "metadata": {},
   "outputs": [],
   "source": [
    "import keras\n",
    "# 사용자 정의 콜백 함수\n",
    "class CustomHistory(keras.callbacks.Callback):\n",
    "    def __init__(self):\n",
    "        self.train_loss = []\n",
    "        self.val_loss = []\n",
    "        self.train_acc = []\n",
    "        self.val_acc = []\n",
    "    def on_epoch_end(self, batch, logs = {}):\n",
    "        self.train_loss.append(logs.get('loss'))\n",
    "        self.val_loss.append(logs.get('val_loss'))\n",
    "        self.train_acc.append(logs.get())"
   ]
  },
  {
   "cell_type": "markdown",
   "metadata": {},
   "source": [
    "# 상태유지 LSTM 모델\n",
    "이번에는 상태유지(Stateful) LSTM 모델에 대해서 알아보겠습니다. 여기서 상태유지라는 것은 현재 학습된 상태가 다음 학습 시 초기 상태로 전달된다는 것을 의미합니다\n",
    "> 상태 유지 모드에서는 현재 샘플의 학습 상태가 다음 샘플의 초기 상태\n",
    "\n",
    "긴 시퀀스 데이터를 처리할 때 권장됩니다. \n",
    "LSTM 레이어 생성시 다음과 같이 처리하면 됩니다. \n",
    "```python\n",
    "model = Sequential()\n",
    "model.add(LSTM(128, batch_input_shape = (1, 4, 1), stateful = True))\n",
    "model.add(Dense(one_hot_vec_size, activation='softmax'))\n",
    "```\n",
    "\n",
    "## 상태유지 순환 신경망 RNN 모델 만들기\n",
    "\n",
    "### 1. 데이터 준비\n",
    "시간의 흐름에 따라 진폭이 -1 에서 1사이로 변하는 코사인 데이터를 만들어 보겠습니다. 이러한 데이터를 시계열 수치라고 하죠.\n"
   ]
  },
  {
   "cell_type": "code",
   "execution_count": 24,
   "metadata": {},
   "outputs": [
    {
     "data": {
      "text/plain": [
       "[<matplotlib.lines.Line2D at 0x7fcadec88f60>]"
      ]
     },
     "execution_count": 24,
     "metadata": {},
     "output_type": "execute_result"
    },
    {
     "data": {
      "image/png": "[encoded data removed]",
      "text/plain": [
       "<matplotlib.figure.Figure at 0x7fcae26797b8>"
      ]
     },
     "metadata": {},
     "output_type": "display_data"
    }
   ],
   "source": [
    "# 0. 사용할 패키지 불러오기\n",
    "import numpy as np\n",
    "from keras.models import Sequential\n",
    "from keras.layers import Dense, LSTM, Dropout\n",
    "from sklearn.preprocessing import MinMaxScaler\n",
    "import matplotlib.pyplot as plt\n",
    "%matplotlib inline\n",
    "# 1. 데이터셋 생성하기\n",
    "signal_data = np.cos(np.arange(600)*(20*np.pi/1000))[:,None]\n",
    "plt.plot(np.arange(600), signal_data) # 생성한 데이터 시각화"
   ]
  },
  {
   "cell_type": "markdown",
   "metadata": {},
   "source": [
    "데이터를 모델에 학습시키기 위해서 전처리가 필요합니다."
   ]
  },
  {
   "cell_type": "code",
   "execution_count": 18,
   "metadata": {},
   "outputs": [],
   "source": [
    "def create_dataset(signal_data, look_back=1):\n",
    "    dataX, dataY = [], []\n",
    "    for i in range(len(signal_data)-look_back):\n",
    "        dataX.append(signal_data[i:(i+look_back), 0])\n",
    "        dataY.append(signal_data[i + look_back, 0])\n",
    "    return np.array(dataX), np.array(dataY)\n",
    "\n",
    "class CustomHistory(keras.callbacks.Callback):\n",
    "    def init(self):\n",
    "        self.train_loss = []\n",
    "        self.val_loss = []\n",
    "        \n",
    "    def on_epoch_end(self, batch, logs={}):\n",
    "        self.train_loss.append(logs.get('loss'))\n",
    "        self.val_loss.append(logs.get('val_loss'))\n",
    "\n",
    "look_back = 40\n",
    "# 데이터 전처리\n",
    "scaler = MinMaxScaler(feature_range=(0, 1))\n",
    "signal_data = scaler.fit_transform(signal_data)\n",
    "\n",
    "# 데이터 분리\n",
    "train = signal_data[0:400]\n",
    "val = signal_data[400:500]\n",
    "test = signal_data[600:]\n",
    "\n",
    "# 데이터셋 생성\n",
    "x_train, y_train = create_dataset(train, look_back)\n",
    "x_val, y_val = create_dataset(val, look_back)\n",
    "x_test, y_test = create_dataset(test, look_back)\n",
    "\n",
    "# 데이터셋 전처리\n",
    "x_train = np.reshape(x_train, (x_train.shape[0], x_train.shape[1], 1))\n",
    "x_val = np.reshape(x_val, (x_val.shape[0], x_val.shape[1], 1))\n",
    "x_test = np.reshape(x_test, (x_test.shape[0], x_test.shape[1], 1))"
   ]
  },
  {
   "cell_type": "markdown",
   "metadata": {},
   "source": [
    "### 2. 모델 준비\n",
    "\n",
    "시계열 수치를 입력받아 예측하기 위해 상태 유지 다층 순환신경망 모델을 사용하겠습니다. 코드는 아래와 같습니다.\n",
    "\n",
    "> 학습 시간이 아주 오래걸리니 주의하세요."
   ]
  },
  {
   "cell_type": "code",
   "execution_count": 20,
   "metadata": {},
   "outputs": [
    {
     "name": "stdout",
     "output_type": "stream",
     "text": [
      "Train on 760 samples, validate on 360 samples\n",
      "Epoch 1/1\n",
      "760/760 [==============================] - 39s 51ms/step - loss: 0.0886 - val_loss: 0.0518\n",
      "Train on 760 samples, validate on 360 samples\n",
      "Epoch 1/1\n",
      "760/760 [==============================] - 39s 51ms/step - loss: 0.0330 - val_loss: 0.0314\n",
      "Train on 760 samples, validate on 360 samples\n",
      "Epoch 1/1\n",
      "760/760 [==============================] - 38s 50ms/step - loss: 0.0187 - val_loss: 0.0094\n",
      "Train on 760 samples, validate on 360 samples\n",
      "Epoch 1/1\n",
      "760/760 [==============================] - 39s 51ms/step - loss: 0.0103 - val_loss: 0.0326\n",
      "Train on 760 samples, validate on 360 samples\n",
      "Epoch 1/1\n",
      "760/760 [==============================] - 37s 49ms/step - loss: 0.0130 - val_loss: 0.0013\n",
      "Train on 760 samples, validate on 360 samples\n",
      "Epoch 1/1\n",
      "760/760 [==============================] - 38s 50ms/step - loss: 0.0066 - val_loss: 0.0249\n",
      "Train on 760 samples, validate on 360 samples\n",
      "Epoch 1/1\n",
      "760/760 [==============================] - 37s 49ms/step - loss: 0.0179 - val_loss: 0.0159\n",
      "Train on 760 samples, validate on 360 samples\n",
      "Epoch 1/1\n",
      "760/760 [==============================] - 39s 51ms/step - loss: 0.0315 - val_loss: 0.0077\n",
      "Train on 760 samples, validate on 360 samples\n",
      "Epoch 1/1\n",
      "760/760 [==============================] - 36s 47ms/step - loss: 0.0085 - val_loss: 0.0098\n",
      "Train on 760 samples, validate on 360 samples\n",
      "Epoch 1/1\n",
      "760/760 [==============================] - 38s 50ms/step - loss: 0.0082 - val_loss: 0.0544\n",
      "Train on 760 samples, validate on 360 samples\n",
      "Epoch 1/1\n",
      "760/760 [==============================] - 38s 51ms/step - loss: 0.0105 - val_loss: 0.0106\n",
      "Train on 760 samples, validate on 360 samples\n",
      "Epoch 1/1\n",
      "760/760 [==============================] - 38s 51ms/step - loss: 0.0080 - val_loss: 0.0223\n",
      "Train on 760 samples, validate on 360 samples\n",
      "Epoch 1/1\n",
      "760/760 [==============================] - 39s 52ms/step - loss: 0.0072 - val_loss: 0.0140\n",
      "Train on 760 samples, validate on 360 samples\n",
      "Epoch 1/1\n",
      "760/760 [==============================] - 39s 51ms/step - loss: 0.0066 - val_loss: 0.0201\n",
      "Train on 760 samples, validate on 360 samples\n",
      "Epoch 1/1\n",
      "760/760 [==============================] - 38s 50ms/step - loss: 0.0099 - val_loss: 0.0155\n",
      "Train on 760 samples, validate on 360 samples\n",
      "Epoch 1/1\n",
      "760/760 [==============================] - 39s 51ms/step - loss: 0.0074 - val_loss: 0.0105\n",
      "Train on 760 samples, validate on 360 samples\n",
      "Epoch 1/1\n",
      "760/760 [==============================] - 37s 49ms/step - loss: 0.0082 - val_loss: 0.0118\n",
      "Train on 760 samples, validate on 360 samples\n",
      "Epoch 1/1\n",
      "760/760 [==============================] - 38s 51ms/step - loss: 0.0055 - val_loss: 0.0094\n",
      "Train on 760 samples, validate on 360 samples\n",
      "Epoch 1/1\n",
      "760/760 [==============================] - 38s 50ms/step - loss: 0.0069 - val_loss: 0.0279\n",
      "Train on 760 samples, validate on 360 samples\n",
      "Epoch 1/1\n",
      "760/760 [==============================] - 37s 49ms/step - loss: 0.0065 - val_loss: 0.0100\n"
     ]
    }
   ],
   "source": [
    "# 2. 모델 구성하기\n",
    "model = Sequential()\n",
    "for i in range(2):\n",
    "    model.add(LSTM(32, batch_input_shape=(1, look_back, 1), stateful=True, \n",
    "                   return_sequences=True))\n",
    "    model.add(Dropout(0.3))\n",
    "model.add(LSTM(32, batch_input_shape=(1, look_back, 1), stateful=True))\n",
    "model.add(Dropout(0.3))\n",
    "model.add(Dense(1))\n",
    "\n",
    "# 3. 모델 학습과정 설정하기\n",
    "model.compile(loss='mean_squared_error', optimizer='adam')\n",
    "\n",
    "# 4. 모델 학습시키기\n",
    "custom_hist = CustomHistory()\n",
    "custom_hist.init()\n",
    "\n",
    "for i in range(50):\n",
    "    model.fit(x_train, y_train, epochs=1, batch_size=1, shuffle=False, \n",
    "              callbacks=[custom_hist], validation_data=(x_val, y_val), verbose= 0)\n",
    "    model.reset_states()"
   ]
  },
  {
   "cell_type": "code",
   "execution_count": 21,
   "metadata": {},
   "outputs": [
    {
     "data": {
      "image/png": "[encoded data removed]",
      "text/plain": [
       "<matplotlib.figure.Figure at 0x7fcae0b384e0>"
      ]
     },
     "metadata": {},
     "output_type": "display_data"
    }
   ],
   "source": [
    "# 5. 학습과정 살펴보기\n",
    "plt.plot(custom_hist.train_loss)\n",
    "plt.plot(custom_hist.val_loss)\n",
    "plt.ylim(0.0, 0.15)\n",
    "plt.ylabel('loss')\n",
    "plt.xlabel('epoch')\n",
    "plt.legend(['train', 'val'], loc='upper left')\n",
    "plt.show()"
   ]
  },
  {
   "cell_type": "code",
   "execution_count": 22,
   "metadata": {},
   "outputs": [
    {
     "name": "stdout",
     "output_type": "stream",
     "text": [
      "Train Score:  0.0108638174465\n",
      "Validataion Score:  0.010081660722\n",
      "Test Score:  0.010081660722\n"
     ]
    }
   ],
   "source": [
    "# 6. 모델 평가하기\n",
    "trainScore = model.evaluate(x_train, y_train, batch_size=1, verbose=0)\n",
    "model.reset_states()\n",
    "print('Train Score: ', trainScore)\n",
    "valScore = model.evaluate(x_val, y_val, batch_size=1, verbose=0)\n",
    "model.reset_states()\n",
    "print('Validataion Score: ', valScore)\n",
    "testScore = model.evaluate(x_test, y_test, batch_size=1, verbose=0)\n",
    "model.reset_states()\n",
    "print('Test Score: ', testScore)"
   ]
  },
  {
   "cell_type": "code",
   "execution_count": 23,
   "metadata": {},
   "outputs": [
    {
     "data": {
      "image/png": "[encoded data removed]",
      "text/plain": [
       "<matplotlib.figure.Figure at 0x7fcadede7710>"
      ]
     },
     "metadata": {},
     "output_type": "display_data"
    }
   ],
   "source": [
    "# 7. 모델 사용하기\n",
    "look_ahead = 250\n",
    "xhat = x_test[0]\n",
    "predictions = np.zeros((look_ahead,1))\n",
    "for i in range(look_ahead):\n",
    "    prediction = model.predict(np.array([xhat]), batch_size=1)\n",
    "    predictions[i] = prediction\n",
    "    xhat = np.vstack([xhat[1:],prediction])\n",
    "    \n",
    "plt.figure(figsize=(12,5))\n",
    "plt.plot(np.arange(look_ahead),predictions,'r',label=\"prediction\")\n",
    "plt.plot(np.arange(look_ahead),y_test[:look_ahead],label=\"test function\")\n",
    "plt.legend()\n",
    "plt.show()"
   ]
  },
  {
   "cell_type": "markdown",
   "metadata": {},
   "source": [
    "진폭과 주기가 거의 유사한 형태의 결과를 얻었습니다. \n",
    "\n",
    "기본적으로 상태유지 모드에서는 배치 사이즈를 1로 설정합니다. 하지만 서로 성격이 다른 시계열 자료가 있다면 개수를 추가 합니다. 예를 들면 주식 3종목을 학습한다면 배치 사이즈를 3으로 설정해야 합니다.\n",
    "\n",
    "# 마치며\n",
    "\n",
    "딥러닝 라이브러리 케라스에 대해 알아 보았습니다. 케라스는 너무나도 편리합니다. 짧은 코드로 다양한 딥러닝 모델(다층 퍼셉트론, 합성곱 신경망, 순환 신경망등)을 쉽게 생성하고 테스트 해볼수 있죠.  \n",
    "\n",
    "진짜 문제는 어느 상황에 어떠한 모델을 쓰고 적절한 파라미터 값은 무엇인지 아는 것입니다. 이것은 좀 더 많은 경험과 공부가 필요 할 것 같습니다."
   ]
  }
 ],
 "metadata": {
  "kernelspec": {
   "display_name": "Python 3",
   "language": "python",
   "name": "python3"
  },
  "language_info": {
   "codemirror_mode": {
    "name": "ipython",
    "version": 3
   },
   "file_extension": ".py",
   "mimetype": "text/x-python",
   "name": "python",
   "nbconvert_exporter": "python",
   "pygments_lexer": "ipython3",
   "version": "3.6.3"
  }
 },
 "nbformat": 4,
 "nbformat_minor": 2
}
