{
 "cells": [
  {
   "cell_type": "markdown",
   "metadata": {},
   "source": [
    "# 7 Using the Protein Data Bank\n",
    "\n",
    "In this chapter, we will cover the following recipes:\n",
    "- Finding a protein in multiple databases\n",
    "- Introducing Bio.PDB\n",
    "- Extracting more information from a PDB file\n",
    "- Computing molecular distances on a PDB file\n",
    "- Performing geometric operations\n",
    "- Implementing a basic PDB parser\n",
    "- Animating with PyMol\n",
    "- Parsing mmCIF files with Biopython\n",
    "\n",
    "## introduction\n",
    "Proteomics is  the study of proteins that includes the protein function and structure. One of the main objectives of this field is to characterize the 3D structure of proteins. \n",
    "\n",
    "In this chapter, we will mostly focus on processing data from the PDB. We will see how to parse PDB files, perform some geometric computations, and visualize molecules. \n",
    "\n",
    "Throughout this chapter, we will use a classic example of a protein: Tumor protein p53, a protein involved in the regulation of the cell cycle (for example, apoptosis). \n",
    "\n",
    "## Finding a protein in multiple databases\n",
    "Before we start performing some more structural biology, we will see how to access existing proteomic databases such as UniProt. We will query UniProt for our gene of interest: *TP53*  and take it from there.\n"
   ]
  },
  {
   "cell_type": "code",
   "execution_count": 4,
   "metadata": {},
   "outputs": [],
   "source": [
    "import requests\n",
    "server = 'http://www.uniprot.org/uniprot'\n",
    "def do_request(server, ID='', **kwargs):\n",
    "    '''Uniprot 에서 REST 쿼리를 보냄\n",
    "    '''\n",
    "    params = ''\n",
    "    req = requests.get('%s/%s%s' % (server, ID, params),params=kwargs)\n",
    "    if not req.ok:\n",
    "        req.raise_for_status()\n",
    "    return req\n",
    "\n",
    "# p53 gene 불러오기\n",
    "req = do_request(server, query='gene:p53 AND reviewed:yes', format='tab', \n",
    "                 columns='id,entryname,length,organism,organism-id,database(PDB),database(HGNC)',\n",
    "                 limit='50')"
   ]
  },
  {
   "cell_type": "markdown",
   "metadata": {},
   "source": [
    "Let's check the result as follows:"
   ]
  },
  {
   "cell_type": "code",
   "execution_count": 11,
   "metadata": {},
   "outputs": [
    {
     "name": "stdout",
     "output_type": "stream",
     "text": [
      "     Entry  Length                                           Organism     ID  \\\n",
      "0   Q8SPZ3     387               Delphinapterus leucas (Beluga whale)   9749   \n",
      "1   P56423     393  Macaca fascicularis (Crab-eating macaque) (Cyn...   9541   \n",
      "2   P79820     352  Oryzias latipes (Japanese rice fish) (Japanese...   8090   \n",
      "3   O12946     366  Platichthys flesus (European flounder) (Pleuro...   8260   \n",
      "4   P02340     387                               Mus musculus (Mouse)  10090   \n",
      "5   Q92143     342  Xiphophorus maculatus (Southern platyfish) (Pl...   8083   \n",
      "6   O93379     376  Ictalurus punctatus (Channel catfish) (Silurus...   7998   \n",
      "7   O09185     393  Cricetulus griseus (Chinese hamster) (Cricetul...  10029   \n",
      "8   P61260     393          Macaca fuscata fuscata (Japanese macaque)   9543   \n",
      "9   P56424     393                    Macaca mulatta (Rhesus macaque)   9544   \n",
      "10  P25035     396  Oncorhynchus mykiss (Rainbow trout) (Salmo gai...   8022   \n",
      "11  Q9TUB2     386                                   Sus scrofa (Pig)   9823   \n",
      "12  Q9W679     367                    Tetraodon miurus (Congo puffer)  94908   \n",
      "13  O57538     342              Xiphophorus helleri (Green swordtail)   8084   \n",
      "14  Q9W678     369           Barbus barbus (Barbel) (Cyprinus barbus)  40830   \n",
      "15  Q29537     381    Canis lupus familiaris (Dog) (Canis familiaris)   9615   \n",
      "16  P79892     280                             Equus caballus (Horse)   9796   \n",
      "17  P04637     393                               Homo sapiens (Human)   9606   \n",
      "18  Q9TTA1     393  Tupaia belangeri (Common tree shrew) (Tupaia g...  37347   \n",
      "19  P10361     391                            Rattus norvegicus (Rat)  10116   \n",
      "20  Q42578     335             Arabidopsis thaliana (Mouse-ear cress)   3702   \n",
      "\n",
      "                                Cross-reference (PDB) Cross-reference (HGNC)  \n",
      "0                                                 NaN                    NaN  \n",
      "1                                                 NaN                    NaN  \n",
      "2                                                 NaN                    NaN  \n",
      "3                                                 NaN                    NaN  \n",
      "4            1HU8;2GEQ;2IOI;2IOM;2IOO;2P52;3EXJ;3EXL;                    NaN  \n",
      "5                                                 NaN                    NaN  \n",
      "6                                                 NaN                    NaN  \n",
      "7                                                 NaN                    NaN  \n",
      "8                                                 NaN                    NaN  \n",
      "9                                                 NaN                    NaN  \n",
      "10                                                NaN                    NaN  \n",
      "11                                                NaN                    NaN  \n",
      "12                                                NaN                    NaN  \n",
      "13                                                NaN                    NaN  \n",
      "14                                                NaN                    NaN  \n",
      "15                                                NaN                    NaN  \n",
      "16                                                NaN                    NaN  \n",
      "17  1A1U;1AIE;1C26;1DT7;1GZH;1H26;1HS5;1JSP;1KZY;1...                 11998;  \n",
      "18                                                NaN                    NaN  \n",
      "19                                                NaN                    NaN  \n",
      "20                                         1PA2;1QO4;                    NaN  \n"
     ]
    }
   ],
   "source": [
    "import pandas as pd\n",
    "import io\n",
    "\n",
    "uniprot_list = pd.read_table(io.StringIO(req.text))\n",
    "uniprot_list.rename(columns={'Organism ID': 'ID'}, inplace=True)\n",
    "print(uniprot_list)  # or just uniprot_list on IPython"
   ]
  },
  {
   "cell_type": "markdown",
   "metadata": {},
   "source": [
    "Now, we can get the human p53 ID and use Biopython to retrieve and parse the \n",
    "SwissProt  record: "
   ]
  },
  {
   "cell_type": "code",
   "execution_count": 12,
   "metadata": {},
   "outputs": [],
   "source": [
    "from Bio import ExPASy, SwissProt\n",
    "p53_human = uniprot_list[uniprot_list.ID == 9606]['Entry'].tolist()[0]\n",
    "handle = ExPASy.get_sprot_raw(p53_human)\n",
    "sp_rec= SwissProt.read(handle)"
   ]
  },
  {
   "cell_type": "markdown",
   "metadata": {},
   "source": [
    "Let's take a look at the p53 record as follows:"
   ]
  },
  {
   "cell_type": "code",
   "execution_count": 13,
   "metadata": {},
   "outputs": [
    {
     "name": "stdout",
     "output_type": "stream",
     "text": [
      "P53_HUMAN 393 Name=TP53; Synonyms=P53;\n",
      "RecName: Full=Cellular tumor antigen p53; AltName: Full=Antigen NY-CO-13; AltName: Full=Phosphoprotein p53; AltName: Full=Tumor suppressor p53;\n",
      "Homo sapiens (Human). (393, 43653, 'AD5C149FD8106131')\n",
      "MEEPQSDPSVEPPLSQETFSDLWKLLPENNVLSPLPSQAMDDLMLSPDDIEQWFTEDPGPDEAPRMPEAAPPVAPAPAAPTPAAPAPAPSWPLSSSVPSQKTYQGSYGFRLGFLHSGTAKSVTCTYSPALNKMFCQLAKTCPVQLWVDSTPPPGTRVRAMAIYKQSQHMTEVVRRCPHHERCSDSDGLAPPQHLIRVEGNLRVEYLDDRNTFRHSVVVPYEPPEVGSDCTTIHYNYMCNSSCMGGMNRRPILTIITLEDSSGNLLGRNSFEVRVCACPGRDRRTEEENLRKKGEPHHELPPGSTKRALPNNTSSSPQPKKKPLDGEYFTLQIRGRERFEMFRELNEALELKDAQAGKEPGGSRAHSSHLKSKKGQSTSRHKKLMFKTEGPDSD\n"
     ]
    }
   ],
   "source": [
    "print(sp_rec.entry_name, sp_rec.sequence_length, sp_rec.gene_name)\n",
    "print(sp_rec.description)\n",
    "print(sp_rec.organism, sp_rec.seqinfo)\n",
    "print(sp_rec.sequence)"
   ]
  },
  {
   "cell_type": "markdown",
   "metadata": {},
   "source": [
    "## Introducing Bio.PDB\n",
    "Here, we will introduce Biopython's PDB module to deal with the Protein Data Bank. \n",
    "\n",
    "First, let's retrieve our models of interest as follows:"
   ]
  },
  {
   "cell_type": "code",
   "execution_count": 16,
   "metadata": {},
   "outputs": [
    {
     "name": "stderr",
     "output_type": "stream",
     "text": [
      "WARNING: The default download format has changed from PDB to PDBx/mmCif\n"
     ]
    },
    {
     "name": "stdout",
     "output_type": "stream",
     "text": [
      "Downloading PDB structure '1TUP'...\n",
      "Desired structure doesn't exists\n",
      "Downloading PDB structure '1OLG'...\n"
     ]
    },
    {
     "name": "stderr",
     "output_type": "stream",
     "text": [
      "WARNING: The default download format has changed from PDB to PDBx/mmCif\n"
     ]
    },
    {
     "name": "stdout",
     "output_type": "stream",
     "text": [
      "Desired structure doesn't exists\n",
      "Downloading PDB structure '1YCQ'...\n"
     ]
    },
    {
     "name": "stderr",
     "output_type": "stream",
     "text": [
      "WARNING: The default download format has changed from PDB to PDBx/mmCif\n"
     ]
    },
    {
     "name": "stdout",
     "output_type": "stream",
     "text": [
      "Desired structure doesn't exists\n"
     ]
    },
    {
     "ename": "FileNotFoundError",
     "evalue": "[Errno 2] No such file or directory: 'pdb1tup.ent'",
     "output_type": "error",
     "traceback": [
      "\u001b[0;31m---------------------------------------------------------------------------\u001b[0m",
      "\u001b[0;31mFileNotFoundError\u001b[0m                         Traceback (most recent call last)",
      "\u001b[0;32m<ipython-input-16-d6807f0d0c8c>\u001b[0m in \u001b[0;36m<module>\u001b[0;34m()\u001b[0m\n\u001b[1;32m      7\u001b[0m \u001b[0;34m\u001b[0m\u001b[0m\n\u001b[1;32m      8\u001b[0m \u001b[0mparser\u001b[0m \u001b[0;34m=\u001b[0m \u001b[0mPDB\u001b[0m\u001b[0;34m.\u001b[0m\u001b[0mPDBParser\u001b[0m\u001b[0;34m(\u001b[0m\u001b[0;34m)\u001b[0m\u001b[0;34m\u001b[0m\u001b[0m\n\u001b[0;32m----> 9\u001b[0;31m \u001b[0mp53_1tup\u001b[0m \u001b[0;34m=\u001b[0m \u001b[0mparser\u001b[0m\u001b[0;34m.\u001b[0m\u001b[0mget_structure\u001b[0m\u001b[0;34m(\u001b[0m\u001b[0;34m'P 53 - DNA Binding'\u001b[0m\u001b[0;34m,\u001b[0m \u001b[0;34m'pdb1tup.ent'\u001b[0m\u001b[0;34m)\u001b[0m\u001b[0;34m\u001b[0m\u001b[0m\n\u001b[0m\u001b[1;32m     10\u001b[0m \u001b[0mp53_1olg\u001b[0m \u001b[0;34m=\u001b[0m \u001b[0mparser\u001b[0m\u001b[0;34m.\u001b[0m\u001b[0mget_structure\u001b[0m\u001b[0;34m(\u001b[0m\u001b[0;34m'P 53 - Tetramerization'\u001b[0m\u001b[0;34m,\u001b[0m\u001b[0;34m'pdb1olg.ent'\u001b[0m\u001b[0;34m)\u001b[0m\u001b[0;34m\u001b[0m\u001b[0m\n\u001b[1;32m     11\u001b[0m \u001b[0mp53_1ycq\u001b[0m \u001b[0;34m=\u001b[0m \u001b[0mparser\u001b[0m\u001b[0;34m.\u001b[0m\u001b[0mget_structure\u001b[0m\u001b[0;34m(\u001b[0m\u001b[0;34m'P 53 - Transactivation'\u001b[0m\u001b[0;34m,\u001b[0m\u001b[0;34m'pdb1ycq.ent'\u001b[0m\u001b[0;34m)\u001b[0m\u001b[0;34m\u001b[0m\u001b[0m\n",
      "\u001b[0;32m/opt/conda/lib/python3.6/site-packages/Bio/PDB/PDBParser.py\u001b[0m in \u001b[0;36mget_structure\u001b[0;34m(self, id, file)\u001b[0m\n\u001b[1;32m     81\u001b[0m             \u001b[0mself\u001b[0m\u001b[0;34m.\u001b[0m\u001b[0mstructure_builder\u001b[0m\u001b[0;34m.\u001b[0m\u001b[0minit_structure\u001b[0m\u001b[0;34m(\u001b[0m\u001b[0mid\u001b[0m\u001b[0;34m)\u001b[0m\u001b[0;34m\u001b[0m\u001b[0m\n\u001b[1;32m     82\u001b[0m \u001b[0;34m\u001b[0m\u001b[0m\n\u001b[0;32m---> 83\u001b[0;31m             \u001b[0;32mwith\u001b[0m \u001b[0mas_handle\u001b[0m\u001b[0;34m(\u001b[0m\u001b[0mfile\u001b[0m\u001b[0;34m,\u001b[0m \u001b[0mmode\u001b[0m\u001b[0;34m=\u001b[0m\u001b[0;34m'rU'\u001b[0m\u001b[0;34m)\u001b[0m \u001b[0;32mas\u001b[0m \u001b[0mhandle\u001b[0m\u001b[0;34m:\u001b[0m\u001b[0;34m\u001b[0m\u001b[0m\n\u001b[0m\u001b[1;32m     84\u001b[0m                 \u001b[0mself\u001b[0m\u001b[0;34m.\u001b[0m\u001b[0m_parse\u001b[0m\u001b[0;34m(\u001b[0m\u001b[0mhandle\u001b[0m\u001b[0;34m.\u001b[0m\u001b[0mreadlines\u001b[0m\u001b[0;34m(\u001b[0m\u001b[0;34m)\u001b[0m\u001b[0;34m)\u001b[0m\u001b[0;34m\u001b[0m\u001b[0m\n\u001b[1;32m     85\u001b[0m \u001b[0;34m\u001b[0m\u001b[0m\n",
      "\u001b[0;32m/opt/conda/lib/python3.6/contextlib.py\u001b[0m in \u001b[0;36m__enter__\u001b[0;34m(self)\u001b[0m\n\u001b[1;32m     79\u001b[0m     \u001b[0;32mdef\u001b[0m \u001b[0m__enter__\u001b[0m\u001b[0;34m(\u001b[0m\u001b[0mself\u001b[0m\u001b[0;34m)\u001b[0m\u001b[0;34m:\u001b[0m\u001b[0;34m\u001b[0m\u001b[0m\n\u001b[1;32m     80\u001b[0m         \u001b[0;32mtry\u001b[0m\u001b[0;34m:\u001b[0m\u001b[0;34m\u001b[0m\u001b[0m\n\u001b[0;32m---> 81\u001b[0;31m             \u001b[0;32mreturn\u001b[0m \u001b[0mnext\u001b[0m\u001b[0;34m(\u001b[0m\u001b[0mself\u001b[0m\u001b[0;34m.\u001b[0m\u001b[0mgen\u001b[0m\u001b[0;34m)\u001b[0m\u001b[0;34m\u001b[0m\u001b[0m\n\u001b[0m\u001b[1;32m     82\u001b[0m         \u001b[0;32mexcept\u001b[0m \u001b[0mStopIteration\u001b[0m\u001b[0;34m:\u001b[0m\u001b[0;34m\u001b[0m\u001b[0m\n\u001b[1;32m     83\u001b[0m             \u001b[0;32mraise\u001b[0m \u001b[0mRuntimeError\u001b[0m\u001b[0;34m(\u001b[0m\u001b[0;34m\"generator didn't yield\"\u001b[0m\u001b[0;34m)\u001b[0m \u001b[0;32mfrom\u001b[0m \u001b[0;32mNone\u001b[0m\u001b[0;34m\u001b[0m\u001b[0m\n",
      "\u001b[0;32m/opt/conda/lib/python3.6/site-packages/Bio/File.py\u001b[0m in \u001b[0;36mas_handle\u001b[0;34m(handleish, mode, **kwargs)\u001b[0m\n\u001b[1;32m     85\u001b[0m                 \u001b[0;32myield\u001b[0m \u001b[0mfp\u001b[0m\u001b[0;34m\u001b[0m\u001b[0m\n\u001b[1;32m     86\u001b[0m         \u001b[0;32melse\u001b[0m\u001b[0;34m:\u001b[0m\u001b[0;34m\u001b[0m\u001b[0m\n\u001b[0;32m---> 87\u001b[0;31m             \u001b[0;32mwith\u001b[0m \u001b[0mopen\u001b[0m\u001b[0;34m(\u001b[0m\u001b[0mhandleish\u001b[0m\u001b[0;34m,\u001b[0m \u001b[0mmode\u001b[0m\u001b[0;34m,\u001b[0m \u001b[0;34m**\u001b[0m\u001b[0mkwargs\u001b[0m\u001b[0;34m)\u001b[0m \u001b[0;32mas\u001b[0m \u001b[0mfp\u001b[0m\u001b[0;34m:\u001b[0m\u001b[0;34m\u001b[0m\u001b[0m\n\u001b[0m\u001b[1;32m     88\u001b[0m                 \u001b[0;32myield\u001b[0m \u001b[0mfp\u001b[0m\u001b[0;34m\u001b[0m\u001b[0m\n\u001b[1;32m     89\u001b[0m     \u001b[0;32melse\u001b[0m\u001b[0;34m:\u001b[0m\u001b[0;34m\u001b[0m\u001b[0m\n",
      "\u001b[0;31mFileNotFoundError\u001b[0m: [Errno 2] No such file or directory: 'pdb1tup.ent'"
     ]
    }
   ],
   "source": [
    "from __future__ import print_function\n",
    "from Bio import PDB\n",
    "repository = PDB.PDBList()\n",
    "repository.retrieve_pdb_file('1TUP', pdir='.')\n",
    "repository.retrieve_pdb_file('1OLG', pdir='.')\n",
    "repository.retrieve_pdb_file('1YCQ', pdir='.')\n",
    "\n",
    "parser = PDB.PDBParser()\n",
    "p53_1tup = parser.get_structure('P 53 - DNA Binding', 'pdb1tup.ent')\n",
    "p53_1olg = parser.get_structure('P 53 - Tetramerization','pdb1olg.ent')\n",
    "p53_1ycq = parser.get_structure('P 53 - Transactivation','pdb1ycq.ent')\n",
    "\n",
    "def print_pdb_headers(headers, indent=0):\n",
    "    ind_text = ' ' * indent\n",
    "    for header, content in headers.items():\n",
    "        if type(content) == dict:\n",
    "            print('\\n%s%20s:' % (ind_text, header))\n",
    "            print_pdb_headers(content, indent + 4)\n",
    "            print()\n",
    "        elif type(content) == list:\n",
    "            print('%s%20s:' % (ind_text, header))\n",
    "            for elem in content:\n",
    "                print('%s%21s %s' % (ind_text, '->', elem))\n",
    "        else:\n",
    "            print('%s%20s: %s' % (ind_text, header, content))\n",
    "            \n",
    "print_pdb_headers(p53_1tup.header)"
   ]
  },
  {
   "cell_type": "code",
   "execution_count": 5,
   "metadata": {},
   "outputs": [
    {
     "data": {
      "application/vnd.jupyter.widget-view+json": {
       "model_id": "6bd7f3cf3688481ea58eedc1a96519c1",
       "version_major": 2,
       "version_minor": 0
      },
      "text/html": [
       "<p>Failed to display Jupyter Widget of type <code>NGLWidget</code>.</p>\n",
       "<p>\n",
       "  If you're reading this message in the Jupyter Notebook or JupyterLab Notebook, it may mean\n",
       "  that the widgets JavaScript is still loading. If this message persists, it\n",
       "  likely means that the widgets JavaScript library is either not installed or\n",
       "  not enabled. See the <a href=\"https://ipywidgets.readthedocs.io/en/stable/user_install.html\">Jupyter\n",
       "  Widgets Documentation</a> for setup instructions.\n",
       "</p>\n",
       "<p>\n",
       "  If you're reading this message in another frontend (for example, a static\n",
       "  rendering on GitHub or <a href=\"https://nbviewer.jupyter.org/\">NBViewer</a>),\n",
       "  it may mean that your frontend doesn't currently support widgets.\n",
       "</p>\n"
      ],
      "text/plain": [
       "NGLWidget()"
      ]
     },
     "metadata": {},
     "output_type": "display_data"
    }
   ],
   "source": [
    "import nglview as nv\n",
    "view = nv.show_structure_file(nv.datafiles.PDB)\n",
    "view\n",
    "\n"
   ]
  },
  {
   "cell_type": "code",
   "execution_count": null,
   "metadata": {},
   "outputs": [],
   "source": [
    "\n",
    "# Clear all representations to try new ones\n",
    "view.clear_representations()\n",
    "# add licorice without hydrogen\n",
    "view.add_licorice('not hydrogen')\n",
    "# add licorice without hydrogen and use 'blue' for color\n",
    "\n",
    "view.clear_representations()\n",
    "view.add_licorice('not hydrogen', color='blue')\n",
    "# add surface for CA atoms\n",
    "\n",
    "view.clear_representations()\n",
    "view.add_surface('.CA', opacity=0.3)\n",
    "# combine different representations\n",
    "\n",
    "view.clear_representations()\n",
    "view.add_surface('.CA', opacity=0.3)\n",
    "view.add_licorice('not hydrogen')\n",
    "# change to cartoon representation to have nicer view\n",
    "\n",
    "view.clear_representations()\n",
    "view.add_cartoon()\n",
    "view.add_surface(opacity=0.3)\n",
    "\n",
    "\n",
    "\n",
    "# make sure to call render_image in seperate cell\n",
    "view.render_image()\n",
    "\n",
    "\n",
    "\n",
    "# then call _display_image\n",
    "# If you save this notebook to html file, you will see the display image\n",
    "\n",
    "view._display_image()\n"
   ]
  }
 ],
 "metadata": {
  "kernelspec": {
   "display_name": "Python 3",
   "language": "python",
   "name": "python3"
  },
  "language_info": {
   "codemirror_mode": {
    "name": "ipython",
    "version": 3
   },
   "file_extension": ".py",
   "mimetype": "text/x-python",
   "name": "python",
   "nbconvert_exporter": "python",
   "pygments_lexer": "ipython3",
   "version": "3.6.3"
  }
 },
 "nbformat": 4,
 "nbformat_minor": 2
}
