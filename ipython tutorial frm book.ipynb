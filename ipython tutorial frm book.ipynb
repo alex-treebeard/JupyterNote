{
 "metadata": {
  "name": "",
  "signature": "sha256:c3516c3ce7427f6b09928fe0dcd4d56c655f5a3707eaa789a232b91d57fa7e93"
 },
 "nbformat": 3,
 "nbformat_minor": 0,
 "worksheets": [
  {
   "cells": [
    {
     "cell_type": "code",
     "collapsed": false,
     "input": [
      "%pylab inline\n"
     ],
     "language": "python",
     "metadata": {},
     "outputs": [
      {
       "output_type": "stream",
       "stream": "stdout",
       "text": [
        "Populating the interactive namespace from numpy and matplotlib\n"
       ]
      }
     ],
     "prompt_number": 1
    },
    {
     "cell_type": "markdown",
     "metadata": {},
     "source": [
      "We want to know how an investment growns with a fixed interest\n",
      "The *compound interest* formular states that:\n",
      "\n",
      "$$R = Pe^{rt}$$\n",
      "\n",
      "where:\n",
      "\n",
      "-$P$ is the principal.\n",
      "-$r$ is the annual interest rate\n",
      "\n",
      "for detail, see the [wiki](http:// en.wikipedia.org/wiki/)\n"
     ]
    },
    {
     "cell_type": "code",
     "collapsed": false,
     "input": [
      "def return_on_investment(principal, interest_rate, number_of_years):\n",
      "    return principal*e**(interest_rate*number_of_years)\n"
     ],
     "language": "python",
     "metadata": {},
     "outputs": [],
     "prompt_number": 2
    },
    {
     "cell_type": "code",
     "collapsed": false,
     "input": [
      "principal = 250\n",
      "interest_rate = .034\n",
      "tstart = 0.0\n",
      "tend = 5.0\n",
      "npoints = 6"
     ],
     "language": "python",
     "metadata": {},
     "outputs": [],
     "prompt_number": 10
    },
    {
     "cell_type": "code",
     "collapsed": false,
     "input": [
      "tvalues = linspace(tstart, tend, npoints)\n",
      "amount_values = return_on_investment(principal, interest_rate, tvalues)\n",
      "plot(tvalues, amount_values, 'o')\n",
      "title('Return on investment, year {} to {}'.format(tstart, tend))\n",
      "xlabel('years')\n",
      "ylabel('return')\n",
      "tstart += tend\n",
      "tend += tend"
     ],
     "language": "python",
     "metadata": {},
     "outputs": [
      {
       "metadata": {},
       "output_type": "display_data",
       "png": "[encoded data removed]",
       "text": [
        "<matplotlib.figure.Figure at 0x7f783047fd50>"
       ]
      }
     ],
     "prompt_number": 11
    },
    {
     "cell_type": "markdown",
     "metadata": {},
     "source": [
      "we want to know markdown"
     ]
    },
    {
     "cell_type": "code",
     "collapsed": false,
     "input": [],
     "language": "python",
     "metadata": {},
     "outputs": []
    }
   ],
   "metadata": {}
  }
 ]
}