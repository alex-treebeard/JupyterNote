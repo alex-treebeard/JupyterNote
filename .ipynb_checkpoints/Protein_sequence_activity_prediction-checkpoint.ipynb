{
 "cells": [
  {
   "cell_type": "markdown",
   "metadata": {},
   "source": [
    ">sp|P01308|INS_HUMAN Insulin OS=Homo sapiens OX=9606 GN=INS PE=1 SV=1\n",
    "MALWMRLLPLLALLALWGPDPAAAFVNQHLCGSHLVEALYLVCGERGFFYTPKTRREAED\n",
    "LQVGQVELGGGPGAGSLQPLALEGSLQKRGIVEQCCTSICSLYQLENYCN"
   ]
  },
  {
   "cell_type": "code",
   "execution_count": 29,
   "metadata": {},
   "outputs": [
    {
     "name": "stdout",
     "output_type": "stream",
     "text": [
      "HKQKCPGDH, 8\n",
      "KKRTMAKQY, 6\n",
      "RVNKMKYAN, -2\n",
      "RENFCYMAH, -2\n",
      "YWNSRAGAH, 5\n",
      "FPVTQVQWW, 3\n",
      "VDMHGATQK, 11\n",
      "IEGKYSQHV, 8\n",
      "NEKAPNWTG, 7\n",
      "ARFRYGQTP, 11\n",
      "TTHLDVNAH, -2\n",
      "KDYYIWCDV, -2\n",
      "RNYPWYTYY, -2\n",
      "AWGNKGDLG, 1\n",
      "HGHWDTHVP, 0\n",
      "YKGTSEQAF, 8\n",
      "DLSHHWSWI, -2\n",
      "SMVCAYVIT, -2\n",
      "LITRFGGRK, 4\n",
      "EDVVQIILK, 3\n",
      "CATEGVHIC, 3\n",
      "MVKVLWRME, -2\n",
      "DLVQPHRAG, 11\n",
      "GNSVWCRCR, -1\n",
      "MLANAMCMR, -2\n",
      "VGLEGCSHH, 0\n",
      "HHWCQWPSS, 3\n",
      "ENHMGDMQQ, 11\n",
      "SWYRLTQGF, 13\n",
      "KMPLLVMWG, 7\n",
      "AMMVMYMDD, -2\n",
      "ESMNTFFIN, -2\n",
      "LEVCMMPPK, -2\n",
      "SITCCHPHE, -2\n",
      "GNKKVRWRM, -1\n",
      "NSPDPPYWF, -2\n",
      "VFSFLYSFE, -2\n",
      "SWTTLAQQT, 5\n",
      "MFDSTNVQC, 6\n",
      "YKEYHKIWK, -2\n",
      "GDVSHAIMQ, 8\n",
      "ESMNHTFRR, -2\n",
      "ENMEWGHQR, 12\n",
      "WRPEISHHG, 7\n",
      "FGTHKEHGF, 0\n",
      "TSMFPIILK, -2\n",
      "NDRGTKFLF, 2\n",
      "KHCGHWSVV, 2\n",
      "RCTKDCIAY, -2\n",
      "RIERPDPSV, -2\n",
      "MTINWDLSL, -2\n",
      "VALYGYCVQ, 12\n",
      "NCEMWNAMF, -2\n",
      "SNAWKWMDQ, 7\n",
      "VCRKAWMVH, -2\n",
      "IQVHDMHMY, 0\n",
      "IGLHDIVQH, 8\n",
      "VIFGTYPDQ, 11\n",
      "SEVRIWVVC, -2\n",
      "YHIANQFTH, 4\n",
      "VNAHNANEL, -2\n",
      "NYPPMVRPF, -2\n",
      "QSNATWFLH, -1\n",
      "HNSVGLSCK, 3\n",
      "EFQAKGCCY, 7\n",
      "PGKLQALIV, 5\n",
      "PVDRFIFFT, -2\n",
      "SEGEIILWI, 1\n",
      "MPFMAAKYY, -2\n",
      "RPWPMCHAE, -2\n",
      "PFINRRNVM, -2\n",
      "YPAFIKRRA, -2\n",
      "WKGNMKLMP, 1\n",
      "TTSPYMFYA, -2\n",
      "DDTIKCHWP, -2\n",
      "YWAPAPNHQ, 7\n",
      "VTLLCFWYR, -2\n",
      "STAEYGLSM, 4\n",
      "NVISFGMID, 4\n",
      "DPANRCMNW, -2\n",
      "RITDWRMWE, -2\n",
      "IEVKCNNLS, -2\n",
      "RFPHNEIAD, -2\n",
      "FFTCRWTYF, -2\n",
      "TNDMMGGGQ, 13\n",
      "NHAMEREAW, -2\n",
      "VTRIAFTII, -2\n",
      "CYENWSLCI, -2\n",
      "SAMPQPSGH, 11\n",
      "RMDLSNMSQ, 7\n",
      "EEGLISRNA, 1\n",
      "CSAGNGTVH, 2\n",
      "HHKSQYWSH, 3\n",
      "EAMFTCACN, -2\n",
      "KCFCTMHCH, -2\n",
      "VKSQKWDWL, 2\n",
      "RASETGNYV, 4\n",
      "FWKSRCLAD, -2\n",
      "NNKYHMVHM, -2\n",
      "MISCSQPFQ, 4\n",
      "None\n"
     ]
    }
   ],
   "source": [
    "from random import Random\n",
    "\n",
    "def AminoacidGenerator(number, length):\n",
    "#     print '***generate random aminoacid sequence ***'\n",
    "#     codeFile = open('codes.txt', 'w')\n",
    "    if number <= 0:\n",
    "        return 'invalid number of protein'\n",
    "    else:\n",
    "        aminoacid = 'ACDEFGHIKLMNPQRSTVWY'      \n",
    "        random = Random()\n",
    "        for j in range(1, number + 1):\n",
    "            seq = ''\n",
    "            for i in range(1, length+1):\n",
    "                index = random.randint(1,len(aminoacid))\n",
    "                seq = seq + aminoacid[index -1]\n",
    "            activity = seq.find('G') + seq.find('Q')\n",
    "            print(seq+ ', '+ str(activity))\n",
    "#     return str\n",
    "#             codeFile.write(str+'\\n')\n",
    "\n",
    "\n",
    "# 100개 길이의 단백질 서열을 100개 만들어 봅니다. \n",
    "print(AminoacidGenerator(100, 9))"
   ]
  },
  {
   "cell_type": "code",
   "execution_count": 42,
   "metadata": {},
   "outputs": [
    {
     "data": {
      "text/html": [
       "<div>\n",
       "<style scoped>\n",
       "    .dataframe tbody tr th:only-of-type {\n",
       "        vertical-align: middle;\n",
       "    }\n",
       "\n",
       "    .dataframe tbody tr th {\n",
       "        vertical-align: top;\n",
       "    }\n",
       "\n",
       "    .dataframe thead th {\n",
       "        text-align: right;\n",
       "    }\n",
       "</style>\n",
       "<table border=\"1\" class=\"dataframe\">\n",
       "  <thead>\n",
       "    <tr style=\"text-align: right;\">\n",
       "      <th></th>\n",
       "      <th>0</th>\n",
       "      <th>1</th>\n",
       "      <th>2</th>\n",
       "      <th>3</th>\n",
       "      <th>4</th>\n",
       "      <th>5</th>\n",
       "      <th>6</th>\n",
       "      <th>7</th>\n",
       "      <th>8</th>\n",
       "      <th>9</th>\n",
       "      <th>10</th>\n",
       "    </tr>\n",
       "  </thead>\n",
       "  <tbody>\n",
       "    <tr>\n",
       "      <th>95</th>\n",
       "      <td>M</td>\n",
       "      <td>Y</td>\n",
       "      <td>T</td>\n",
       "      <td>H</td>\n",
       "      <td>G</td>\n",
       "      <td>M</td>\n",
       "      <td>C</td>\n",
       "      <td>F</td>\n",
       "      <td>D</td>\n",
       "      <td>T</td>\n",
       "      <td>11</td>\n",
       "    </tr>\n",
       "    <tr>\n",
       "      <th>96</th>\n",
       "      <td>M</td>\n",
       "      <td>V</td>\n",
       "      <td>K</td>\n",
       "      <td>P</td>\n",
       "      <td>N</td>\n",
       "      <td>E</td>\n",
       "      <td>S</td>\n",
       "      <td>K</td>\n",
       "      <td>Y</td>\n",
       "      <td>M</td>\n",
       "      <td>-2</td>\n",
       "    </tr>\n",
       "    <tr>\n",
       "      <th>97</th>\n",
       "      <td>M</td>\n",
       "      <td>Y</td>\n",
       "      <td>D</td>\n",
       "      <td>S</td>\n",
       "      <td>I</td>\n",
       "      <td>M</td>\n",
       "      <td>V</td>\n",
       "      <td>A</td>\n",
       "      <td>D</td>\n",
       "      <td>S</td>\n",
       "      <td>-2</td>\n",
       "    </tr>\n",
       "    <tr>\n",
       "      <th>98</th>\n",
       "      <td>M</td>\n",
       "      <td>M</td>\n",
       "      <td>T</td>\n",
       "      <td>K</td>\n",
       "      <td>I</td>\n",
       "      <td>E</td>\n",
       "      <td>F</td>\n",
       "      <td>C</td>\n",
       "      <td>Q</td>\n",
       "      <td>Y</td>\n",
       "      <td>23</td>\n",
       "    </tr>\n",
       "    <tr>\n",
       "      <th>99</th>\n",
       "      <td>M</td>\n",
       "      <td>M</td>\n",
       "      <td>M</td>\n",
       "      <td>C</td>\n",
       "      <td>T</td>\n",
       "      <td>V</td>\n",
       "      <td>S</td>\n",
       "      <td>W</td>\n",
       "      <td>V</td>\n",
       "      <td>N</td>\n",
       "      <td>-2</td>\n",
       "    </tr>\n",
       "  </tbody>\n",
       "</table>\n",
       "</div>"
      ],
      "text/plain": [
       "   0   1   2   3   4   5   6   7   8   9   10\n",
       "95  M   Y   T   H   G   M   C   F   D   T  11\n",
       "96  M   V   K   P   N   E   S   K   Y   M  -2\n",
       "97  M   Y   D   S   I   M   V   A   D   S  -2\n",
       "98  M   M   T   K   I   E   F   C   Q   Y  23\n",
       "99  M   M   M   C   T   V   S   W   V   N  -2"
      ]
     },
     "execution_count": 42,
     "metadata": {},
     "output_type": "execute_result"
    }
   ],
   "source": [
    "import pandas as pd\n",
    "df = pd.read_csv('./data/random_seq.csv',header=None)\n",
    "df.tail()"
   ]
  },
  {
   "cell_type": "code",
   "execution_count": 97,
   "metadata": {},
   "outputs": [
    {
     "data": {
      "text/html": [
       "<div>\n",
       "<style scoped>\n",
       "    .dataframe tbody tr th:only-of-type {\n",
       "        vertical-align: middle;\n",
       "    }\n",
       "\n",
       "    .dataframe tbody tr th {\n",
       "        vertical-align: top;\n",
       "    }\n",
       "\n",
       "    .dataframe thead th {\n",
       "        text-align: right;\n",
       "    }\n",
       "</style>\n",
       "<table border=\"1\" class=\"dataframe\">\n",
       "  <thead>\n",
       "    <tr style=\"text-align: right;\">\n",
       "      <th></th>\n",
       "      <th>10</th>\n",
       "    </tr>\n",
       "  </thead>\n",
       "  <tbody>\n",
       "    <tr>\n",
       "      <th>count</th>\n",
       "      <td>100.000000</td>\n",
       "    </tr>\n",
       "    <tr>\n",
       "      <th>mean</th>\n",
       "      <td>8.850000</td>\n",
       "    </tr>\n",
       "    <tr>\n",
       "      <th>std</th>\n",
       "      <td>12.077506</td>\n",
       "    </tr>\n",
       "    <tr>\n",
       "      <th>min</th>\n",
       "      <td>-2.000000</td>\n",
       "    </tr>\n",
       "    <tr>\n",
       "      <th>25%</th>\n",
       "      <td>-2.000000</td>\n",
       "    </tr>\n",
       "    <tr>\n",
       "      <th>50%</th>\n",
       "      <td>5.000000</td>\n",
       "    </tr>\n",
       "    <tr>\n",
       "      <th>75%</th>\n",
       "      <td>20.000000</td>\n",
       "    </tr>\n",
       "    <tr>\n",
       "      <th>max</th>\n",
       "      <td>42.000000</td>\n",
       "    </tr>\n",
       "  </tbody>\n",
       "</table>\n",
       "</div>"
      ],
      "text/plain": [
       "               10\n",
       "count  100.000000\n",
       "mean     8.850000\n",
       "std     12.077506\n",
       "min     -2.000000\n",
       "25%     -2.000000\n",
       "50%      5.000000\n",
       "75%     20.000000\n",
       "max     42.000000"
      ]
     },
     "execution_count": 97,
     "metadata": {},
     "output_type": "execute_result"
    }
   ],
   "source": [
    "df.describe()"
   ]
  },
  {
   "cell_type": "code",
   "execution_count": 70,
   "metadata": {},
   "outputs": [
    {
     "data": {
      "text/html": [
       "<div>\n",
       "<style scoped>\n",
       "    .dataframe tbody tr th:only-of-type {\n",
       "        vertical-align: middle;\n",
       "    }\n",
       "\n",
       "    .dataframe tbody tr th {\n",
       "        vertical-align: top;\n",
       "    }\n",
       "\n",
       "    .dataframe thead th {\n",
       "        text-align: right;\n",
       "    }\n",
       "</style>\n",
       "<table border=\"1\" class=\"dataframe\">\n",
       "  <thead>\n",
       "    <tr style=\"text-align: right;\">\n",
       "      <th></th>\n",
       "      <th>0</th>\n",
       "      <th>1</th>\n",
       "      <th>2</th>\n",
       "      <th>3</th>\n",
       "      <th>4</th>\n",
       "      <th>5</th>\n",
       "      <th>6</th>\n",
       "      <th>7</th>\n",
       "      <th>8</th>\n",
       "      <th>9</th>\n",
       "    </tr>\n",
       "  </thead>\n",
       "  <tbody>\n",
       "    <tr>\n",
       "      <th>0</th>\n",
       "      <td>M</td>\n",
       "      <td>F</td>\n",
       "      <td>V</td>\n",
       "      <td>R</td>\n",
       "      <td>M</td>\n",
       "      <td>K</td>\n",
       "      <td>K</td>\n",
       "      <td>Q</td>\n",
       "      <td>M</td>\n",
       "      <td>R</td>\n",
       "    </tr>\n",
       "    <tr>\n",
       "      <th>1</th>\n",
       "      <td>M</td>\n",
       "      <td>F</td>\n",
       "      <td>N</td>\n",
       "      <td>P</td>\n",
       "      <td>H</td>\n",
       "      <td>Y</td>\n",
       "      <td>D</td>\n",
       "      <td>Q</td>\n",
       "      <td>H</td>\n",
       "      <td>A</td>\n",
       "    </tr>\n",
       "    <tr>\n",
       "      <th>2</th>\n",
       "      <td>M</td>\n",
       "      <td>M</td>\n",
       "      <td>K</td>\n",
       "      <td>Y</td>\n",
       "      <td>K</td>\n",
       "      <td>A</td>\n",
       "      <td>A</td>\n",
       "      <td>P</td>\n",
       "      <td>R</td>\n",
       "      <td>G</td>\n",
       "    </tr>\n",
       "    <tr>\n",
       "      <th>3</th>\n",
       "      <td>M</td>\n",
       "      <td>T</td>\n",
       "      <td>T</td>\n",
       "      <td>E</td>\n",
       "      <td>N</td>\n",
       "      <td>H</td>\n",
       "      <td>C</td>\n",
       "      <td>C</td>\n",
       "      <td>H</td>\n",
       "      <td>K</td>\n",
       "    </tr>\n",
       "    <tr>\n",
       "      <th>4</th>\n",
       "      <td>M</td>\n",
       "      <td>R</td>\n",
       "      <td>H</td>\n",
       "      <td>Q</td>\n",
       "      <td>F</td>\n",
       "      <td>Q</td>\n",
       "      <td>L</td>\n",
       "      <td>G</td>\n",
       "      <td>I</td>\n",
       "      <td>N</td>\n",
       "    </tr>\n",
       "  </tbody>\n",
       "</table>\n",
       "</div>"
      ],
      "text/plain": [
       "   0   1   2   3   4   5   6   7   8   9\n",
       "0  M   F   V   R   M   K   K   Q   M   R\n",
       "1  M   F   N   P   H   Y   D   Q   H   A\n",
       "2  M   M   K   Y   K   A   A   P   R   G\n",
       "3  M   T   T   E   N   H   C   C   H   K\n",
       "4  M   R   H   Q   F   Q   L   G   I   N"
      ]
     },
     "execution_count": 70,
     "metadata": {},
     "output_type": "execute_result"
    }
   ],
   "source": [
    "X = df.iloc[:, 0:10]\n",
    "y = df[10]\n",
    "X.head()"
   ]
  },
  {
   "cell_type": "code",
   "execution_count": 72,
   "metadata": {},
   "outputs": [
    {
     "data": {
      "text/plain": [
       "(100,)"
      ]
     },
     "execution_count": 72,
     "metadata": {},
     "output_type": "execute_result"
    }
   ],
   "source": [
    "y.shape"
   ]
  },
  {
   "cell_type": "code",
   "execution_count": 73,
   "metadata": {},
   "outputs": [
    {
     "data": {
      "text/html": [
       "<div>\n",
       "<style scoped>\n",
       "    .dataframe tbody tr th:only-of-type {\n",
       "        vertical-align: middle;\n",
       "    }\n",
       "\n",
       "    .dataframe tbody tr th {\n",
       "        vertical-align: top;\n",
       "    }\n",
       "\n",
       "    .dataframe thead th {\n",
       "        text-align: right;\n",
       "    }\n",
       "</style>\n",
       "<table border=\"1\" class=\"dataframe\">\n",
       "  <thead>\n",
       "    <tr style=\"text-align: right;\">\n",
       "      <th></th>\n",
       "      <th>0</th>\n",
       "      <th>1</th>\n",
       "      <th>2</th>\n",
       "      <th>3</th>\n",
       "      <th>4</th>\n",
       "      <th>5</th>\n",
       "      <th>6</th>\n",
       "      <th>7</th>\n",
       "      <th>8</th>\n",
       "      <th>9</th>\n",
       "    </tr>\n",
       "  </thead>\n",
       "  <tbody>\n",
       "    <tr>\n",
       "      <th>0</th>\n",
       "      <td>0</td>\n",
       "      <td>4</td>\n",
       "      <td>17</td>\n",
       "      <td>14</td>\n",
       "      <td>10</td>\n",
       "      <td>8</td>\n",
       "      <td>8</td>\n",
       "      <td>13</td>\n",
       "      <td>10</td>\n",
       "      <td>14</td>\n",
       "    </tr>\n",
       "    <tr>\n",
       "      <th>1</th>\n",
       "      <td>0</td>\n",
       "      <td>4</td>\n",
       "      <td>11</td>\n",
       "      <td>12</td>\n",
       "      <td>6</td>\n",
       "      <td>19</td>\n",
       "      <td>2</td>\n",
       "      <td>13</td>\n",
       "      <td>6</td>\n",
       "      <td>0</td>\n",
       "    </tr>\n",
       "    <tr>\n",
       "      <th>2</th>\n",
       "      <td>0</td>\n",
       "      <td>10</td>\n",
       "      <td>8</td>\n",
       "      <td>19</td>\n",
       "      <td>8</td>\n",
       "      <td>0</td>\n",
       "      <td>0</td>\n",
       "      <td>12</td>\n",
       "      <td>14</td>\n",
       "      <td>5</td>\n",
       "    </tr>\n",
       "    <tr>\n",
       "      <th>3</th>\n",
       "      <td>0</td>\n",
       "      <td>16</td>\n",
       "      <td>16</td>\n",
       "      <td>3</td>\n",
       "      <td>11</td>\n",
       "      <td>6</td>\n",
       "      <td>1</td>\n",
       "      <td>1</td>\n",
       "      <td>6</td>\n",
       "      <td>8</td>\n",
       "    </tr>\n",
       "    <tr>\n",
       "      <th>4</th>\n",
       "      <td>0</td>\n",
       "      <td>14</td>\n",
       "      <td>6</td>\n",
       "      <td>13</td>\n",
       "      <td>4</td>\n",
       "      <td>13</td>\n",
       "      <td>9</td>\n",
       "      <td>5</td>\n",
       "      <td>7</td>\n",
       "      <td>11</td>\n",
       "    </tr>\n",
       "  </tbody>\n",
       "</table>\n",
       "</div>"
      ],
      "text/plain": [
       "   0   1   2   3   4   5  6   7   8   9\n",
       "0  0   4  17  14  10   8  8  13  10  14\n",
       "1  0   4  11  12   6  19  2  13   6   0\n",
       "2  0  10   8  19   8   0  0  12  14   5\n",
       "3  0  16  16   3  11   6  1   1   6   8\n",
       "4  0  14   6  13   4  13  9   5   7  11"
      ]
     },
     "execution_count": 73,
     "metadata": {},
     "output_type": "execute_result"
    }
   ],
   "source": [
    "X = X.apply(LabelEncoder().fit_transform)\n",
    "X.head()"
   ]
  },
  {
   "cell_type": "code",
   "execution_count": 74,
   "metadata": {},
   "outputs": [
    {
     "name": "stdout",
     "output_type": "stream",
     "text": [
      "(80, 10) (80,)\n"
     ]
    }
   ],
   "source": [
    "from sklearn.model_selection import train_test_split\n",
    "X_train, X_test, y_train, y_test = train_test_split(X,y, test_size=0.2, random_state=42)\n",
    "print(X_train.shape, y_train.shape)"
   ]
  },
  {
   "cell_type": "code",
   "execution_count": 75,
   "metadata": {},
   "outputs": [],
   "source": [
    "from sklearn.linear_model import LinearRegression\n",
    "reg = LinearRegression().fit(X_train, y_train)"
   ]
  },
  {
   "cell_type": "code",
   "execution_count": 76,
   "metadata": {},
   "outputs": [
    {
     "data": {
      "text/plain": [
       "0.09183221657153307"
      ]
     },
     "execution_count": 76,
     "metadata": {},
     "output_type": "execute_result"
    }
   ],
   "source": [
    "reg.score(X_train, y_train)"
   ]
  },
  {
   "cell_type": "code",
   "execution_count": 92,
   "metadata": {},
   "outputs": [
    {
     "data": {
      "text/plain": [
       "LogisticRegression(C=1.0, class_weight=None, dual=False, fit_intercept=True,\n",
       "          intercept_scaling=1, max_iter=100, multi_class='auto',\n",
       "          n_jobs=None, penalty='l2', random_state=42, solver='newton-cg',\n",
       "          tol=0.0001, verbose=0, warm_start=False)"
      ]
     },
     "execution_count": 92,
     "metadata": {},
     "output_type": "execute_result"
    }
   ],
   "source": [
    "from sklearn.linear_model import LogisticRegression\n",
    "clf = LogisticRegression(random_state=42, solver='newton-cg', multi_class='auto')\n",
    "clf.fit(X_train, y_train)"
   ]
  },
  {
   "cell_type": "code",
   "execution_count": 93,
   "metadata": {},
   "outputs": [
    {
     "data": {
      "text/plain": [
       "0.725"
      ]
     },
     "execution_count": 93,
     "metadata": {},
     "output_type": "execute_result"
    }
   ],
   "source": [
    "clf.score(X_train, y_train)"
   ]
  },
  {
   "cell_type": "code",
   "execution_count": 96,
   "metadata": {},
   "outputs": [
    {
     "data": {
      "text/plain": [
       "15.868207208125309"
      ]
     },
     "execution_count": 96,
     "metadata": {},
     "output_type": "execute_result"
    }
   ],
   "source": [
    "y_pred = clf.predict(X_test)\n",
    "\n",
    "from sklearn.metrics import mean_squared_error\n",
    "import numpy as np\n",
    "\n",
    "np.sqrt(mean_squared_error(y_test,y_pred))"
   ]
  },
  {
   "cell_type": "code",
   "execution_count": 98,
   "metadata": {},
   "outputs": [
    {
     "data": {
      "text/plain": [
       "<bound method BaseEstimator.get_params of LogisticRegression(C=1.0, class_weight=None, dual=False, fit_intercept=True,\n",
       "          intercept_scaling=1, max_iter=100, multi_class='auto',\n",
       "          n_jobs=None, penalty='l2', random_state=42, solver='newton-cg',\n",
       "          tol=0.0001, verbose=0, warm_start=False)>"
      ]
     },
     "execution_count": 98,
     "metadata": {},
     "output_type": "execute_result"
    }
   ],
   "source": [
    "clf.get_params"
   ]
  }
 ],
 "metadata": {
  "kernelspec": {
   "display_name": "Python 3",
   "language": "python",
   "name": "python3"
  },
  "language_info": {
   "codemirror_mode": {
    "name": "ipython",
    "version": 3
   },
   "file_extension": ".py",
   "mimetype": "text/x-python",
   "name": "python",
   "nbconvert_exporter": "python",
   "pygments_lexer": "ipython3",
   "version": "3.6.3"
  }
 },
 "nbformat": 4,
 "nbformat_minor": 2
}
