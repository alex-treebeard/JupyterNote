{
 "cells": [
  {
   "cell_type": "markdown",
   "metadata": {},
   "source": [
    "\n",
    "# 0. 시작하기전에\n",
    "\n",
    "[edwith](http://www.edwith.org/aipython/joinLectures/14365)에서 최성철교수님의 강의를 듣고 노트정리를 한 내용입니다. 따라서 사용한 모든 코드와 내용의 저작권은 최성철 교수님에게 있습니다. 보다 자세한 것을 배우고 싶다면 위의 링크에서 강의를 수강하시기 바랍니다.\n",
    "\n",
    "# 1. 교육 환경\n",
    "필요한 모든 라이브러리는 `Anaconda`를 이용해 설치 하였습니다. 사용한 라이브러리는 다음과 같습니다.\n",
    "\n",
    "- Jupyter\n",
    "- Numpy\n",
    "- Pandas\n",
    "- Scikit learn\n",
    "\n",
    "\n",
    "# 2. 파이썬 코드 스타일\n",
    "- 파이썬을 활용하여 효율적으로 코드를 표현하는 기법을 배워 봅니다. \n",
    "\n",
    "예를 들면 다음과 같은 리스트안의 내용을 한줄로 출력하는 코드가 있습니다.\n",
    "\n",
    "```python\n",
    "colors = [\"red\", \"blue\", \"green\", \"yellow\"]\n",
    "result = \"\"\n",
    "for s in colors:\n",
    "    result += s\n",
    "```\n",
    "\n",
    "위의 코드를 파이썬스럽게 만들면, 아래와 같습니다.\n",
    "\n",
    "```python\n",
    "colors = [\"red\", \"blue\", \"green\", \"yellow\"]\n",
    "result = \"\".join(colors)\n",
    "```\n",
    "이렇게 하면 간결하고 가독성이 좋아집니다. \n",
    "\n",
    "## 2.1. Split & Join\n",
    "\n",
    "Split & Join 을 사용하여 String Type 의 값을 List 형태로 변환하고, List Type의 값을 String Type 의\n",
    "값으로 변환해 봅니다.\n"
   ]
  },
  {
   "cell_type": "code",
   "execution_count": 1,
   "metadata": {},
   "outputs": [],
   "source": [
    "# 빈칸을 기준으로 문자열 나누기\n",
    "items = 'zero one two three'.split() \n",
    "# 쉼표를 기준으로 문자열 나누기\n",
    "items = 'zero,one,two,three'.split()\n",
    "# \".\"을 기준으로 문자열 나누고 unpacking\n",
    "example = 'cs50.gachon.edu'\n",
    "subdomain, domain, tld = example.split(\".\")"
   ]
  },
  {
   "cell_type": "markdown",
   "metadata": {},
   "source": [
    "## 2.2. List Comprehension\n",
    "많이 사용되는 기법 중에 하나인 List Comprehension 을 사용해봅니다. 비교를 하기 위해 먼저, `for loop` + `append()` 사용한 코드를 살펴 보겠습니다."
   ]
  },
  {
   "cell_type": "code",
   "execution_count": 2,
   "metadata": {},
   "outputs": [
    {
     "name": "stdout",
     "output_type": "stream",
     "text": [
      "[0, 1, 2, 3, 4, 5, 6, 7, 8, 9]\n"
     ]
    }
   ],
   "source": [
    "result = []\n",
    "for i in range(10):\n",
    "    result.append(i)\n",
    "print(result)"
   ]
  },
  {
   "cell_type": "markdown",
   "metadata": {},
   "source": [
    "### list Comprehension 사용하기\n"
   ]
  },
  {
   "cell_type": "code",
   "execution_count": 3,
   "metadata": {},
   "outputs": [
    {
     "name": "stdout",
     "output_type": "stream",
     "text": [
      "[0, 1, 2, 3, 4, 5, 6, 7, 8, 9]\n"
     ]
    }
   ],
   "source": [
    "result = [i for i in range(10)]\n",
    "print(result)\n"
   ]
  },
  {
   "cell_type": "markdown",
   "metadata": {},
   "source": [
    "## 2.3. Enumerate & Zip\n",
    "리스트의 값을 추출할때 방법으로 이용되는 `enumerate` 와 두개의 `list` 값을 병렬적으로 추출할 수 있는 `zip` 모듈을 알아 봅니다.\n",
    "\n",
    "### Enumerate\n",
    "- 리스트의 `enumerate`를 번호와 함께 추출"
   ]
  },
  {
   "cell_type": "code",
   "execution_count": 6,
   "metadata": {},
   "outputs": [
    {
     "name": "stdout",
     "output_type": "stream",
     "text": [
      "0 a\n",
      "1 b\n",
      "2 c\n"
     ]
    }
   ],
   "source": [
    "my_list = ['a','b','c']\n",
    "for i, j in enumerate(my_list):\n",
    "    print(i, j)"
   ]
  },
  {
   "cell_type": "code",
   "execution_count": 8,
   "metadata": {},
   "outputs": [
    {
     "data": {
      "text/plain": [
       "[(0, 'a'), (1, 'b'), (2, 'c')]"
      ]
     },
     "execution_count": 8,
     "metadata": {},
     "output_type": "execute_result"
    }
   ],
   "source": [
    "list(enumerate(my_list)) # 리스트에 있는 index와 값을 unpacking 후 다시 리스트로 저장"
   ]
  },
  {
   "cell_type": "markdown",
   "metadata": {},
   "source": [
    "### Zip\n",
    "두 개의 리스트 값을 병렬적으로 추출"
   ]
  },
  {
   "cell_type": "code",
   "execution_count": 13,
   "metadata": {},
   "outputs": [
    {
     "name": "stdout",
     "output_type": "stream",
     "text": [
      "('a1', 'b1') ('a2', 'b2') ('a3', 'b3') "
     ]
    }
   ],
   "source": [
    "list_a = ['a1','a2','a3']\n",
    "list_b = ['b1','b2','b3']\n",
    "for i in zip(list_a,list_b):\n",
    "    print(i, end = ' ')"
   ]
  },
  {
   "cell_type": "markdown",
   "metadata": {},
   "source": [
    "## 2.4. Lambda & Map & Reduce\n",
    "\n",
    "- 함수처럼 사용가능한 `Lambda`\n",
    "- Sequence 자료형의 데이터에서 함수를 적용하는 방법인 `Map` 과 `Reduce` 함수\n",
    "\n",
    "### Lambda\n",
    "\n",
    "다음과 같은 코드를 `Lambda`로 보다 간략하게 쓸 수 있습니다.\n",
    "\n",
    "```python\n",
    "def f(x, y):\n",
    "    return x + y\n",
    "print(f(1, 4))\n",
    "```"
   ]
  },
  {
   "cell_type": "code",
   "execution_count": 14,
   "metadata": {},
   "outputs": [
    {
     "name": "stdout",
     "output_type": "stream",
     "text": [
      "5\n"
     ]
    }
   ],
   "source": [
    "# Lambda 사용\n",
    "f = lambda x, y: x + y\n",
    "print(f(1, 4))"
   ]
  },
  {
   "cell_type": "markdown",
   "metadata": {},
   "source": [
    "> 제 개인적 의견은 가독성이 더 나쁜것 같습니다만,\n",
    "\n",
    "### Map & Reduce"
   ]
  },
  {
   "cell_type": "code",
   "execution_count": 20,
   "metadata": {},
   "outputs": [
    {
     "name": "stdout",
     "output_type": "stream",
     "text": [
      "[2, 4, 6, 8, 10]\n"
     ]
    }
   ],
   "source": [
    "#python 3에는 list를 꼭 붙여줘야함\n",
    "ex = [1,2,3,4,5]\n",
    "print(list(map(lambda x: x+x, ex)))"
   ]
  },
  {
   "cell_type": "code",
   "execution_count": 19,
   "metadata": {},
   "outputs": [
    {
     "name": "stdout",
     "output_type": "stream",
     "text": [
      "15\n"
     ]
    }
   ],
   "source": [
    "# Reduce\n",
    "from functools import reduce\n",
    "print(reduce(lambda x, y: x+y, [1, 2, 3, 4, 5]))"
   ]
  },
  {
   "cell_type": "code",
   "execution_count": 27,
   "metadata": {},
   "outputs": [
    {
     "data": {
      "text/plain": [
       "3628800"
      ]
     },
     "execution_count": 27,
     "metadata": {},
     "output_type": "execute_result"
    }
   ],
   "source": [
    "# 위에서 배운것으로 팩토리얼을 구현해 봅니다.\n",
    "def factorial(n):\n",
    "    return reduce(lambda x, y: x*y, range(1, n+1))\n",
    "factorial(10)"
   ]
  },
  {
   "cell_type": "markdown",
   "metadata": {},
   "source": [
    "## 2.5. Asterisk\n",
    "단순 곱셈, 제곱연산, 가변인자 활용 등 여러 부분에서 다양하게 사용되는 Asterisk(*) 의 사용법을 알아봅니다.\n"
   ]
  },
  {
   "cell_type": "code",
   "execution_count": 29,
   "metadata": {},
   "outputs": [
    {
     "name": "stdout",
     "output_type": "stream",
     "text": [
      "1 (2, 3, 4, 5, 6)\n",
      "<class 'tuple'>\n"
     ]
    }
   ],
   "source": [
    "def asterisk_test(a, *args):\n",
    "    print(a, args)\n",
    "    print(type(args))\n",
    "\n",
    "asterisk_test(1,2,3,4,5,6)"
   ]
  },
  {
   "cell_type": "code",
   "execution_count": 30,
   "metadata": {},
   "outputs": [
    {
     "name": "stdout",
     "output_type": "stream",
     "text": [
      "1 {'b': 2, 'c': 3, 'd': 4, 'e': 5, 'f': 6}\n",
      "<class 'dict'>\n"
     ]
    }
   ],
   "source": [
    "def asterisk_test(a, **kargs):\n",
    "    print(a, kargs)\n",
    "    print(type(kargs))\n",
    "\n",
    "asterisk_test(1, b=2, c=3, d=4, e=5, f=6)"
   ]
  },
  {
   "cell_type": "code",
   "execution_count": 31,
   "metadata": {},
   "outputs": [
    {
     "name": "stdout",
     "output_type": "stream",
     "text": [
      "1 (2, 3, 4, 5, 6)\n",
      "<class 'tuple'>\n"
     ]
    }
   ],
   "source": [
    "def asterisk_test(a, *args):\n",
    "    print(a, args[0])\n",
    "    print(type(args))\n",
    "\n",
    "asterisk_test(1, (2, 3, 4, 5, 6))"
   ]
  },
  {
   "cell_type": "code",
   "execution_count": 32,
   "metadata": {},
   "outputs": [
    {
     "name": "stdout",
     "output_type": "stream",
     "text": [
      "1 2 3 4 5 6\n",
      "<class 'tuple'>\n"
     ]
    }
   ],
   "source": [
    "def asterisk_test(a, args):\n",
    "    print(a, *args)\n",
    "    print(type(args))\n",
    "\n",
    "asterisk_test(1, (2,3,4,5,6))"
   ]
  },
  {
   "cell_type": "code",
   "execution_count": 33,
   "metadata": {},
   "outputs": [
    {
     "name": "stdout",
     "output_type": "stream",
     "text": [
      "[1, 2] [3, 4] [5, 6]\n"
     ]
    }
   ],
   "source": [
    "a, b, c = ([1, 2], [3, 4], [5, 6])\n",
    "print(a, b, c)"
   ]
  },
  {
   "cell_type": "code",
   "execution_count": 34,
   "metadata": {},
   "outputs": [
    {
     "name": "stdout",
     "output_type": "stream",
     "text": [
      "[1, 2] [3, 4] [5, 6]\n"
     ]
    }
   ],
   "source": [
    "data = ([1, 2], [3, 4], [5, 6])\n",
    "print(*data)"
   ]
  },
  {
   "cell_type": "code",
   "execution_count": 35,
   "metadata": {},
   "outputs": [
    {
     "name": "stdout",
     "output_type": "stream",
     "text": [
      "9\n",
      "12\n"
     ]
    }
   ],
   "source": [
    "for data in zip(*([1, 2], [3, 4], [5, 6])):\n",
    "    print(sum(data))"
   ]
  },
  {
   "cell_type": "code",
   "execution_count": 42,
   "metadata": {},
   "outputs": [
    {
     "name": "stdout",
     "output_type": "stream",
     "text": [
      "10 3 2 1 56\n"
     ]
    }
   ],
   "source": [
    "def asterisk_test(a, b, c, d, e=0):\n",
    "    print(a, b, c, d, e)\n",
    "\n",
    "data = {\"d\":1 , \"c\":2, \"b\":3, \"e\":56 }\n",
    "asterisk_test(10, **data)"
   ]
  },
  {
   "cell_type": "markdown",
   "metadata": {},
   "source": [
    "## 2.6. Collections\n",
    "tuple, dict 에 대한 확장 데이터 구조를 제공하는 Collections 안에 포함된 모듈을 이용하여 Data Sturcture 의 기본\n",
    "개념을 이해하고 사용하는 방법을 알아봅니다."
   ]
  },
  {
   "cell_type": "code",
   "execution_count": 55,
   "metadata": {},
   "outputs": [
    {
     "name": "stdout",
     "output_type": "stream",
     "text": [
      "Counter({'a': 3, 'l': 2, 'g': 1, 'h': 1, 'd': 1})\n"
     ]
    }
   ],
   "source": [
    "from collections import Counter\n",
    "\n",
    "c = Counter()                           # a new, empty counter\n",
    "c = Counter('gallahad')                 # a new counter from an iterable\n",
    "print(c)"
   ]
  },
  {
   "cell_type": "markdown",
   "metadata": {},
   "source": [
    "# 3. 선형대수(Linear algebra) 문제 풀어보기\n",
    "파이썬으로 선형대수를 다루는 방법을 알아봅니다"
   ]
  },
  {
   "cell_type": "code",
   "execution_count": 56,
   "metadata": {},
   "outputs": [
    {
     "name": "stdout",
     "output_type": "stream",
     "text": [
      "[(2, 2, 3), (2, 3, 5)]\n"
     ]
    }
   ],
   "source": [
    "u = [2, 2]\n",
    "v = [2, 3]\n",
    "z = [3, 5]\n",
    "\n",
    "result = [t for t in zip(u, v, z)]\n",
    "print (result)"
   ]
  },
  {
   "cell_type": "code",
   "execution_count": 57,
   "metadata": {},
   "outputs": [
    {
     "name": "stdout",
     "output_type": "stream",
     "text": [
      "[[8, 14], [10, 12]]\n"
     ]
    }
   ],
   "source": [
    "matrix_a = [[3, 6], [4, 5]]\n",
    "matrix_b = [[5, 8], [6, 7]]\n",
    "result = [[sum(row) for row in zip(*t)]\n",
    "          for t in zip(matrix_a, matrix_b)]\n",
    "\n",
    "print(result)"
   ]
  },
  {
   "cell_type": "code",
   "execution_count": 58,
   "metadata": {},
   "outputs": [
    {
     "name": "stdout",
     "output_type": "stream",
     "text": [
      "[[1, 4], [2, 5], [3, 6]]\n"
     ]
    }
   ],
   "source": [
    "matrix_a = [[1, 2, 3], [4, 5, 6]]\n",
    "result = [[element for element in t] for t in zip(*matrix_a)]\n",
    "\n",
    "[t for t in zip(*matrix_a)]\n",
    "print(result)"
   ]
  },
  {
   "cell_type": "code",
   "execution_count": 59,
   "metadata": {},
   "outputs": [
    {
     "name": "stdout",
     "output_type": "stream",
     "text": [
      "[[5, 8], [5, 6]]\n"
     ]
    }
   ],
   "source": [
    "matrix_a = [[1, 1, 2], [2, 1, 1]]\n",
    "matrix_b = [[1, 1], [2, 1], [1, 3]]\n",
    "result = [[sum(a * b for a, b in zip(row_a, column_b))\n",
    "          for column_b in zip(*matrix_b)] for row_a in matrix_a]\n",
    "print(result)"
   ]
  },
  {
   "cell_type": "markdown",
   "metadata": {},
   "source": [
    "아래는 선형대수 과제에 대한 코드입니다.  vector와 matrix의 기초적인 연산을 수행하는 12개의 함수를 작성합니다. "
   ]
  },
  {
   "cell_type": "code",
   "execution_count": 70,
   "metadata": {},
   "outputs": [
    {
     "name": "stdout",
     "output_type": "stream",
     "text": [
      "True\n",
      "False\n"
     ]
    }
   ],
   "source": [
    "# Problem #1 - vector_size_check\n",
    "def vector_size_check(*vector_variables):\n",
    "    return all(len(vector_variables[0]) == len(i) for i in vector_variables)\n",
    "\n",
    "# 실행결과\n",
    "print(vector_size_check([1,2,3], [2,3,4], [5,6,7])) # Expected value: True\n",
    "print(vector_size_check([1, 3, 4], [4], [6,7])) # Expected value: False"
   ]
  },
  {
   "cell_type": "code",
   "execution_count": 71,
   "metadata": {},
   "outputs": [
    {
     "name": "stdout",
     "output_type": "stream",
     "text": [
      "[4, 6, 13]\n",
      "[6, 14, 11]\n"
     ]
    }
   ],
   "source": [
    "# Problem #2 - vector_addition \n",
    "def vector_addition(*vector_variables):\n",
    "    return [sum(i) for i in vector_variables]\n",
    "\n",
    "# 실행결과\n",
    "print(vector_addition([1, 3], [2, 4], [6, 7])) # Expected value: [9, 14]\n",
    "print(vector_addition([1, 5], [10, 4], [4, 7])) # Expected value: [15, 16]"
   ]
  },
  {
   "cell_type": "code",
   "execution_count": 74,
   "metadata": {},
   "outputs": [
    {
     "name": "stdout",
     "output_type": "stream",
     "text": [
      "[-1, -1]\n",
      "[-13, -6]\n"
     ]
    }
   ],
   "source": [
    "# Problem #3 - vector_subtraction\n",
    "def vector_subtraction(*vector_variables):\n",
    "    if vector_size_check(*vector_variables) == False:\n",
    "        raise ArithmeticError\n",
    "    return [i[0]*2 - sum(i) for i in zip(*vector_variables)]\n",
    "\n",
    "# 실행결과\n",
    "print(vector_subtraction([1, 3], [2, 4])) # Expected value: [-1, -1]\n",
    "print(vector_subtraction([1, 5], [10, 4], [4, 7])) # Expected value: [-13, -6]"
   ]
  },
  {
   "cell_type": "code",
   "execution_count": 75,
   "metadata": {},
   "outputs": [
    {
     "name": "stdout",
     "output_type": "stream",
     "text": [
      "[5, 10, 15]\n",
      "[6, 6]\n",
      "[4]\n"
     ]
    }
   ],
   "source": [
    "# Problem #4 - scalar_vector_product (one line code available)\n",
    "def scalar_vector_product(alpha, vector_variable):\n",
    "    return [alpha*i for i in vector_variable]\n",
    "\n",
    "# 실행결과\n",
    "print (scalar_vector_product(5,[1,2,3])) # Expected value: [5, 10, 15]\n",
    "print (scalar_vector_product(3,[2,2])) # Expected value: [6, 6]\n",
    "print (scalar_vector_product(4,[1])) # Expected value: [4]"
   ]
  },
  {
   "cell_type": "markdown",
   "metadata": {},
   "source": [
    "# 4. 머신러닝의 개요\n",
    "이번 장에서는 `Machine Learning` 에서 사용하는 용어와 개념에 대해서 공부합니다.\n",
    "\n",
    "- Model: 예측을 위한 수학 공식, 함수 \n",
    "    - e.g. 1차 방정식, 확률분포, condition rule\n",
    "- Algorithms: 어떠한 문제를 풀기 위한 과정, Model을 생성하기 위한 과정\n",
    "- Feature : 머신러닝에서 데이터의 특징을 나타내는 변수\n",
    "    - 연속형(continuous): 온도, 속도, 일반적인 실수값\n",
    "    - 이산형(discrete): 성별, 등수\n",
    "\n",
    "# 5. 데이터 다루기\n",
    "\n",
    "## 5.1. Numpy 사용법\n",
    "과학 계산용 패키지인 `numpy` 의 여러 특징과 기능, 코드를 작성하는 방법 등을 배웁니다.  \n",
    "\n",
    "라이브러리를 불러오고 `array`를 생성합니다."
   ]
  },
  {
   "cell_type": "code",
   "execution_count": 87,
   "metadata": {},
   "outputs": [
    {
     "data": {
      "text/plain": [
       "array([[1, 2, 3, 4],\n",
       "       [1, 2, 5, 8]])"
      ]
     },
     "execution_count": 87,
     "metadata": {},
     "output_type": "execute_result"
    }
   ],
   "source": [
    "import numpy as np\n",
    "# array의 생성\n",
    "test_matrix = np.array([[1,2,3,4], [1,2,5,8]])\n",
    "test_matrix"
   ]
  },
  {
   "cell_type": "markdown",
   "metadata": {},
   "source": [
    "array의 모양 확인"
   ]
  },
  {
   "cell_type": "code",
   "execution_count": 85,
   "metadata": {},
   "outputs": [
    {
     "data": {
      "text/plain": [
       "(2, 4)"
      ]
     },
     "execution_count": 85,
     "metadata": {},
     "output_type": "execute_result"
    }
   ],
   "source": [
    "test_matrix.shape"
   ]
  },
  {
   "cell_type": "markdown",
   "metadata": {},
   "source": [
    "### 5.1.1 Array 모양 바꾸기\n",
    "`array`의 모양을 평평하게 바꾸기"
   ]
  },
  {
   "cell_type": "code",
   "execution_count": 86,
   "metadata": {},
   "outputs": [
    {
     "data": {
      "text/plain": [
       "array([1, 2, 3, 4, 1, 2, 5, 8])"
      ]
     },
     "execution_count": 86,
     "metadata": {},
     "output_type": "execute_result"
    }
   ],
   "source": [
    "np.array(test_matrix).reshape(8,)"
   ]
  },
  {
   "cell_type": "markdown",
   "metadata": {},
   "source": [
    "비슷한 기능으로 `flatten()`도 있습니다."
   ]
  },
  {
   "cell_type": "code",
   "execution_count": 88,
   "metadata": {},
   "outputs": [
    {
     "data": {
      "text/plain": [
       "array([1, 2, 3, 4, 1, 2, 5, 8])"
      ]
     },
     "execution_count": 88,
     "metadata": {},
     "output_type": "execute_result"
    }
   ],
   "source": [
    "np.array(test_matrix).flatten()"
   ]
  },
  {
   "cell_type": "markdown",
   "metadata": {},
   "source": [
    "### 5.1.2. slicing\n",
    "array의 특정 영역만 선택하는 방법입니다."
   ]
  },
  {
   "cell_type": "code",
   "execution_count": 90,
   "metadata": {},
   "outputs": [
    {
     "data": {
      "text/plain": [
       "array([[2, 3, 4],\n",
       "       [2, 5, 8]])"
      ]
     },
     "execution_count": 90,
     "metadata": {},
     "output_type": "execute_result"
    }
   ],
   "source": [
    "test_matrix[:,1:] # 2번째 column 부터"
   ]
  },
  {
   "cell_type": "code",
   "execution_count": 92,
   "metadata": {},
   "outputs": [
    {
     "data": {
      "text/plain": [
       "array([1, 2, 5, 8])"
      ]
     },
     "execution_count": 92,
     "metadata": {},
     "output_type": "execute_result"
    }
   ],
   "source": [
    "test_matrix[1,:] # 2번째 row 부터"
   ]
  },
  {
   "cell_type": "markdown",
   "metadata": {},
   "source": [
    "### 5.1.3. Concatenate\n",
    "각각의 array를 하나로 합쳐줍니다.\n"
   ]
  },
  {
   "cell_type": "code",
   "execution_count": 94,
   "metadata": {},
   "outputs": [
    {
     "data": {
      "text/plain": [
       "array([[1, 2, 3],\n",
       "       [2, 3, 4]])"
      ]
     },
     "execution_count": 94,
     "metadata": {},
     "output_type": "execute_result"
    }
   ],
   "source": [
    "a = np.array([[1, 2, 3]])\n",
    "b = np.array([[2, 3, 4]])\n",
    "np.concatenate( (a,b) ,axis=0)"
   ]
  },
  {
   "cell_type": "code",
   "execution_count": 95,
   "metadata": {},
   "outputs": [
    {
     "data": {
      "text/plain": [
       "array([[1, 2, 3, 2, 3, 4]])"
      ]
     },
     "execution_count": 95,
     "metadata": {},
     "output_type": "execute_result"
    }
   ],
   "source": [
    "np.concatenate( (a,b) ,axis=1)"
   ]
  },
  {
   "cell_type": "markdown",
   "metadata": {},
   "source": [
    "### 5.1.4. 데이터 타입 바꿔주기\n",
    "데이터 타입을 확인하고 원하는 것으로 바꿔주는 코드입니다."
   ]
  },
  {
   "cell_type": "code",
   "execution_count": 97,
   "metadata": {},
   "outputs": [
    {
     "data": {
      "text/plain": [
       "dtype('int64')"
      ]
     },
     "execution_count": 97,
     "metadata": {},
     "output_type": "execute_result"
    }
   ],
   "source": [
    "test_matrix.dtype"
   ]
  },
  {
   "cell_type": "code",
   "execution_count": 98,
   "metadata": {},
   "outputs": [
    {
     "data": {
      "text/plain": [
       "dtype('float64')"
      ]
     },
     "execution_count": 98,
     "metadata": {},
     "output_type": "execute_result"
    }
   ],
   "source": [
    "# float 형으로 변경해줍니다.\n",
    "test_matrix_float = test_matrix.astype(float)\n",
    "test_matrix_float.dtype"
   ]
  },
  {
   "cell_type": "markdown",
   "metadata": {},
   "source": [
    "## 5.2. Pandas\n",
    "파이썬의 **엑셀**이라 불리는 `Pandas`의 여러 기능과 사용하는 방법을 설명합니다. `pandas`는 `series`와 `dataframe`이라는 형태로 데이터를 처리합니다. \n",
    "- series : 1차원 배열\n",
    "- dataframe : 2차원 배열\n",
    "\n",
    "\n",
    "### 5.2.1. 데이터 불러오기\n",
    "`pandas`로 외부데이터를 불러오는 방법입니다.\n"
   ]
  },
  {
   "cell_type": "code",
   "execution_count": 110,
   "metadata": {},
   "outputs": [
    {
     "data": {
      "text/html": [
       "<div>\n",
       "<table border=\"1\" class=\"dataframe\">\n",
       "  <thead>\n",
       "    <tr style=\"text-align: right;\">\n",
       "      <th></th>\n",
       "      <th>date</th>\n",
       "      <th>duration</th>\n",
       "      <th>item</th>\n",
       "      <th>month</th>\n",
       "      <th>network</th>\n",
       "      <th>network_type</th>\n",
       "    </tr>\n",
       "    <tr>\n",
       "      <th>index</th>\n",
       "      <th></th>\n",
       "      <th></th>\n",
       "      <th></th>\n",
       "      <th></th>\n",
       "      <th></th>\n",
       "      <th></th>\n",
       "    </tr>\n",
       "  </thead>\n",
       "  <tbody>\n",
       "    <tr>\n",
       "      <th>825</th>\n",
       "      <td>13/03/15 00:38</td>\n",
       "      <td>1.000</td>\n",
       "      <td>sms</td>\n",
       "      <td>2015-03</td>\n",
       "      <td>world</td>\n",
       "      <td>world</td>\n",
       "    </tr>\n",
       "    <tr>\n",
       "      <th>826</th>\n",
       "      <td>13/03/15 00:39</td>\n",
       "      <td>1.000</td>\n",
       "      <td>sms</td>\n",
       "      <td>2015-03</td>\n",
       "      <td>Vodafone</td>\n",
       "      <td>mobile</td>\n",
       "    </tr>\n",
       "    <tr>\n",
       "      <th>827</th>\n",
       "      <td>13/03/15 06:58</td>\n",
       "      <td>34.429</td>\n",
       "      <td>data</td>\n",
       "      <td>2015-03</td>\n",
       "      <td>data</td>\n",
       "      <td>data</td>\n",
       "    </tr>\n",
       "    <tr>\n",
       "      <th>828</th>\n",
       "      <td>14/03/15 00:13</td>\n",
       "      <td>1.000</td>\n",
       "      <td>sms</td>\n",
       "      <td>2015-03</td>\n",
       "      <td>world</td>\n",
       "      <td>world</td>\n",
       "    </tr>\n",
       "    <tr>\n",
       "      <th>829</th>\n",
       "      <td>14/03/15 00:16</td>\n",
       "      <td>1.000</td>\n",
       "      <td>sms</td>\n",
       "      <td>2015-03</td>\n",
       "      <td>world</td>\n",
       "      <td>world</td>\n",
       "    </tr>\n",
       "  </tbody>\n",
       "</table>\n",
       "</div>"
      ],
      "text/plain": [
       "                 date  duration  item    month   network network_type\n",
       "index                                                                \n",
       "825    13/03/15 00:38     1.000   sms  2015-03     world        world\n",
       "826    13/03/15 00:39     1.000   sms  2015-03  Vodafone       mobile\n",
       "827    13/03/15 06:58    34.429  data  2015-03      data         data\n",
       "828    14/03/15 00:13     1.000   sms  2015-03     world        world\n",
       "829    14/03/15 00:16     1.000   sms  2015-03     world        world"
      ]
     },
     "execution_count": 110,
     "metadata": {},
     "output_type": "execute_result"
    }
   ],
   "source": [
    "data_url = 'https://www.shanelynn.ie/wp-content/uploads/2015/06/phone_data.csv'\n",
    "df = pd.read_csv(data_url, index_col = 0)\n",
    "df.tail()"
   ]
  },
  {
   "cell_type": "markdown",
   "metadata": {},
   "source": [
    "총 829개의 데이터를 가져왔습니다."
   ]
  },
  {
   "cell_type": "markdown",
   "metadata": {},
   "source": [
    "### 5.2.2. 데이터 선택하기\n",
    "#### Index 정보로 데이터 선택"
   ]
  },
  {
   "cell_type": "code",
   "execution_count": 111,
   "metadata": {},
   "outputs": [
    {
     "data": {
      "text/html": [
       "<div>\n",
       "<table border=\"1\" class=\"dataframe\">\n",
       "  <thead>\n",
       "    <tr style=\"text-align: right;\">\n",
       "      <th></th>\n",
       "      <th>date</th>\n",
       "      <th>duration</th>\n",
       "      <th>item</th>\n",
       "      <th>month</th>\n",
       "      <th>network</th>\n",
       "      <th>network_type</th>\n",
       "    </tr>\n",
       "    <tr>\n",
       "      <th>index</th>\n",
       "      <th></th>\n",
       "      <th></th>\n",
       "      <th></th>\n",
       "      <th></th>\n",
       "      <th></th>\n",
       "      <th></th>\n",
       "    </tr>\n",
       "  </thead>\n",
       "  <tbody>\n",
       "    <tr>\n",
       "      <th>0</th>\n",
       "      <td>15/10/14 06:58</td>\n",
       "      <td>34.429</td>\n",
       "      <td>data</td>\n",
       "      <td>2014-11</td>\n",
       "      <td>data</td>\n",
       "      <td>data</td>\n",
       "    </tr>\n",
       "    <tr>\n",
       "      <th>1</th>\n",
       "      <td>15/10/14 06:58</td>\n",
       "      <td>13.000</td>\n",
       "      <td>call</td>\n",
       "      <td>2014-11</td>\n",
       "      <td>Vodafone</td>\n",
       "      <td>mobile</td>\n",
       "    </tr>\n",
       "    <tr>\n",
       "      <th>2</th>\n",
       "      <td>15/10/14 14:46</td>\n",
       "      <td>23.000</td>\n",
       "      <td>call</td>\n",
       "      <td>2014-11</td>\n",
       "      <td>Meteor</td>\n",
       "      <td>mobile</td>\n",
       "    </tr>\n",
       "  </tbody>\n",
       "</table>\n",
       "</div>"
      ],
      "text/plain": [
       "                 date  duration  item    month   network network_type\n",
       "index                                                                \n",
       "0      15/10/14 06:58    34.429  data  2014-11      data         data\n",
       "1      15/10/14 06:58    13.000  call  2014-11  Vodafone       mobile\n",
       "2      15/10/14 14:46    23.000  call  2014-11    Meteor       mobile"
      ]
     },
     "execution_count": 111,
     "metadata": {},
     "output_type": "execute_result"
    }
   ],
   "source": [
    "df[:3] # 위에서 3번째까지의 데이터 선택"
   ]
  },
  {
   "cell_type": "markdown",
   "metadata": {},
   "source": [
    "#### Column 정보로 데이터 선택하기\n",
    "**duration**과 **network** column의 값만 선택하고, 위에서부터 3개의 값만 선택해보겠습니다."
   ]
  },
  {
   "cell_type": "code",
   "execution_count": 112,
   "metadata": {},
   "outputs": [
    {
     "data": {
      "text/html": [
       "<div>\n",
       "<table border=\"1\" class=\"dataframe\">\n",
       "  <thead>\n",
       "    <tr style=\"text-align: right;\">\n",
       "      <th></th>\n",
       "      <th>duration</th>\n",
       "      <th>network</th>\n",
       "    </tr>\n",
       "    <tr>\n",
       "      <th>index</th>\n",
       "      <th></th>\n",
       "      <th></th>\n",
       "    </tr>\n",
       "  </thead>\n",
       "  <tbody>\n",
       "    <tr>\n",
       "      <th>0</th>\n",
       "      <td>34.429</td>\n",
       "      <td>data</td>\n",
       "    </tr>\n",
       "    <tr>\n",
       "      <th>1</th>\n",
       "      <td>13.000</td>\n",
       "      <td>Vodafone</td>\n",
       "    </tr>\n",
       "    <tr>\n",
       "      <th>2</th>\n",
       "      <td>23.000</td>\n",
       "      <td>Meteor</td>\n",
       "    </tr>\n",
       "  </tbody>\n",
       "</table>\n",
       "</div>"
      ],
      "text/plain": [
       "       duration   network\n",
       "index                    \n",
       "0        34.429      data\n",
       "1        13.000  Vodafone\n",
       "2        23.000    Meteor"
      ]
     },
     "execution_count": 112,
     "metadata": {},
     "output_type": "execute_result"
    }
   ],
   "source": [
    "df[['duration','network']][:3]"
   ]
  },
  {
   "cell_type": "markdown",
   "metadata": {},
   "source": [
    "### 5.2.3. 데이터 주무르기\n",
    "\n",
    "`dateutil`라이브러리를 사용하면 날짜데이터를 쉽게 파싱할 수 있습니다."
   ]
  },
  {
   "cell_type": "code",
   "execution_count": 113,
   "metadata": {},
   "outputs": [
    {
     "data": {
      "text/html": [
       "<div>\n",
       "<table border=\"1\" class=\"dataframe\">\n",
       "  <thead>\n",
       "    <tr style=\"text-align: right;\">\n",
       "      <th></th>\n",
       "      <th>date</th>\n",
       "      <th>duration</th>\n",
       "      <th>item</th>\n",
       "      <th>month</th>\n",
       "      <th>network</th>\n",
       "      <th>network_type</th>\n",
       "    </tr>\n",
       "    <tr>\n",
       "      <th>index</th>\n",
       "      <th></th>\n",
       "      <th></th>\n",
       "      <th></th>\n",
       "      <th></th>\n",
       "      <th></th>\n",
       "      <th></th>\n",
       "    </tr>\n",
       "  </thead>\n",
       "  <tbody>\n",
       "    <tr>\n",
       "      <th>0</th>\n",
       "      <td>2014-10-15 06:58:00</td>\n",
       "      <td>34.429</td>\n",
       "      <td>data</td>\n",
       "      <td>2014-11</td>\n",
       "      <td>data</td>\n",
       "      <td>data</td>\n",
       "    </tr>\n",
       "    <tr>\n",
       "      <th>1</th>\n",
       "      <td>2014-10-15 06:58:00</td>\n",
       "      <td>13.000</td>\n",
       "      <td>call</td>\n",
       "      <td>2014-11</td>\n",
       "      <td>Vodafone</td>\n",
       "      <td>mobile</td>\n",
       "    </tr>\n",
       "    <tr>\n",
       "      <th>2</th>\n",
       "      <td>2014-10-15 14:46:00</td>\n",
       "      <td>23.000</td>\n",
       "      <td>call</td>\n",
       "      <td>2014-11</td>\n",
       "      <td>Meteor</td>\n",
       "      <td>mobile</td>\n",
       "    </tr>\n",
       "    <tr>\n",
       "      <th>3</th>\n",
       "      <td>2014-10-15 14:48:00</td>\n",
       "      <td>4.000</td>\n",
       "      <td>call</td>\n",
       "      <td>2014-11</td>\n",
       "      <td>Tesco</td>\n",
       "      <td>mobile</td>\n",
       "    </tr>\n",
       "    <tr>\n",
       "      <th>4</th>\n",
       "      <td>2014-10-15 17:27:00</td>\n",
       "      <td>4.000</td>\n",
       "      <td>call</td>\n",
       "      <td>2014-11</td>\n",
       "      <td>Tesco</td>\n",
       "      <td>mobile</td>\n",
       "    </tr>\n",
       "  </tbody>\n",
       "</table>\n",
       "</div>"
      ],
      "text/plain": [
       "                     date  duration  item    month   network network_type\n",
       "index                                                                    \n",
       "0     2014-10-15 06:58:00    34.429  data  2014-11      data         data\n",
       "1     2014-10-15 06:58:00    13.000  call  2014-11  Vodafone       mobile\n",
       "2     2014-10-15 14:46:00    23.000  call  2014-11    Meteor       mobile\n",
       "3     2014-10-15 14:48:00     4.000  call  2014-11     Tesco       mobile\n",
       "4     2014-10-15 17:27:00     4.000  call  2014-11     Tesco       mobile"
      ]
     },
     "execution_count": 113,
     "metadata": {},
     "output_type": "execute_result"
    }
   ],
   "source": [
    "import dateutil\n",
    "df['date'] = df['date'].apply(dateutil.parser.parse, dayfirst=True)\n",
    "df.head()"
   ]
  },
  {
   "cell_type": "markdown",
   "metadata": {},
   "source": [
    "달별 총 통화량을 계산해 보겠습니다."
   ]
  },
  {
   "cell_type": "code",
   "execution_count": 114,
   "metadata": {},
   "outputs": [
    {
     "data": {
      "text/plain": [
       "month\n",
       "2014-11    26639.441\n",
       "2014-12    14641.870\n",
       "2015-01    18223.299\n",
       "2015-02    15522.299\n",
       "2015-03    22750.441\n",
       "Name: duration, dtype: float64"
      ]
     },
     "execution_count": 114,
     "metadata": {},
     "output_type": "execute_result"
    }
   ],
   "source": [
    "df.groupby('month')['duration'].sum()"
   ]
  },
  {
   "cell_type": "markdown",
   "metadata": {},
   "source": [
    "피봇테이블 기능을 이용해서도 할 수 있습니다."
   ]
  },
  {
   "cell_type": "code",
   "execution_count": 115,
   "metadata": {},
   "outputs": [
    {
     "data": {
      "text/html": [
       "<div>\n",
       "<table border=\"1\" class=\"dataframe\">\n",
       "  <thead>\n",
       "    <tr style=\"text-align: right;\">\n",
       "      <th></th>\n",
       "      <th>duration</th>\n",
       "    </tr>\n",
       "    <tr>\n",
       "      <th>month</th>\n",
       "      <th></th>\n",
       "    </tr>\n",
       "  </thead>\n",
       "  <tbody>\n",
       "    <tr>\n",
       "      <th>2014-11</th>\n",
       "      <td>26639.441</td>\n",
       "    </tr>\n",
       "    <tr>\n",
       "      <th>2014-12</th>\n",
       "      <td>14641.870</td>\n",
       "    </tr>\n",
       "    <tr>\n",
       "      <th>2015-01</th>\n",
       "      <td>18223.299</td>\n",
       "    </tr>\n",
       "    <tr>\n",
       "      <th>2015-02</th>\n",
       "      <td>15522.299</td>\n",
       "    </tr>\n",
       "    <tr>\n",
       "      <th>2015-03</th>\n",
       "      <td>22750.441</td>\n",
       "    </tr>\n",
       "  </tbody>\n",
       "</table>\n",
       "</div>"
      ],
      "text/plain": [
       "          duration\n",
       "month             \n",
       "2014-11  26639.441\n",
       "2014-12  14641.870\n",
       "2015-01  18223.299\n",
       "2015-02  15522.299\n",
       "2015-03  22750.441"
      ]
     },
     "execution_count": 115,
     "metadata": {},
     "output_type": "execute_result"
    }
   ],
   "source": [
    "df.pivot_table(['duration'], index = df.month, aggfunc='sum')"
   ]
  },
  {
   "cell_type": "markdown",
   "metadata": {},
   "source": [
    "### 5.2.4.  NA 값 처리하기"
   ]
  },
  {
   "cell_type": "code",
   "execution_count": 116,
   "metadata": {},
   "outputs": [
    {
     "data": {
      "text/html": [
       "<div>\n",
       "<table border=\"1\" class=\"dataframe\">\n",
       "  <thead>\n",
       "    <tr style=\"text-align: right;\">\n",
       "      <th></th>\n",
       "      <th>first_name</th>\n",
       "      <th>last_name</th>\n",
       "      <th>age</th>\n",
       "      <th>sex</th>\n",
       "      <th>preTestScore</th>\n",
       "      <th>postTestScore</th>\n",
       "    </tr>\n",
       "  </thead>\n",
       "  <tbody>\n",
       "    <tr>\n",
       "      <th>0</th>\n",
       "      <td>Jason</td>\n",
       "      <td>Miller</td>\n",
       "      <td>42.0</td>\n",
       "      <td>m</td>\n",
       "      <td>4.0</td>\n",
       "      <td>25.0</td>\n",
       "    </tr>\n",
       "    <tr>\n",
       "      <th>1</th>\n",
       "      <td>NaN</td>\n",
       "      <td>NaN</td>\n",
       "      <td>NaN</td>\n",
       "      <td>NaN</td>\n",
       "      <td>NaN</td>\n",
       "      <td>NaN</td>\n",
       "    </tr>\n",
       "    <tr>\n",
       "      <th>2</th>\n",
       "      <td>Tina</td>\n",
       "      <td>Ali</td>\n",
       "      <td>36.0</td>\n",
       "      <td>f</td>\n",
       "      <td>NaN</td>\n",
       "      <td>NaN</td>\n",
       "    </tr>\n",
       "    <tr>\n",
       "      <th>3</th>\n",
       "      <td>Jake</td>\n",
       "      <td>Milner</td>\n",
       "      <td>24.0</td>\n",
       "      <td>m</td>\n",
       "      <td>2.0</td>\n",
       "      <td>62.0</td>\n",
       "    </tr>\n",
       "    <tr>\n",
       "      <th>4</th>\n",
       "      <td>Amy</td>\n",
       "      <td>Cooze</td>\n",
       "      <td>73.0</td>\n",
       "      <td>f</td>\n",
       "      <td>3.0</td>\n",
       "      <td>70.0</td>\n",
       "    </tr>\n",
       "  </tbody>\n",
       "</table>\n",
       "</div>"
      ],
      "text/plain": [
       "  first_name last_name   age  sex  preTestScore  postTestScore\n",
       "0      Jason    Miller  42.0    m           4.0           25.0\n",
       "1        NaN       NaN   NaN  NaN           NaN            NaN\n",
       "2       Tina       Ali  36.0    f           NaN            NaN\n",
       "3       Jake    Milner  24.0    m           2.0           62.0\n",
       "4        Amy     Cooze  73.0    f           3.0           70.0"
      ]
     },
     "execution_count": 116,
     "metadata": {},
     "output_type": "execute_result"
    }
   ],
   "source": [
    "raw_data = {'first_name': ['Jason', np.nan, 'Tina', 'Jake', 'Amy'],\n",
    "        'last_name': ['Miller', np.nan, 'Ali', 'Milner', 'Cooze'],\n",
    "        'age': [42, np.nan, 36, 24, 73],\n",
    "        'sex': ['m', np.nan, 'f', 'm', 'f'],\n",
    "        'preTestScore': [4, np.nan, np.nan, 2, 3],\n",
    "        'postTestScore': [25, np.nan, np.nan, 62, 70]}\n",
    "df = pd.DataFrame(raw_data, columns = ['first_name', 'last_name', 'age', 'sex', 'preTestScore', 'postTestScore'])\n",
    "df"
   ]
  },
  {
   "cell_type": "code",
   "execution_count": 125,
   "metadata": {},
   "outputs": [
    {
     "data": {
      "text/html": [
       "<div>\n",
       "<table border=\"1\" class=\"dataframe\">\n",
       "  <thead>\n",
       "    <tr style=\"text-align: right;\">\n",
       "      <th></th>\n",
       "      <th>first_name</th>\n",
       "      <th>last_name</th>\n",
       "      <th>age</th>\n",
       "      <th>sex</th>\n",
       "      <th>preTestScore</th>\n",
       "      <th>postTestScore</th>\n",
       "    </tr>\n",
       "  </thead>\n",
       "  <tbody>\n",
       "    <tr>\n",
       "      <th>0</th>\n",
       "      <td>Jason</td>\n",
       "      <td>Miller</td>\n",
       "      <td>42.0</td>\n",
       "      <td>m</td>\n",
       "      <td>4.0</td>\n",
       "      <td>25.0</td>\n",
       "    </tr>\n",
       "    <tr>\n",
       "      <th>3</th>\n",
       "      <td>Jake</td>\n",
       "      <td>Milner</td>\n",
       "      <td>24.0</td>\n",
       "      <td>m</td>\n",
       "      <td>2.0</td>\n",
       "      <td>62.0</td>\n",
       "    </tr>\n",
       "    <tr>\n",
       "      <th>4</th>\n",
       "      <td>Amy</td>\n",
       "      <td>Cooze</td>\n",
       "      <td>73.0</td>\n",
       "      <td>f</td>\n",
       "      <td>3.0</td>\n",
       "      <td>70.0</td>\n",
       "    </tr>\n",
       "  </tbody>\n",
       "</table>\n",
       "</div>"
      ],
      "text/plain": [
       "  first_name last_name   age sex  preTestScore  postTestScore\n",
       "0      Jason    Miller  42.0   m           4.0           25.0\n",
       "3       Jake    Milner  24.0   m           2.0           62.0\n",
       "4        Amy     Cooze  73.0   f           3.0           70.0"
      ]
     },
     "execution_count": 125,
     "metadata": {},
     "output_type": "execute_result"
    }
   ],
   "source": [
    "# NA 값이 하나라도 있는 데이터는 지우기\n",
    "df_no_missing = df.dropna(axis=0, thresh=6)\n",
    "df_no_missing"
   ]
  },
  {
   "cell_type": "code",
   "execution_count": 120,
   "metadata": {},
   "outputs": [
    {
     "data": {
      "text/html": [
       "<div>\n",
       "<table border=\"1\" class=\"dataframe\">\n",
       "  <thead>\n",
       "    <tr style=\"text-align: right;\">\n",
       "      <th></th>\n",
       "      <th>first_name</th>\n",
       "      <th>last_name</th>\n",
       "      <th>age</th>\n",
       "      <th>sex</th>\n",
       "      <th>preTestScore</th>\n",
       "      <th>postTestScore</th>\n",
       "    </tr>\n",
       "  </thead>\n",
       "  <tbody>\n",
       "    <tr>\n",
       "      <th>0</th>\n",
       "      <td>Jason</td>\n",
       "      <td>Miller</td>\n",
       "      <td>42.0</td>\n",
       "      <td>m</td>\n",
       "      <td>4.0</td>\n",
       "      <td>25.0</td>\n",
       "    </tr>\n",
       "    <tr>\n",
       "      <th>2</th>\n",
       "      <td>Tina</td>\n",
       "      <td>Ali</td>\n",
       "      <td>36.0</td>\n",
       "      <td>f</td>\n",
       "      <td>NaN</td>\n",
       "      <td>NaN</td>\n",
       "    </tr>\n",
       "    <tr>\n",
       "      <th>3</th>\n",
       "      <td>Jake</td>\n",
       "      <td>Milner</td>\n",
       "      <td>24.0</td>\n",
       "      <td>m</td>\n",
       "      <td>2.0</td>\n",
       "      <td>62.0</td>\n",
       "    </tr>\n",
       "    <tr>\n",
       "      <th>4</th>\n",
       "      <td>Amy</td>\n",
       "      <td>Cooze</td>\n",
       "      <td>73.0</td>\n",
       "      <td>f</td>\n",
       "      <td>3.0</td>\n",
       "      <td>70.0</td>\n",
       "    </tr>\n",
       "  </tbody>\n",
       "</table>\n",
       "</div>"
      ],
      "text/plain": [
       "  first_name last_name   age sex  preTestScore  postTestScore\n",
       "0      Jason    Miller  42.0   m           4.0           25.0\n",
       "2       Tina       Ali  36.0   f           NaN            NaN\n",
       "3       Jake    Milner  24.0   m           2.0           62.0\n",
       "4        Amy     Cooze  73.0   f           3.0           70.0"
      ]
     },
     "execution_count": 120,
     "metadata": {},
     "output_type": "execute_result"
    }
   ],
   "source": [
    "# 모든 값이 NA인 데이터 지우기\n",
    "df_cleaned = df.dropna(how='all')\n",
    "df_cleaned"
   ]
  },
  {
   "cell_type": "code",
   "execution_count": 126,
   "metadata": {},
   "outputs": [
    {
     "data": {
      "text/html": [
       "<div>\n",
       "<table border=\"1\" class=\"dataframe\">\n",
       "  <thead>\n",
       "    <tr style=\"text-align: right;\">\n",
       "      <th></th>\n",
       "      <th>first_name</th>\n",
       "      <th>last_name</th>\n",
       "      <th>age</th>\n",
       "      <th>sex</th>\n",
       "      <th>preTestScore</th>\n",
       "      <th>postTestScore</th>\n",
       "    </tr>\n",
       "  </thead>\n",
       "  <tbody>\n",
       "    <tr>\n",
       "      <th>0</th>\n",
       "      <td>Jason</td>\n",
       "      <td>Miller</td>\n",
       "      <td>42.0</td>\n",
       "      <td>m</td>\n",
       "      <td>4.0</td>\n",
       "      <td>25.0</td>\n",
       "    </tr>\n",
       "    <tr>\n",
       "      <th>1</th>\n",
       "      <td>0</td>\n",
       "      <td>0</td>\n",
       "      <td>0.0</td>\n",
       "      <td>0</td>\n",
       "      <td>0.0</td>\n",
       "      <td>0.0</td>\n",
       "    </tr>\n",
       "    <tr>\n",
       "      <th>2</th>\n",
       "      <td>Tina</td>\n",
       "      <td>Ali</td>\n",
       "      <td>36.0</td>\n",
       "      <td>f</td>\n",
       "      <td>0.0</td>\n",
       "      <td>0.0</td>\n",
       "    </tr>\n",
       "    <tr>\n",
       "      <th>3</th>\n",
       "      <td>Jake</td>\n",
       "      <td>Milner</td>\n",
       "      <td>24.0</td>\n",
       "      <td>m</td>\n",
       "      <td>2.0</td>\n",
       "      <td>62.0</td>\n",
       "    </tr>\n",
       "    <tr>\n",
       "      <th>4</th>\n",
       "      <td>Amy</td>\n",
       "      <td>Cooze</td>\n",
       "      <td>73.0</td>\n",
       "      <td>f</td>\n",
       "      <td>3.0</td>\n",
       "      <td>70.0</td>\n",
       "    </tr>\n",
       "  </tbody>\n",
       "</table>\n",
       "</div>"
      ],
      "text/plain": [
       "  first_name last_name   age sex  preTestScore  postTestScore\n",
       "0      Jason    Miller  42.0   m           4.0           25.0\n",
       "1          0         0   0.0   0           0.0            0.0\n",
       "2       Tina       Ali  36.0   f           0.0            0.0\n",
       "3       Jake    Milner  24.0   m           2.0           62.0\n",
       "4        Amy     Cooze  73.0   f           3.0           70.0"
      ]
     },
     "execution_count": 126,
     "metadata": {},
     "output_type": "execute_result"
    }
   ],
   "source": [
    "# NA값을 0으로 바꾸기\n",
    "df.fillna(0)"
   ]
  },
  {
   "cell_type": "markdown",
   "metadata": {},
   "source": [
    "### 5.2.5. One-hot encoding\n",
    "`get_dummies()`함수를 이용해 one-hot encoding을 해봅니다."
   ]
  },
  {
   "cell_type": "code",
   "execution_count": 137,
   "metadata": {},
   "outputs": [
    {
     "data": {
      "text/html": [
       "<div>\n",
       "<table border=\"1\" class=\"dataframe\">\n",
       "  <thead>\n",
       "    <tr style=\"text-align: right;\">\n",
       "      <th></th>\n",
       "      <th>first_name</th>\n",
       "      <th>last_name</th>\n",
       "      <th>age</th>\n",
       "      <th>sex</th>\n",
       "      <th>preTestScore</th>\n",
       "      <th>postTestScore</th>\n",
       "      <th>sex_f</th>\n",
       "      <th>sex_m</th>\n",
       "    </tr>\n",
       "  </thead>\n",
       "  <tbody>\n",
       "    <tr>\n",
       "      <th>0</th>\n",
       "      <td>Jason</td>\n",
       "      <td>Miller</td>\n",
       "      <td>42.0</td>\n",
       "      <td>m</td>\n",
       "      <td>4.0</td>\n",
       "      <td>25.0</td>\n",
       "      <td>0</td>\n",
       "      <td>1</td>\n",
       "    </tr>\n",
       "    <tr>\n",
       "      <th>1</th>\n",
       "      <td>NaN</td>\n",
       "      <td>NaN</td>\n",
       "      <td>NaN</td>\n",
       "      <td>NaN</td>\n",
       "      <td>NaN</td>\n",
       "      <td>NaN</td>\n",
       "      <td>0</td>\n",
       "      <td>0</td>\n",
       "    </tr>\n",
       "    <tr>\n",
       "      <th>2</th>\n",
       "      <td>Tina</td>\n",
       "      <td>Ali</td>\n",
       "      <td>36.0</td>\n",
       "      <td>f</td>\n",
       "      <td>NaN</td>\n",
       "      <td>NaN</td>\n",
       "      <td>1</td>\n",
       "      <td>0</td>\n",
       "    </tr>\n",
       "    <tr>\n",
       "      <th>3</th>\n",
       "      <td>Jake</td>\n",
       "      <td>Milner</td>\n",
       "      <td>24.0</td>\n",
       "      <td>m</td>\n",
       "      <td>2.0</td>\n",
       "      <td>62.0</td>\n",
       "      <td>0</td>\n",
       "      <td>1</td>\n",
       "    </tr>\n",
       "    <tr>\n",
       "      <th>4</th>\n",
       "      <td>Amy</td>\n",
       "      <td>Cooze</td>\n",
       "      <td>73.0</td>\n",
       "      <td>f</td>\n",
       "      <td>3.0</td>\n",
       "      <td>70.0</td>\n",
       "      <td>1</td>\n",
       "      <td>0</td>\n",
       "    </tr>\n",
       "  </tbody>\n",
       "</table>\n",
       "</div>"
      ],
      "text/plain": [
       "  first_name last_name   age  sex  preTestScore  postTestScore  sex_f  sex_m\n",
       "0      Jason    Miller  42.0    m           4.0           25.0      0      1\n",
       "1        NaN       NaN   NaN  NaN           NaN            NaN      0      0\n",
       "2       Tina       Ali  36.0    f           NaN            NaN      1      0\n",
       "3       Jake    Milner  24.0    m           2.0           62.0      0      1\n",
       "4        Amy     Cooze  73.0    f           3.0           70.0      1      0"
      ]
     },
     "execution_count": 137,
     "metadata": {},
     "output_type": "execute_result"
    }
   ],
   "source": [
    "# 성별 컬럼을 one-hot-encoding 해보겠습니다.\n",
    "pd.concat([df,pd.get_dummies(df['sex'], prefix='sex')], axis = 1)"
   ]
  },
  {
   "cell_type": "markdown",
   "metadata": {},
   "source": [
    "### 5.2.6. feature_scaling\n",
    "`pandas`로 구현하는 방법도 있지만, `sklearn`의 `preprocessing` 기능을 사용하는것이 보다 편합니다."
   ]
  },
  {
   "cell_type": "code",
   "execution_count": 146,
   "metadata": {},
   "outputs": [
    {
     "data": {
      "text/html": [
       "<div>\n",
       "<table border=\"1\" class=\"dataframe\">\n",
       "  <thead>\n",
       "    <tr style=\"text-align: right;\">\n",
       "      <th></th>\n",
       "      <th>first_name</th>\n",
       "      <th>last_name</th>\n",
       "      <th>age</th>\n",
       "      <th>sex</th>\n",
       "      <th>preTestScore</th>\n",
       "      <th>postTestScore</th>\n",
       "    </tr>\n",
       "  </thead>\n",
       "  <tbody>\n",
       "    <tr>\n",
       "      <th>0</th>\n",
       "      <td>Jason</td>\n",
       "      <td>Miller</td>\n",
       "      <td>42.0</td>\n",
       "      <td>m</td>\n",
       "      <td>1.00</td>\n",
       "      <td>0.357143</td>\n",
       "    </tr>\n",
       "    <tr>\n",
       "      <th>1</th>\n",
       "      <td>0</td>\n",
       "      <td>0</td>\n",
       "      <td>0.0</td>\n",
       "      <td>0</td>\n",
       "      <td>0.00</td>\n",
       "      <td>0.000000</td>\n",
       "    </tr>\n",
       "    <tr>\n",
       "      <th>2</th>\n",
       "      <td>Tina</td>\n",
       "      <td>Ali</td>\n",
       "      <td>36.0</td>\n",
       "      <td>f</td>\n",
       "      <td>0.00</td>\n",
       "      <td>0.000000</td>\n",
       "    </tr>\n",
       "    <tr>\n",
       "      <th>3</th>\n",
       "      <td>Jake</td>\n",
       "      <td>Milner</td>\n",
       "      <td>24.0</td>\n",
       "      <td>m</td>\n",
       "      <td>0.50</td>\n",
       "      <td>0.885714</td>\n",
       "    </tr>\n",
       "    <tr>\n",
       "      <th>4</th>\n",
       "      <td>Amy</td>\n",
       "      <td>Cooze</td>\n",
       "      <td>73.0</td>\n",
       "      <td>f</td>\n",
       "      <td>0.75</td>\n",
       "      <td>1.000000</td>\n",
       "    </tr>\n",
       "  </tbody>\n",
       "</table>\n",
       "</div>"
      ],
      "text/plain": [
       "  first_name last_name   age sex  preTestScore  postTestScore\n",
       "0      Jason    Miller  42.0   m          1.00       0.357143\n",
       "1          0         0   0.0   0          0.00       0.000000\n",
       "2       Tina       Ali  36.0   f          0.00       0.000000\n",
       "3       Jake    Milner  24.0   m          0.50       0.885714\n",
       "4        Amy     Cooze  73.0   f          0.75       1.000000"
      ]
     },
     "execution_count": 146,
     "metadata": {},
     "output_type": "execute_result"
    }
   ],
   "source": [
    "from sklearn import preprocessing\n",
    "df = df.fillna(0) # NA값을 제거하기 위해\n",
    "minmax_scaler = preprocessing.MinMaxScaler().fit(df[['preTestScore','postTestScore']])\n",
    "df[['preTestScore','postTestScore']] = minmax_scaler.transform(df[['preTestScore','postTestScore']])\n",
    "df"
   ]
  },
  {
   "cell_type": "markdown",
   "metadata": {},
   "source": [
    "preTestScore, postTestScore의 값이 0~1사이의 값으로 정규화(normalization)되었습니다.\n",
    "\n",
    "# 6. Numpy 과제풀이\n",
    "숙제로 나온 과제 일부를 풀어봅니다."
   ]
  },
  {
   "cell_type": "code",
   "execution_count": 153,
   "metadata": {},
   "outputs": [
    {
     "data": {
      "text/plain": [
       "array([1, 2, 3, 4, 1, 2, 5, 8])"
      ]
     },
     "execution_count": 153,
     "metadata": {},
     "output_type": "execute_result"
    }
   ],
   "source": [
    "import numpy as np\n",
    "test_matrix = np.array([[1,2,3,4], [1,2,5,8]])\n",
    "\n",
    "def change_shape_of_ndarray(X, n_row):\n",
    "    if n_row == 1:\n",
    "        return X.flatten()\n",
    "    else:\n",
    "        return X.reshape(n_row, -1)\n",
    "\n",
    "change_shape_of_ndarray(test_matrix, 1)"
   ]
  },
  {
   "cell_type": "code",
   "execution_count": 160,
   "metadata": {},
   "outputs": [
    {
     "data": {
      "text/plain": [
       "(array([2, 3]),)"
      ]
     },
     "execution_count": 160,
     "metadata": {},
     "output_type": "execute_result"
    }
   ],
   "source": [
    "test_matrix = np.array([1,2,3,4])\n",
    "\n",
    "def save_ndarray(X, filename=\"test.npy\"):\n",
    "    with open(filename, 'wb') as f:\n",
    "        np.save(X, f)\n",
    "\n",
    "def boolean_index(X, condition):\n",
    "    condition = eval(str('X') + condition )\n",
    "    return np.where(condition)\n",
    "\n",
    "boolean_index(test_matrix, '>2')"
   ]
  },
  {
   "cell_type": "code",
   "execution_count": 161,
   "metadata": {},
   "outputs": [
    {
     "data": {
      "text/plain": [
       "1"
      ]
     },
     "execution_count": 161,
     "metadata": {},
     "output_type": "execute_result"
    }
   ],
   "source": [
    "test_matrix = np.array([1,2,3,4])\n",
    "def find_nearest_value(X, target_value):\n",
    "    return X[np.argmin(np.abs(X - target_value))]\n",
    "\n",
    "find_nearest_value(test_matrix, 0.1)"
   ]
  },
  {
   "cell_type": "code",
   "execution_count": 163,
   "metadata": {},
   "outputs": [
    {
     "data": {
      "text/plain": [
       "array([4, 3])"
      ]
     },
     "execution_count": 163,
     "metadata": {},
     "output_type": "execute_result"
    }
   ],
   "source": [
    "test_matrix = np.array([1,2,3,4])\n",
    "def get_n_largest_values(X, n):\n",
    "    return X[np.argsort(X[::-1])[:n]]\n",
    "get_n_largest_values(test_matrix, 2)"
   ]
  },
  {
   "cell_type": "markdown",
   "metadata": {},
   "source": [
    "# 7. 선형회귀(Linear regression)\n",
    "\n",
    "> 종속 변수 y와 한 개 이상의 독립 변수 (또는 설명 변수) X와의 선형 상관 관계를 모델링하는 회귀분석 기법 --wikipedia\n",
    "\n",
    "`scikit-learn` 라이브러리를 가지고 학습을 진행할 것입니다. 머신러닝의 학습 방법은 다음 4가지로 분류 할 수 있습니다.\n",
    "\n",
    "1. Gradient descent based learning \n",
    "2. Probability theory based learning\n",
    "3. Information theory based learning\n",
    "4. Distance similarity based learning\n",
    "\n",
    "선형회귀는 Gradient descent based learning 입니다. Gradient descent based learning의 특징은 다음과 같습니다. \n",
    "\n",
    "- 실제 값과 학습된 모델 예측치의 오차를 최소화\n",
    "- 모델의 최적 parameter 찾기가 목적\n",
    "\n",
    "선형회귀에서 오차를 측정하는 방법으로 Squared Error를 사용합니다. 따라서 Squared Error를 최소화 할 수 있는 weight값을 찾는 것이 목표가 됩니다.\n",
    "\n",
    "\n",
    "\n",
    "## 7.1. Cost function\n",
    "실제 값과 가설 함수의 차이를 최소화하기 위해 구하는 Cost function 에 대한 수식과 함께 cost function 의 개념에 대해 공부합니다. \n",
    "cost function  \n",
    "\n",
    "\n",
    "weights의 최적값 컴퓨터가 찾는 방법\n",
    "- 연립방적식 풀기 (normal equation)\n",
    "- gradient descent\n",
    "\n",
    "## 7.2. Normal equation\n",
    "\n",
    "- X<sup>T</sup>X의 역행렬이 존재할 때 사용\n",
    "- Iteration 등 사용자 지정 parameter가 없음\n",
    "- Feature가 많으면 계산 속도가 느려짐\n",
    "\n",
    "\n",
    "아래는 실습 코드입니다."
   ]
  },
  {
   "cell_type": "code",
   "execution_count": 194,
   "metadata": {},
   "outputs": [
    {
     "data": {
      "text/html": [
       "<div>\n",
       "<table border=\"1\" class=\"dataframe\">\n",
       "  <thead>\n",
       "    <tr style=\"text-align: right;\">\n",
       "      <th></th>\n",
       "      <th>x</th>\n",
       "      <th>y</th>\n",
       "    </tr>\n",
       "  </thead>\n",
       "  <tbody>\n",
       "    <tr>\n",
       "      <th>695</th>\n",
       "      <td>58</td>\n",
       "      <td>58.595006</td>\n",
       "    </tr>\n",
       "    <tr>\n",
       "      <th>696</th>\n",
       "      <td>93</td>\n",
       "      <td>94.625094</td>\n",
       "    </tr>\n",
       "    <tr>\n",
       "      <th>697</th>\n",
       "      <td>82</td>\n",
       "      <td>88.603770</td>\n",
       "    </tr>\n",
       "    <tr>\n",
       "      <th>698</th>\n",
       "      <td>66</td>\n",
       "      <td>63.648685</td>\n",
       "    </tr>\n",
       "    <tr>\n",
       "      <th>699</th>\n",
       "      <td>97</td>\n",
       "      <td>94.975266</td>\n",
       "    </tr>\n",
       "  </tbody>\n",
       "</table>\n",
       "</div>"
      ],
      "text/plain": [
       "      x          y\n",
       "695  58  58.595006\n",
       "696  93  94.625094\n",
       "697  82  88.603770\n",
       "698  66  63.648685\n",
       "699  97  94.975266"
      ]
     },
     "execution_count": 194,
     "metadata": {},
     "output_type": "execute_result"
    }
   ],
   "source": [
    "import pandas as pd\n",
    "import numpy as np\n",
    "import matplotlib.pyplot as plt\n",
    "%matplotlib inline\n",
    "\n",
    "#  LOAD DATASET - simple variable\n",
    "df_train = pd.read_csv(\"./data/normal_eq_train.csv\")\n",
    "df_test  =  pd.read_csv(\"./data/normal_eq_test.csv\")\n",
    "# df_test.head()\n",
    "X_train = df_train[\"x\"].values.reshape(-1,1)\n",
    "X_test = df_test[\"x\"].values.reshape(-1,1)\n",
    "y_train = df_train[\"y\"].values\n",
    "y_test = df_test[\"y\"].values\n",
    "df_train.tail()"
   ]
  },
  {
   "cell_type": "code",
   "execution_count": 183,
   "metadata": {},
   "outputs": [
    {
     "data": {
      "text/plain": [
       "<matplotlib.collections.PathCollection at 0x7f18adbe2860>"
      ]
     },
     "execution_count": 183,
     "metadata": {},
     "output_type": "execute_result"
    },
    {
     "data": {
      "image/png": "[encoded data removed]",
      "text/plain": [
       "<matplotlib.figure.Figure at 0x7f18adc0cba8>"
      ]
     },
     "metadata": {},
     "output_type": "display_data"
    }
   ],
   "source": [
    "plt.scatter(X_train,y_train, alpha = 0.3)"
   ]
  },
  {
   "cell_type": "markdown",
   "metadata": {},
   "source": [
    "### 모델 만들기"
   ]
  },
  {
   "cell_type": "code",
   "execution_count": 192,
   "metadata": {},
   "outputs": [
    {
     "data": {
      "text/plain": [
       "LinearRegression(copy_X=True, fit_intercept=True, n_jobs=1, normalize=False)"
      ]
     },
     "execution_count": 192,
     "metadata": {},
     "output_type": "execute_result"
    }
   ],
   "source": [
    "from sklearn import linear_model\n",
    "from sklearn.metrics import mean_squared_error, r2_score\n",
    "\n",
    "lr = linear_model.LinearRegression(normalize=False) # false 이유?\n",
    "lr.fit(X_train, y_train)\n"
   ]
  },
  {
   "cell_type": "code",
   "execution_count": 185,
   "metadata": {},
   "outputs": [
    {
     "data": {
      "text/plain": [
       "-0.12015553181322502"
      ]
     },
     "execution_count": 185,
     "metadata": {},
     "output_type": "execute_result"
    }
   ],
   "source": [
    "lr.intercept_"
   ]
  },
  {
   "cell_type": "markdown",
   "metadata": {},
   "source": [
    "### 예측하기 하고 시각화하기"
   ]
  },
  {
   "cell_type": "code",
   "execution_count": 199,
   "metadata": {},
   "outputs": [
    {
     "name": "stdout",
     "output_type": "stream",
     "text": [
      "Coefficients:  [ 1.00077825]\n",
      "Mean squared error: 9.43\n",
      "Variance score: 0.99\n"
     ]
    }
   ],
   "source": [
    "y_pred = lr.predict(X_test)\n",
    "# The coefficients\n",
    "print('Coefficients: ' , lr.coef_)\n",
    "# The mean squared error\n",
    "print(\"Mean squared error: %.2f\"\n",
    "      % mean_squared_error(y_test, y_pred))\n",
    "# Explained variance score: 1 is perfect prediction\n",
    "print('Variance score: %.2f' % r2_score(y_test, y_pred))\n"
   ]
  },
  {
   "cell_type": "code",
   "execution_count": 200,
   "metadata": {},
   "outputs": [
    {
     "data": {
      "image/png": "[encoded data removed]",
      "text/plain": [
       "<matplotlib.figure.Figure at 0x7f18adbe2198>"
      ]
     },
     "metadata": {},
     "output_type": "display_data"
    }
   ],
   "source": [
    "# Plot outputs\n",
    "plt.scatter(X_test, y_test,  alpha = 0.3)\n",
    "plt.plot(X_test, y_pred, color='red')\n",
    "plt.show()"
   ]
  },
  {
   "cell_type": "markdown",
   "metadata": {},
   "source": [
    "## 7.3. Gradient Descent\n",
    "\n",
    "Gradient Descent 알고리즘으로 Linear Regression 을 구하는 방법에 대해 공부합니다\n",
    "\n",
    "#### Hyper parameter\n",
    "사용자가 임의로 정해줘야하는 변수입니다. 예를 들면 학습률(Learning rate)가 있습니다.  \n",
    "    - 학습률이 너무 낮게 설정: 학습 시간이 오래 걸림\n",
    "    - 학습률을 너무 높게 설정: 수렴하지 못하는 경우가 생김\n",
    "\n",
    "### 7.3.1. Linear regression with Gradient Descent\n",
    "- 임의의 theta0, theta1 값으로 초기화\n",
    "- Cost function 이 최소화 될 때까지 학습\n",
    "- 더 이상 cost function이 줄어들지 않거나 학습 횟수를 초과할 때 종료\n",
    "- Learning rate, Iteration 횟수 등 Parameter 지정\n",
    "- Feature가 많으면 Normal equation에 비해 상대적으로 빠름\n",
    "- 최적값에 수렴하지 않을 수도 있음\n",
    "\n",
    "예시 코드\n",
    "\n",
    "사용한 데이터:\n",
    "- https://www.kaggle.com/floser/swedish-motor-insurance/version/1#\n",
    "데이터 설명:\n",
    "- X = number of claims\n",
    "- Y = total payment for all the claims in thousands of Swedish Kronor\n"
   ]
  },
  {
   "cell_type": "code",
   "execution_count": 201,
   "metadata": {},
   "outputs": [
    {
     "data": {
      "text/html": [
       "<div>\n",
       "<table border=\"1\" class=\"dataframe\">\n",
       "  <thead>\n",
       "    <tr style=\"text-align: right;\">\n",
       "      <th></th>\n",
       "      <th>Kilometres</th>\n",
       "      <th>Zone</th>\n",
       "      <th>Bonus</th>\n",
       "      <th>Make</th>\n",
       "      <th>Insured</th>\n",
       "      <th>Claims</th>\n",
       "      <th>Payment</th>\n",
       "    </tr>\n",
       "  </thead>\n",
       "  <tbody>\n",
       "    <tr>\n",
       "      <th>2177</th>\n",
       "      <td>5</td>\n",
       "      <td>7</td>\n",
       "      <td>7</td>\n",
       "      <td>5</td>\n",
       "      <td>8.74</td>\n",
       "      <td>0</td>\n",
       "      <td>0</td>\n",
       "    </tr>\n",
       "    <tr>\n",
       "      <th>2178</th>\n",
       "      <td>5</td>\n",
       "      <td>7</td>\n",
       "      <td>7</td>\n",
       "      <td>6</td>\n",
       "      <td>16.61</td>\n",
       "      <td>0</td>\n",
       "      <td>0</td>\n",
       "    </tr>\n",
       "    <tr>\n",
       "      <th>2179</th>\n",
       "      <td>5</td>\n",
       "      <td>7</td>\n",
       "      <td>7</td>\n",
       "      <td>7</td>\n",
       "      <td>2.83</td>\n",
       "      <td>1</td>\n",
       "      <td>966</td>\n",
       "    </tr>\n",
       "    <tr>\n",
       "      <th>2180</th>\n",
       "      <td>5</td>\n",
       "      <td>7</td>\n",
       "      <td>7</td>\n",
       "      <td>8</td>\n",
       "      <td>13.06</td>\n",
       "      <td>0</td>\n",
       "      <td>0</td>\n",
       "    </tr>\n",
       "    <tr>\n",
       "      <th>2181</th>\n",
       "      <td>5</td>\n",
       "      <td>7</td>\n",
       "      <td>7</td>\n",
       "      <td>9</td>\n",
       "      <td>384.87</td>\n",
       "      <td>16</td>\n",
       "      <td>112252</td>\n",
       "    </tr>\n",
       "  </tbody>\n",
       "</table>\n",
       "</div>"
      ],
      "text/plain": [
       "      Kilometres  Zone  Bonus  Make  Insured  Claims  Payment\n",
       "2177           5     7      7     5     8.74       0        0\n",
       "2178           5     7      7     6    16.61       0        0\n",
       "2179           5     7      7     7     2.83       1      966\n",
       "2180           5     7      7     8    13.06       0        0\n",
       "2181           5     7      7     9   384.87      16   112252"
      ]
     },
     "execution_count": 201,
     "metadata": {},
     "output_type": "execute_result"
    }
   ],
   "source": [
    "# LOAD DATASET\n",
    "df = pd.read_csv(\"./data/SwedishMotorInsurance.csv\")\n",
    "df.tail()"
   ]
  },
  {
   "cell_type": "code",
   "execution_count": 232,
   "metadata": {},
   "outputs": [
    {
     "data": {
      "text/plain": [
       "[<matplotlib.lines.Line2D at 0x7f18add594a8>]"
      ]
     },
     "execution_count": 232,
     "metadata": {},
     "output_type": "execute_result"
    },
    {
     "data": {
      "image/png": "[encoded data removed]",
      "text/plain": [
       "<matplotlib.figure.Figure at 0x7f18adb45470>"
      ]
     },
     "metadata": {},
     "output_type": "display_data"
    }
   ],
   "source": [
    "raw_X = df['Claims'].values.reshape(-1, 1)\n",
    "y = df[\"Payment\"].values/10000\n",
    "plt.plot(raw_X,y, 'o', alpha=0.5)"
   ]
  },
  {
   "cell_type": "code",
   "execution_count": 233,
   "metadata": {},
   "outputs": [
    {
     "data": {
      "text/plain": [
       "(array([[108],\n",
       "        [ 19],\n",
       "        [ 13],\n",
       "        [124],\n",
       "        [ 40]]), array([ 39.2491,   4.6221,   1.5694,  42.2201,  11.9373]))"
      ]
     },
     "execution_count": 233,
     "metadata": {},
     "output_type": "execute_result"
    }
   ],
   "source": [
    "raw_X[:5], y[:5]"
   ]
  },
  {
   "cell_type": "code",
   "execution_count": 234,
   "metadata": {},
   "outputs": [
    {
     "data": {
      "text/plain": [
       "array([[ 1.],\n",
       "       [ 1.],\n",
       "       [ 1.]])"
      ]
     },
     "execution_count": 234,
     "metadata": {},
     "output_type": "execute_result"
    }
   ],
   "source": [
    "np.ones((len(raw_X),1))[:3]"
   ]
  },
  {
   "cell_type": "code",
   "execution_count": 235,
   "metadata": {},
   "outputs": [
    {
     "data": {
      "text/plain": [
       "array([[   1.,  108.],\n",
       "       [   1.,   19.],\n",
       "       [   1.,   13.],\n",
       "       [   1.,  124.],\n",
       "       [   1.,   40.]])"
      ]
     },
     "execution_count": 235,
     "metadata": {},
     "output_type": "execute_result"
    }
   ],
   "source": [
    "X = np.concatenate( (np.ones((len(raw_X),1)), raw_X ), axis=1)\n",
    "X[:5]"
   ]
  },
  {
   "cell_type": "code",
   "execution_count": 325,
   "metadata": {},
   "outputs": [
    {
     "data": {
      "text/plain": [
       "array([ 0.88038468,  3.26349551])"
      ]
     },
     "execution_count": 325,
     "metadata": {},
     "output_type": "execute_result"
    }
   ],
   "source": [
    "w = np.random.normal((0,4)) \n",
    "# w = np.array([5,3])\n",
    "w"
   ]
  },
  {
   "cell_type": "code",
   "execution_count": 326,
   "metadata": {},
   "outputs": [
    {
     "data": {
      "text/plain": [
       "[<matplotlib.lines.Line2D at 0x7f18ac7c50f0>]"
      ]
     },
     "execution_count": 326,
     "metadata": {},
     "output_type": "execute_result"
    },
    {
     "data": {
      "image/png": "[encoded data removed]",
      "text/plain": [
       "<matplotlib.figure.Figure at 0x7f18ac7d1630>"
      ]
     },
     "metadata": {},
     "output_type": "display_data"
    }
   ],
   "source": [
    "y_predict = np.dot(X, w)\n",
    "plt.plot(raw_X,y,\"o\", alpha=0.5)\n",
    "plt.plot(raw_X,y_predict)"
   ]
  },
  {
   "cell_type": "code",
   "execution_count": 327,
   "metadata": {},
   "outputs": [
    {
     "data": {
      "text/plain": [
       "165544.82081593073"
      ]
     },
     "execution_count": 327,
     "metadata": {},
     "output_type": "execute_result"
    }
   ],
   "source": [
    "# HYPOTHESIS AND COST FUNCTION\n",
    "def hypothesis_function(X, theta):\n",
    "    return X.dot(theta)\n",
    "def cost_function(h, y):\n",
    "    return (1/(2*len(y))) * np.sum((h-y)**2)\n",
    "h = hypothesis_function(X,w)\n",
    "cost_function(h, y)"
   ]
  },
  {
   "cell_type": "code",
   "execution_count": 328,
   "metadata": {},
   "outputs": [
    {
     "name": "stdout",
     "output_type": "stream",
     "text": [
      "theta: [  2.54184644e+111   2.12488220e+114]\n",
      "cost: 9.78850385861e+232\n"
     ]
    }
   ],
   "source": [
    "# GRADIENT DESCENT\n",
    "def gradient_descent(X, y, w, alpha, iterations):\n",
    "    theta = w\n",
    "    m = len(y)\n",
    "    \n",
    "    theta_list = [theta.tolist()]\n",
    "    cost = cost_function(hypothesis_function(X, theta), y)\n",
    "    cost_list = [cost]\n",
    "\n",
    "    for i in range(iterations):\n",
    "        t0 = theta[0] - (alpha / m) * np.sum(np.dot(X, theta) - y)\n",
    "        t1 = theta[1] - (alpha / m) * np.sum((np.dot(X, theta) - y) * X[:,1])\n",
    "        theta = np.array([t0, t1])\n",
    "        \n",
    "        if i % 10== 0:\n",
    "            theta_list.append(theta.tolist())\n",
    "            cost = cost_function(hypothesis_function(X, theta), y)\n",
    "            cost_list.append(cost)\n",
    "\n",
    "\n",
    "    return theta, theta_list, cost_list\n",
    "# DO Linear regression with GD\n",
    "iterations = 70\n",
    "alpha = 0.001\n",
    "\n",
    "theta, theta_list, cost_list = gradient_descent(X, y, w, alpha, iterations)\n",
    "cost = cost_function(hypothesis_function(X, theta), y)\n",
    "\n",
    "print(\"theta:\", theta)\n",
    "print('cost:', cost_function(hypothesis_function(X, theta), y))"
   ]
  },
  {
   "cell_type": "code",
   "execution_count": 329,
   "metadata": {},
   "outputs": [
    {
     "data": {
      "text/plain": [
       "[[0.8803846832293557, 3.2634955066340816],\n",
       " [0.7359415204153813, -116.53387505227275],\n",
       " [-2603463352860689.5, -2.1763914825348278e+18],\n",
       " [-4.841443096309449e+31, -4.047253250715817e+34],\n",
       " [-9.003226885850718e+47, -7.526338439972102e+50],\n",
       " [-1.674254819185925e+64, -1.399610224613027e+67],\n",
       " [-3.1134716864379333e+80, -2.6027380996284184e+83],\n",
       " [-5.7898629474837335e+96, -4.840094403518905e+99]]"
      ]
     },
     "execution_count": 329,
     "metadata": {},
     "output_type": "execute_result"
    }
   ],
   "source": [
    "theta_list[:10]"
   ]
  },
  {
   "cell_type": "code",
   "execution_count": 330,
   "metadata": {},
   "outputs": [
    {
     "data": {
      "text/plain": [
       "[165544.82081593073,\n",
       " 296943605.80318731,\n",
       " 1.0268822178061413e+41,\n",
       " 3.551136443612914e+73,\n",
       " 1.2280444458467041e+106,\n",
       " 4.2467902456617781e+138,\n",
       " 1.4686135710840062e+171,\n",
       " 5.0787199188266403e+203]"
      ]
     },
     "execution_count": 330,
     "metadata": {},
     "output_type": "execute_result"
    }
   ],
   "source": [
    "theta_list = np.array(theta_list)\n",
    "cost_list"
   ]
  },
  {
   "cell_type": "code",
   "execution_count": 331,
   "metadata": {},
   "outputs": [
    {
     "data": {
      "image/png": "[encoded data removed]",
      "text/plain": [
       "<matplotlib.figure.Figure at 0x7f18ace1aeb8>"
      ]
     },
     "metadata": {},
     "output_type": "display_data"
    }
   ],
   "source": [
    "y_predict_step= np.dot(X, theta_list.transpose())\n",
    "y_predict_step\n",
    "plt.plot(raw_X,y,\"o\", alpha=0.3)\n",
    "for i in range (0,len(cost_list)):\n",
    "    plt.plot(raw_X,y_predict_step[:,i], label='Line %d'%i)\n",
    "\n",
    "plt.legend(bbox_to_anchor=(1.05, 1), loc=2, borderaxespad=0.)\n",
    "plt.show()\n"
   ]
  },
  {
   "cell_type": "code",
   "execution_count": 332,
   "metadata": {},
   "outputs": [
    {
     "data": {
      "image/png": "[encoded data removed]",
      "text/plain": [
       "<matplotlib.figure.Figure at 0x7f18acdd7e48>"
      ]
     },
     "metadata": {},
     "output_type": "display_data"
    }
   ],
   "source": [
    "plt.plot(range(len(cost_list)), cost_list);"
   ]
  },
  {
   "cell_type": "markdown",
   "metadata": {},
   "source": [
    "## 7.4. Multivariate Linear Regression\n",
    "이번 강의에서는 feature 가 여러 개일 경우 사용하는 Multivariate Linear Regression 에 대한 개념을 설명하고, \n",
    "Multivariate Linear Regression 을 코드로 구현하는 방법에 대해 공부합니다.\n",
    "\n",
    "한개 이상의 feature로 구성된 데이터를 분석할때\n",
    "\n"
   ]
  },
  {
   "cell_type": "code",
   "execution_count": 339,
   "metadata": {},
   "outputs": [
    {
     "data": {
      "image/png": "[encoded data removed]",
      "text/plain": [
       "<matplotlib.figure.Figure at 0x7f18ad8ec908>"
      ]
     },
     "metadata": {},
     "output_type": "display_data"
    }
   ],
   "source": [
    "from  sklearn.datasets import load_boston\n",
    "import matplotlib.pyplot as plt\n",
    "import numpy as np\n",
    "import random\n",
    "%matplotlib inline\n",
    "\n",
    "def gen_data(numPoints, bias, variance):\n",
    "    x = np.zeros(shape=(numPoints, 3))\n",
    "    y = np.zeros(shape=numPoints)\n",
    "    # basically a straight line\n",
    "    for i in range(0, numPoints):\n",
    "        # bias feature\n",
    "        x[i][0] = random.uniform(0, 1) * variance + i\n",
    "        x[i][1] = random.uniform(0, 1) * variance + i\n",
    "        x[i][2] = 1\n",
    "        # our target variable\n",
    "        y[i] = (i+bias) + random.uniform(0, 1) * variance + 500\n",
    "    return x, y\n",
    "\n",
    "# gen 100 points with a bias of 25 and 10 variance as a bit of noise\n",
    "x, y = gen_data(100, 25, 10)\n",
    "\n",
    "plt.plot(x[:, 0:1], \"ro\")\n",
    "plt.plot(y, \"bo\")\n",
    "\n",
    "plt.show()"
   ]
  },
  {
   "cell_type": "code",
   "execution_count": 340,
   "metadata": {},
   "outputs": [
    {
     "data": {
      "image/png": "[encoded data removed]",
      "text/plain": [
       "<matplotlib.figure.Figure at 0x7f18ac483048>"
      ]
     },
     "metadata": {},
     "output_type": "display_data"
    }
   ],
   "source": [
    "from mpl_toolkits.mplot3d import Axes3D\n",
    "\n",
    "fig = plt.figure()\n",
    "ax = fig.add_subplot(111, projection='3d')\n",
    "ax.scatter(x[:,0], x[:,1], y)\n",
    "\n",
    "ax.set_xlabel('X0 Label')\n",
    "ax.set_ylabel('X1 Label')\n",
    "ax.set_zlabel('Y Label')\n",
    "\n",
    "plt.show()"
   ]
  },
  {
   "cell_type": "code",
   "execution_count": 342,
   "metadata": {},
   "outputs": [
    {
     "name": "stdout",
     "output_type": "stream",
     "text": [
      "theta [  4.72914554e-01   5.27308641e-01   5.25052677e+02]\n"
     ]
    }
   ],
   "source": [
    "def compute_cost(x, y, theta):\n",
    "    '''\n",
    "    Comput cost for linear regression\n",
    "    '''\n",
    "    #Number of training samples\n",
    "    m = y.size\n",
    "    predictions = x.dot(theta)\n",
    "    sqErrors = (predictions - y)\n",
    "\n",
    "    J = (1.0 / (2 * m)) * sqErrors.T.dot(sqErrors)\n",
    "    return J\n",
    "\n",
    "def minimize_gradient(x, y, theta, iterations=100000, alpha=0.01):\n",
    "    m = y.size\n",
    "    cost_history = []\n",
    "    theta_history = []\n",
    "    \n",
    "    for _ in range(iterations):        \n",
    "        predictions = x.dot(theta)\n",
    "        \n",
    "        for i in range(theta.size):\n",
    "            partial_marginal = x[:, i]\n",
    "            errors_xi = (predictions - y) * partial_marginal\n",
    "            theta[i] = theta[i] - alpha * (1.0 / m) * errors_xi.sum()\n",
    "        \n",
    "        if _ % 1000 == 0:\n",
    "            theta_history.append(theta)\n",
    "            cost_history.append(compute_cost(x, y, theta))\n",
    "\n",
    "    return theta, np.array(cost_history), np.array(theta_history)\n",
    "\n",
    "theta_initial = np.ones(3)\n",
    "theta, cost_history, theta_history = minimize_gradient(\n",
    "        x, y,theta_initial, 300000, 0.0001)\n",
    "print(\"theta\", theta)"
   ]
  },
  {
   "cell_type": "code",
   "execution_count": 343,
   "metadata": {},
   "outputs": [
    {
     "name": "stdout",
     "output_type": "stream",
     "text": [
      "Coefficients:  [ 0.45956565  0.52948768]\n",
      "intercept:  525.829468875\n"
     ]
    }
   ],
   "source": [
    "from sklearn import  linear_model\n",
    "\n",
    "regr = linear_model.LinearRegression()\n",
    "regr.fit(x[:,:2], y)\n",
    "\n",
    "# # The coefficients\n",
    "print('Coefficients: ', regr.coef_)\n",
    "print('intercept: ', regr.intercept_)"
   ]
  },
  {
   "cell_type": "code",
   "execution_count": 344,
   "metadata": {},
   "outputs": [
    {
     "name": "stdout",
     "output_type": "stream",
     "text": [
      "540.496237834\n",
      "[ 541.1326387]\n"
     ]
    }
   ],
   "source": [
    "print(np.dot(theta, x[10]))\n",
    "print(regr.predict(x[10,:2].reshape(1,2)))"
   ]
  },
  {
   "cell_type": "code",
   "execution_count": 345,
   "metadata": {},
   "outputs": [
    {
     "data": {
      "image/png": "[encoded data removed]",
      "text/plain": [
       "<matplotlib.figure.Figure at 0x7f18ac45c240>"
      ]
     },
     "metadata": {},
     "output_type": "display_data"
    }
   ],
   "source": [
    "from mpl_toolkits.mplot3d import Axes3D\n",
    "from matplotlib import cm\n",
    "import matplotlib.pyplot as plt\n",
    "import numpy as np\n",
    "\n",
    "fig = plt.figure()\n",
    "ax = fig.add_subplot(111, projection='3d')\n",
    "ax.scatter3D(theta_history[:,0],theta_history[:,1], cost_history, zdir=\"z\")\n",
    "plt.show()"
   ]
  },
  {
   "cell_type": "code",
   "execution_count": 346,
   "metadata": {},
   "outputs": [
    {
     "data": {
      "image/png": "[encoded data removed]",
      "text/plain": [
       "<matplotlib.figure.Figure at 0x7f18ab8b1ba8>"
      ]
     },
     "metadata": {},
     "output_type": "display_data"
    }
   ],
   "source": [
    "plt.plot(cost_history)\n",
    "plt.show()"
   ]
  },
  {
   "cell_type": "markdown",
   "metadata": {},
   "source": [
    "## 7.5. 성능 측정법(Performance measure)\n",
    "\n",
    "이번 강의에서는 우리가 만든 모델이 얼마나 실제 값을 잘 대변을 하는가에 대한 것을 지표로 평가하기 위해서 사용되는 \n",
    "여러가지 measure 에 대한 개념과, scikit-learn 을 사용하여 어떻게 코드를 작성하는 지에 대해 공부합니다. \n",
    "\n",
    "만들어진 모델의 평가는 어떻게 할 것인가?\n",
    "평가할수있는 수치가 필요\n",
    "\n"
   ]
  },
  {
   "cell_type": "code",
   "execution_count": 347,
   "metadata": {},
   "outputs": [
    {
     "data": {
      "text/plain": [
       "0.5"
      ]
     },
     "execution_count": 347,
     "metadata": {},
     "output_type": "execute_result"
    }
   ],
   "source": [
    "# Mean Absolute Error(MAE)\n",
    "from sklearn.metrics import median_absolute_error\n",
    "\n",
    "y_true = [3, -0.5, 2, 7]\n",
    "y_pred = [2.5, 0.0, 2, 8]\n",
    "\n",
    "median_absolute_error(y_true, y_pred)"
   ]
  },
  {
   "cell_type": "code",
   "execution_count": 348,
   "metadata": {},
   "outputs": [
    {
     "data": {
      "text/plain": [
       "0.375"
      ]
     },
     "execution_count": 348,
     "metadata": {},
     "output_type": "execute_result"
    }
   ],
   "source": [
    "# Root Mean Squared Error(RMSE)\n",
    "from sklearn.metrics import mean_squared_error\n",
    "\n",
    "y_true = [3, -0.5, 2, 7]\n",
    "y_pred = [2.5, 0.0, 2, 8]\n",
    "\n",
    "mean_squared_error(y_true, y_pred)"
   ]
  },
  {
   "cell_type": "code",
   "execution_count": 349,
   "metadata": {},
   "outputs": [
    {
     "data": {
      "text/plain": [
       "0.94860813704496794"
      ]
     },
     "execution_count": 349,
     "metadata": {},
     "output_type": "execute_result"
    }
   ],
   "source": [
    "# R squared\n",
    "from sklearn.metrics import r2_score\n",
    "\n",
    "y_true = [3, -0.5, 2, 7]\n",
    "y_pred = [2.5, 0.0, 2, 8]\n",
    "\n",
    "r2_score(y_true, y_pred)"
   ]
  },
  {
   "cell_type": "markdown",
   "metadata": {},
   "source": [
    "## 7.6. Stochastic Gradient Descent\n",
    " Stochastic Gradient Descent 알고리즘에 대한 개념과 Gradient Descent 와 차이점이 다른지, \n",
    "각 알고리즘의 장단점은 무엇인지에 대해 비교하며 공부합니다. 그리고 모델을 학습시킬 경우에 필수적인 hyper- \n",
    "parameter 중 epoch과 batch size 에 대해서 함께 공부합니다.\n",
    "\n",
    "Full-batch gradient descent\n",
    "- GD는 1개의 데이터를 기준으로 미분\n",
    "- 그러나 일반적으로 GD = (full) batch GD라고 가정\n",
    "- 모든 데이터 셋으로 학습\n",
    "\n",
    "Full-batch gradient descent\n",
    "- 업데이트 감소 à 계산상 효율적(속도) 가능\n",
    "- 안정적인 Cost 함수 수렴\n",
    "- 지역 최적화 가능\n",
    "- 메모리 문제 (ex – 30억개의 데이터를 한번에?)\n",
    "- 대규모 dataset à 모델/파라메터 업데이트가 느려짐\n",
    "\n",
    "SGD\n",
    "- 원래 의미는 dataset에서 random하게 training sample을 뽑은 후 학습할 때 사용함\n",
    "- Data를 넣기 전에 Shuffle\n",
    "\n",
    "- 빈번한 업데이트 모델 성능 및 개선 속도 확인 가능\n",
    "- 일부 문제에 대해 더 빨리 수렴\n",
    "- 지역 최적화 회피\n",
    "- 대용량 데이터시 시간이 오래걸림\n",
    "- 더 이상 cost가 줄어들지 않는 시점의 발견이 어려움\n",
    "\n",
    "Mini-SGD\n",
    "- 한번의 일정량의 데이터를 램덤하게 뽑아서 학습\n",
    "- SGD와 Batch GD를 혼합한 기법\n",
    "- 가장 일반적으로 많이 쓰이는 기법\n",
    "\n",
    "Epoch and batch-size\n",
    "- 전체 데이터가 Training 데이터에 들어갈 때 카운팅\n",
    "- Full-batch를 n번 실행하면 n epoch\n",
    "- Batch-size 한번에 학습되는 데이터의 개수\n",
    "- 총 5,120개의 Training data에 512 batch-size면 몇 번 학습을 해야 1 epoch이 되는가?\n",
    "\n",
    "SGD implementation issues\n",
    " Stochastic Gradient Descent 를 실제로 구현했을 때 생기는 여러 이슈에 대해 공부합니다. \n",
    " \n",
    " Learning-rate decay\n",
    " - 일정한 주기로 Learning rate을 감소시키는 방법\n",
    "- 특정 epoch 마다 Learning rate를 감소\n",
    "- Hyper-parameter 설정의 어려움\n",
    "종료조건 설정\n",
    "- SGD과정에서 특정 값이하로 cost function이 줄어들지 않을 경우 GD를 멈추는 방법\n",
    "- 성능이 좋아지지 않는/필요없는 연산을 방지함\n",
    "- 종료조건을 설정 - tol > loss - previous_loss\n",
    "- tol은 hyperparameter로 사람 설정함\n",
    "\n",
    "### 예시 코드"
   ]
  },
  {
   "cell_type": "code",
   "execution_count": 360,
   "metadata": {},
   "outputs": [
    {
     "data": {
      "text/plain": [
       "<matplotlib.text.Text at 0x7f18ac44feb8>"
      ]
     },
     "execution_count": 360,
     "metadata": {},
     "output_type": "execute_result"
    },
    {
     "data": {
      "image/png": "[encoded data removed]",
      "text/plain": [
       "<matplotlib.figure.Figure at 0x7f18ac1d6390>"
      ]
     },
     "metadata": {},
     "output_type": "display_data"
    }
   ],
   "source": [
    "from sklearn.datasets import load_boston\n",
    "from sklearn.model_selection import train_test_split\n",
    "\n",
    "boston = load_boston()\n",
    "df = pd.DataFrame(boston.data, columns=boston.feature_names)\n",
    "X = df.values\n",
    "y = boston.target\n",
    "# feature scailing\n",
    "from sklearn.preprocessing import StandardScaler\n",
    "std_scaler = StandardScaler()\n",
    "std_scaler.fit(X)\n",
    "X_scaled = std_scaler.transform(X)\n",
    "\n",
    "# 데이터 나누기\n",
    "from sklearn.model_selection import train_test_split\n",
    "X_train, X_test, y_train, y_test = train_test_split(X_scaled, y, test_size=0.3, random_state=42)\n",
    "\n",
    "from sklearn.linear_model import SGDRegressor\n",
    "lr_SGD = SGDRegressor()\n",
    "lr_SGD.fit(X_train, y_train)\n",
    "\n",
    "y_hat = lr_SGD.predict(X_test)\n",
    "y_true = y_test\n",
    "\n",
    "from sklearn.metrics import mean_squared_error\n",
    "mse = mean_squared_error(y_hat, y_true)\n",
    "rmse = np.sqrt((((y_hat - y_true)**2).sum() / len(y_true)))\n",
    "# rmse, mse\n",
    "\n",
    "plt.scatter(y_true, y_hat, s=10)\n",
    "plt.xlabel(\"Prices: $Y_i$\")\n",
    "plt.ylabel(\"Predicted prices: $\\hat{Y}_i$\")\n",
    "plt.title(\"Prices vs Predicted prices: $Y_i$ vs $\\hat{Y}_i$\")"
   ]
  },
  {
   "cell_type": "markdown",
   "metadata": {},
   "source": [
    "## 7.7. Overfitting and Regularization\n",
    "오버피팅이란 모델이 학습데이터에 과다 최적화되어 오히려 새로운 데이터 예측에는 성능이 떨어지는 것을 말합니다.\n",
    "\n",
    "Overfitting 을 방지하기 위한 기법\n",
    "\n",
    "Overcoming Overfitting\n",
    "- 데이터셋을 나누자\n",
    "- 더 많은 데이터를 활용한다.\n",
    "- Feature의 개수를 줄인다\n",
    "- 적절히 Parameter를 선정한다\n",
    "- Regularization\n",
    "\n",
    "### 7.7.1. 데이터셋을 나누자\n",
    "\n",
    "- Training한 데이터로 다시 Test를 할 경우,\n",
    "- Training 데이터에 과도하게 fitting 된 모델을 사용될 수 있음\n",
    "- 새로운 데이터가 출현했을 때, 기존 모델과의 차이 존재\n",
    "- 모델은 새로운 데이터가 처리가능하도록 generalize되야함\n",
    "- 이를 위해 Training Set과 Test Set을 분리함\n",
    "\n",
    "-  데이터를 Training과 Test와 나눠서 모델을 생성하고 테스트하는 기법\n",
    "- 가장 일반적인 모델 생성을 위한 데이터 임의 샘플링 기법\n",
    "- Training과 Test를 나누는 비율은 데이터의 크기에 따라 다름\n",
    "- 일반적으로 Training Data 2/3 , Test Data 1/3를 활용함"
   ]
  },
  {
   "cell_type": "code",
   "execution_count": 350,
   "metadata": {},
   "outputs": [],
   "source": [
    "# train_test_split\n",
    "from sklearn.model_selection import train_test_split\n",
    "\n",
    "X_train, X_test, y_train, y_test = train_test_split(X, y, test_size=0.3, random_state=42)"
   ]
  },
  {
   "cell_type": "markdown",
   "metadata": {},
   "source": [
    "### 7.7.2. Regularization 방법\n",
    "L1 Regularization과 L2 Regularization의 개념과, 두 Regularization의 차이점에 대하여 공부합니다.\n",
    "\n",
    "-  L1 regularization: 기존 Cost function L1(norm) penalty term을 추가\n",
    "-  L2 regularization: 기존 Cost function L2(norm) penalty term을 추가\n",
    "\n",
    "차이점 비교\n",
    "\n",
    "L1 | L2\n",
    "---|---\n",
    "Unstable solution | Stable solution\n",
    "Always on solution | Only one solution\n",
    "Sparse solution  | Non-sparse solution\n",
    "Feature selection |  \n",
    "\n",
    "\n",
    "#### 예시 코드\n",
    "이번 강의에서는 scikit-learn 에서 linear 모델 중 SGD Regressor 와 Lidge, Lasso 를 실제로 코드를 작성하고 실행하며\n",
    "각각의 모델이 서로 어떤 특징을 가지는지에 대해 공부합니다. scikit-learn의 각 모델을 실행할 때 지정해야 하는 \n",
    "파라미터에 대한 설명도 함께 진행됩니다.\n"
   ]
  },
  {
   "cell_type": "code",
   "execution_count": 361,
   "metadata": {},
   "outputs": [
    {
     "data": {
      "text/plain": [
       "<matplotlib.text.Text at 0x7f18ac696828>"
      ]
     },
     "execution_count": 361,
     "metadata": {},
     "output_type": "execute_result"
    },
    {
     "data": {
      "image/png": "[encoded data removed]",
      "text/plain": [
       "<matplotlib.figure.Figure at 0x7f18ac332b70>"
      ]
     },
     "metadata": {},
     "output_type": "display_data"
    }
   ],
   "source": [
    "# Linear Regression with Ridge & Lasso regression\n",
    "from sklearn.linear_model import Lasso, Ridge\n",
    "ridge = Ridge(fit_intercept=True, alpha=0.5)\n",
    "ridge.fit(X_train,y_train)\n",
    "#lasso = Lasso(fit_intercept=True, alpha=0.5)\n",
    "y_hat = ridge.predict(X_test)\n",
    "y_true = y_test\n",
    "mse = mean_squared_error(y_hat, y_true)\n",
    "rmse = np.sqrt((((y_hat - y_true)**2).sum() / len(y_true)))\n",
    "# rmse, mse\n",
    "plt.scatter(y_true, y_hat, s=10)\n",
    "plt.xlabel(\"Prices: $Y_i$\")\n",
    "plt.ylabel(\"Predicted prices: $\\hat{Y}_i$\")\n",
    "plt.title(\"Prices vs Predicted prices: $Y_i$ vs $\\hat{Y}_i$\")"
   ]
  },
  {
   "cell_type": "code",
   "execution_count": 372,
   "metadata": {},
   "outputs": [
    {
     "name": "stdout",
     "output_type": "stream",
     "text": [
      "Ridge Regression\n",
      "alpha\t RMSE_train\t RMSE_10cv\n",
      "\n",
      "0.010\t 4.6412\t\t 5.8806\n",
      "11.120\t 4.6747\t\t 5.7254\n",
      "22.230\t 4.7019\t\t 5.6408\n",
      "33.340\t 4.7251\t\t 5.5795\n",
      "44.450\t 4.7463\t\t 5.5347\n",
      "55.560\t 4.7664\t\t 5.5017\n",
      "66.670\t 4.7861\t\t 5.4773\n",
      "77.780\t 4.8055\t\t 5.4592\n",
      "88.890\t 4.8249\t\t 5.4458\n",
      "100.000\t 4.8442\t\t 5.4360\n"
     ]
    }
   ],
   "source": [
    "from sklearn.model_selection import KFold\n",
    "\n",
    "print('Ridge Regression')\n",
    "print('alpha\\t RMSE_train\\t RMSE_10cv\\n')\n",
    "alpha = np.linspace(.01,100,10)\n",
    "t_rmse = np.array([])\n",
    "cv_rmse = np.array([])\n",
    "\n",
    "for a in alpha:\n",
    "    ridge = Ridge(fit_intercept=True, alpha=a)\n",
    "    \n",
    "    # computing the RMSE on training data\n",
    "    ridge.fit(X_train,y_train)\n",
    "    p = ridge.predict(X_test)\n",
    "    err = p-y_test\n",
    "    total_error = np.dot(err,err)\n",
    "    rmse_train = np.sqrt(total_error/len(p))\n",
    "\n",
    "    # computing RMSE using 10-fold cross validation\n",
    "    kf = KFold(10)\n",
    "    xval_err = 0\n",
    "    for train, test in kf.split(X):\n",
    "        ridge.fit(X[train], y[train])\n",
    "        p = ridge.predict(X[test])\n",
    "        err = p - y[test]\n",
    "        xval_err += np.dot(err,err)\n",
    "    rmse_10cv = np.sqrt(xval_err/len(X))\n",
    "    \n",
    "    t_rmse = np.append(t_rmse, [rmse_train])\n",
    "    cv_rmse = np.append(cv_rmse, [rmse_10cv])\n",
    "    print('{:.3f}\\t {:.4f}\\t\\t {:.4f}'.format(a,rmse_train,rmse_10cv))"
   ]
  },
  {
   "cell_type": "code",
   "execution_count": 373,
   "metadata": {},
   "outputs": [
    {
     "data": {
      "text/plain": [
       "<matplotlib.text.Text at 0x7f18acaec2e8>"
      ]
     },
     "execution_count": 373,
     "metadata": {},
     "output_type": "execute_result"
    },
    {
     "data": {
      "image/png": "[encoded data removed]",
      "text/plain": [
       "<matplotlib.figure.Figure at 0x7f18acea3c50>"
      ]
     },
     "metadata": {},
     "output_type": "display_data"
    }
   ],
   "source": [
    "plt.plot(alpha, t_rmse, label='RMSE-Train')\n",
    "plt.plot(alpha, cv_rmse, label='RMSE_XVal')\n",
    "plt.legend( ('RMSE-Train', 'RMSE_XVal') )\n",
    "plt.ylabel('RMSE')\n",
    "plt.xlabel('Alpha')"
   ]
  },
  {
   "cell_type": "code",
   "execution_count": 376,
   "metadata": {},
   "outputs": [
    {
     "name": "stdout",
     "output_type": "stream",
     "text": [
      "Method: lasso\n",
      "RMSE on training: 4.9492\n",
      "RMSE on 10-fold CV: 5.7675\n",
      "Method: ridge\n",
      "RMSE on training: 4.6421\n",
      "RMSE on 10-fold CV: 5.8535\n"
     ]
    }
   ],
   "source": [
    "a = 0.3\n",
    "for name,met in [\n",
    "        ('lasso', Lasso(fit_intercept=True, alpha=a)),\n",
    "        ('ridge', Ridge(fit_intercept=True, alpha=a)),\n",
    "        ]:\n",
    "    met.fit(X_train,y_train)\n",
    "    # p = np.array([met.predict(xi) for xi in x])\n",
    "    p = met.predict(X_test)\n",
    "    e = p - y_test\n",
    "    total_error = np.dot(e,e)\n",
    "    rmse_train = np.sqrt(total_error/len(p))\n",
    "\n",
    "    kf = KFold(10)\n",
    "    err = 0\n",
    "    for train,test in kf.split(X):\n",
    "        met.fit(X[train],y[train])\n",
    "        p = met.predict(X[test])\n",
    "        e = p-y[test]\n",
    "        err += np.dot(e,e)\n",
    "\n",
    "    rmse_10cv = np.sqrt(err/len(X))\n",
    "    print('Method: %s' %name)\n",
    "    print('RMSE on training: %.4f' %rmse_train)\n",
    "    print('RMSE on 10-fold CV: %.4f' %rmse_10cv)"
   ]
  },
  {
   "cell_type": "markdown",
   "metadata": {},
   "source": [
    "## 7.8. 다항회귀(Polynomial Regression)\n",
    "\n",
    "Regression 모델 중 X, Y 의 관계가 곡선 형태(비선형)일 경우에 사용할 수 있는 Polynomial Regression에 대한 개념과, scikit-learn 모듈을 활용해서 polynomial regression 을 수행하는 방법에 대해서 공부합니다.\n",
    "\n",
    "Polynomial Features\n",
    "1차 방정식을 고차다항식으로 변경하는 기법\n",
    "`sklearn.preprocessing.PolynomialFeatures` 사용\n",
    "\n",
    "언제쓰나?\n",
    "- 한개 변수가 Y값과 비선형적인 관계가 있다고 의심\n",
    "- 주기적인 패턴을 보이는 Series 데이터\n",
    "- 모델 자체가 복잡해지면 해결가능한 부분이 많음\n",
    "    - SVM, Tree-based models\n",
    "\n",
    "\n",
    "How to optimize\n",
    "- RMSE의 최소값을 찾자\n",
    "- Ridge, Lasso, LR 모두다 써 보자\n",
    "- Degree 를 10 ~ 50까지 써보기!\n",
    "- 결과를 한눈에 정리해보기!!\n",
    "\n",
    "\n",
    "###  예시 코드\n",
    "\n"
   ]
  },
  {
   "cell_type": "code",
   "execution_count": 404,
   "metadata": {},
   "outputs": [
    {
     "data": {
      "text/plain": [
       "array([  0.        ,  19.4606578 , -15.92235638,  27.82874066,\n",
       "        -2.52988551, -14.48934431])"
      ]
     },
     "execution_count": 404,
     "metadata": {},
     "output_type": "execute_result"
    }
   ],
   "source": [
    "# Import\n",
    "from sklearn.preprocessing import PolynomialFeatures\n",
    "from sklearn.linear_model import LinearRegression\n",
    "import warnings\n",
    "warnings.filterwarnings('ignore')\n",
    "\n",
    "# Create matrix and vectors\n",
    "X = [[0.44, 0.68], [0.99, 0.23]]\n",
    "y = [109.85, 155.72]\n",
    "X_test = [0.49, 0.18]\n",
    "\n",
    "# PolynomialFeatures (prepreprocessing)\n",
    "poly = PolynomialFeatures(degree=2)\n",
    "X_ = poly.fit_transform(X)\n",
    "X_test_ = poly.fit_transform(X_test)\n",
    "\n",
    "# Instantiate\n",
    "lg = LinearRegression()\n",
    "\n",
    "# Fit\n",
    "lg.fit(X_, y)\n",
    "\n",
    "# Obtain coefficients\n",
    "lg.coef_"
   ]
  },
  {
   "cell_type": "code",
   "execution_count": 405,
   "metadata": {},
   "outputs": [
    {
     "data": {
      "text/plain": [
       "array([ 126.84247142])"
      ]
     },
     "execution_count": 405,
     "metadata": {},
     "output_type": "execute_result"
    }
   ],
   "source": [
    "# Predict\n",
    "lg.predict(X_test_)"
   ]
  },
  {
   "cell_type": "markdown",
   "metadata": {},
   "source": [
    "## 7.9. Performance measure techniques\n",
    "\n",
    " Performance 를 측정하는 여러가지 sampling 기법에 대한 개념과, scikit-learn 으로 실행시키는 방법에\n",
    "대해서 공부합니다.\n",
    "\n",
    "Training & Validation & Test Set\n",
    "Hyperameter Turning\n",
    "K-Fold Cross Validation \n",
    "Leave One Out(LOO)\n",
    "scikit-learn\n",
    "cross_val_score\n",
    "Check variation of cross validation\n",
    "Cold Start, Warm Start\n",
    "\n",
    "        \n",
    "K-fold cross validation\n",
    "- 학습 데이터를 K번 나눠서 Test와 Train을 실시 à Test의 평균값을 사용\n",
    "- 모델의 Parameter 튜닝, 간단한 모델의 최종 성능 측정 등 사용\n",
    "\n",
    "K-fold Cross Validation\n",
    "- cross_val_score 함수로, 한번에 해결 가능\n",
    "- sklearn은 pipeline 등을 위해 “High is better”로 처리 -> MSE를 Negative로 변환\n",
    "- 이로인해 RMSE를 지원하지 않음\n",
    "\n",
    "Leave One Out (LOO)\n",
    "\n",
    "Validation set for parameter turning\n",
    "- Validation set의 많은 이유중 하나가 Hyper parameter turning\n",
    "- Number of iterations (SGD), Number of branch (Tree-based) etc.\n",
    "- Validation set의 성능으로 최적의 parameter를 찾음\n",
    "- Validation set 결과와 Training set 결과의 차이가 벌어지면 overfitting \n",
    "\n",
    "Etc…\n",
    "- LeavePOut – 한번에 P개를 뽑음 (Not LOO for one data)\n",
    "- ShuffleSplit – 독립적인(중복되는) 데이터 Sampling\n",
    "- StratifiedKFold – Y 값 비율에 따라 뽑음\n",
    "- RepatedKFold – 중복이 포함된 K-Fold 생성\n",
    "- GroupKFold – 그룹별로 데이터를 Sampling"
   ]
  },
  {
   "cell_type": "code",
   "execution_count": 407,
   "metadata": {},
   "outputs": [],
   "source": [
    "from sklearn import datasets\n",
    "boston = datasets.load_boston()\n",
    "X = boston.data\n",
    "y = boston.target"
   ]
  },
  {
   "cell_type": "code",
   "execution_count": 408,
   "metadata": {},
   "outputs": [
    {
     "name": "stdout",
     "output_type": "stream",
     "text": [
      "TRAIN -  404\n",
      "TEST -  102\n",
      "TRAIN -  405\n",
      "TEST -  101\n",
      "TRAIN -  405\n",
      "TEST -  101\n",
      "TRAIN -  405\n",
      "TEST -  101\n",
      "TRAIN -  405\n",
      "TEST -  101\n"
     ]
    }
   ],
   "source": [
    "from sklearn.model_selection import KFold\n",
    "kf = KFold(n_splits=5, shuffle=True)\n",
    "for train_index, test_index in kf.split(X):\n",
    "    print(\"TRAIN - \", len(train_index))\n",
    "    print(\"TEST - \",  len(test_index))"
   ]
  },
  {
   "cell_type": "code",
   "execution_count": 409,
   "metadata": {},
   "outputs": [
    {
     "data": {
      "text/plain": [
       "(-34.468098837801122, -34.135235282917293)"
      ]
     },
     "execution_count": 409,
     "metadata": {},
     "output_type": "execute_result"
    }
   ],
   "source": [
    "from sklearn.model_selection import cross_val_score\n",
    "import numpy as np \n",
    "\n",
    "lasso_regressor = Lasso(warm_start=False)\n",
    "ridge_regressor = Ridge()\n",
    "\n",
    "lasso_scores = cross_val_score(lasso_regressor, X, y, cv=10, scoring='neg_mean_squared_error')\n",
    "ridge_scores= cross_val_score(ridge_regressor, X, y, cv=10, scoring='neg_mean_squared_error')\n",
    "np.mean(lasso_scores), np.mean(ridge_scores)"
   ]
  },
  {
   "cell_type": "code",
   "execution_count": 410,
   "metadata": {},
   "outputs": [
    {
     "name": "stdout",
     "output_type": "stream",
     "text": [
      "[1 2 3] [0]\n",
      "[0 2 3] [1]\n",
      "[0 1 3] [2]\n",
      "[0 1 2] [3]\n"
     ]
    }
   ],
   "source": [
    "from sklearn.model_selection import LeaveOneOut\n",
    "\n",
    "test = [1, 2, 3, 4]\n",
    "loo = LeaveOneOut()\n",
    "for train, test in loo.split(test):\n",
    "    print(\"%s %s\" % (train, test))"
   ]
  },
  {
   "cell_type": "markdown",
   "metadata": {},
   "source": [
    "# 9. 로지스틱 회귀(Logistic Regression)\n",
    "> 로지스틱 회귀(logistic regression)는 독립 변수의 선형 결합을 이용하여 사건의 발생 가능성을 예측하는데 사용되는 통계 기법이다. -- wikipedia  \n",
    "\n",
    "Classification 문제를 다루는 Logistic Regression 에 대해 공부합니다. 이번 강의에서는 Classification\n",
    "Problem 은 무엇을 의미하는지 간략하게 설명합니다. \n",
    "\n",
    "기존 접근의 문제점들\n",
    "- 1이상 또는 0이하의 수들이 나오는 걸 어떻게 해석?\n",
    "- 1 또는 0으로 정확히 표현 가능한가?\n",
    "- 변수가 Y에 영향을 주는정도가 비례하는 가?\n",
    "- 확률로 발생할 사건의 가능성을 표현해야 함\n",
    "\n",
    "해법으로 확률로 나타내는 것입니다.\n",
    "\n",
    "## 9.1.  Sigmoid function\n",
    "Classification 문제에서 분류되는 가능성을 확률로 표현하는 Sigmoid function 에 대해 공부합니다.\n",
    "\n",
    "### Odds Ratio\n",
    "해당 사건이 일어날 확률과 일어나지 않을 확률의 비율\n",
    "일어날 확률 P(X)\n",
    "일어나지 않을 확률 1 - P(X)\n",
    "\n",
    "$$\\frac{P(X)}{1 - P(X)}$$\n",
    "\n",
    "### Logit function\n",
    "X의 값이 주어졌을 때 y의 확률을 이용한 log odds\n",
    "\n",
    "$$logit(P) =\\ln\\left(\\frac{P(X)}{1 - P(X)}\\right)$$\n",
    "\n",
    "### Sigmoid(=Logistic) Function\n",
    "Logit 함수의 역함수로 z에 관한 확률을 산출\n",
    "미분가능한 연속구간으로 변환\n",
    "S형태로 닮았다고 하여 sigmoid function으로 호칭\n",
    "\n",
    "$$ y = \\frac{1}{1 + e^{-z}}$$\n",
    "\n",
    "## 9.2. Cost function\n",
    "Logistic Regression 에서 사용하는 Cost Function 에 대한 개념을 공부합니다.\n",
    "\n"
   ]
  },
  {
   "cell_type": "code",
   "execution_count": 412,
   "metadata": {},
   "outputs": [
    {
     "data": {
      "text/html": [
       "<div>\n",
       "<table border=\"1\" class=\"dataframe\">\n",
       "  <thead>\n",
       "    <tr style=\"text-align: right;\">\n",
       "      <th></th>\n",
       "      <th>admit</th>\n",
       "      <th>gre</th>\n",
       "      <th>gpa</th>\n",
       "      <th>rank</th>\n",
       "    </tr>\n",
       "  </thead>\n",
       "  <tbody>\n",
       "    <tr>\n",
       "      <th>395</th>\n",
       "      <td>0</td>\n",
       "      <td>620</td>\n",
       "      <td>4.00</td>\n",
       "      <td>2</td>\n",
       "    </tr>\n",
       "    <tr>\n",
       "      <th>396</th>\n",
       "      <td>0</td>\n",
       "      <td>560</td>\n",
       "      <td>3.04</td>\n",
       "      <td>3</td>\n",
       "    </tr>\n",
       "    <tr>\n",
       "      <th>397</th>\n",
       "      <td>0</td>\n",
       "      <td>460</td>\n",
       "      <td>2.63</td>\n",
       "      <td>2</td>\n",
       "    </tr>\n",
       "    <tr>\n",
       "      <th>398</th>\n",
       "      <td>0</td>\n",
       "      <td>700</td>\n",
       "      <td>3.65</td>\n",
       "      <td>2</td>\n",
       "    </tr>\n",
       "    <tr>\n",
       "      <th>399</th>\n",
       "      <td>0</td>\n",
       "      <td>600</td>\n",
       "      <td>3.89</td>\n",
       "      <td>3</td>\n",
       "    </tr>\n",
       "  </tbody>\n",
       "</table>\n",
       "</div>"
      ],
      "text/plain": [
       "     admit  gre   gpa  rank\n",
       "395      0  620  4.00     2\n",
       "396      0  560  3.04     3\n",
       "397      0  460  2.63     2\n",
       "398      0  700  3.65     2\n",
       "399      0  600  3.89     3"
      ]
     },
     "execution_count": 412,
     "metadata": {},
     "output_type": "execute_result"
    }
   ],
   "source": [
    "import pandas as pd\n",
    "import numpy as np\n",
    "\n",
    "df = pd.read_csv('./data/binary.csv')\n",
    "df.tail()\n"
   ]
  },
  {
   "cell_type": "code",
   "execution_count": 415,
   "metadata": {},
   "outputs": [],
   "source": [
    "y_data = df[\"admit\"].values.reshape(-1,1)\n",
    "x_data = df.ix[:,1:].values"
   ]
  },
  {
   "cell_type": "code",
   "execution_count": 416,
   "metadata": {},
   "outputs": [
    {
     "data": {
      "text/plain": [
       "array([[ 0.27586207,  0.77586207,  0.66666667],\n",
       "       [ 0.75862069,  0.81034483,  0.66666667],\n",
       "       [ 1.        ,  1.        ,  0.        ],\n",
       "       [ 0.72413793,  0.53448276,  1.        ],\n",
       "       [ 0.51724138,  0.38505747,  1.        ]])"
      ]
     },
     "execution_count": 416,
     "metadata": {},
     "output_type": "execute_result"
    }
   ],
   "source": [
    "from  sklearn  import  preprocessing  # Min-Max Standardzation\n",
    "\n",
    "min_max_scaler = preprocessing.MinMaxScaler()\n",
    "x_data = min_max_scaler.fit_transform(x_data)\n",
    "\n",
    "x_data[:5]"
   ]
  },
  {
   "cell_type": "code",
   "execution_count": 419,
   "metadata": {},
   "outputs": [
    {
     "data": {
      "text/plain": [
       "0.72499999999999998"
      ]
     },
     "execution_count": 419,
     "metadata": {},
     "output_type": "execute_result"
    }
   ],
   "source": [
    "from sklearn.model_selection import train_test_split\n",
    "from sklearn import linear_model, datasets\n",
    "\n",
    "X_train, X_test, y_train, y_test = train_test_split(x_data, y_data, test_size=0.3, random_state=42)\n",
    "\n",
    "logreg = linear_model.LogisticRegression(fit_intercept=True)\n",
    "logreg.fit(X_train, y_train.ravel())\n",
    "\n",
    "y_pred = logreg.predict(X_test)\n",
    "y_true = y_test\n",
    "\n",
    "# from sklearn.metrics import mean_squared_error\n",
    "# mean_squared_error(y_hat, y_true)\n",
    "\n",
    "from sklearn.metrics import accuracy_score\n",
    "accuracy_score(y_true, y_pred)"
   ]
  },
  {
   "cell_type": "code",
   "execution_count": null,
   "metadata": {},
   "outputs": [],
   "source": [
    "from sklearn import linear_model, datasets\n",
    "\n",
    "logreg = linear_model.LogisticRegression(fit_intercept=True)\n",
    "logreg.fit(x_data, y_data.ravel())\n",
    "\n",
    "# sum(logreg.predict(x_data) == y_data.ravel()) / len(y_data.ravel())\n",
    "theta = np.append(logreg.intercept_, logreg.coef_.ravel())\n",
    "# theta\n",
    "# theta_file_name = \"theta_bin.npy\"\n",
    "# np.save(theta_file_name, theta)\n",
    "# np.load(theta_file_name)\n",
    "# min_max = np.vstack( (df.ix[:,1:].values.min(axis=0), df.ix[:,1:].values.max(axis=0)) )\n",
    "# min_max\n",
    "# min_max_file_name = \"min_max.npy\"\n",
    "# np.save(min_max_file_name, min_max)\n",
    "# import pickle\n",
    "\n",
    "# f = open('logicmodel.pkl', 'wb')\n",
    "# f.seek(0)\n",
    "\n",
    "# pickle.dump(logreg,f )\n",
    "# f.close()\n",
    "# fr = open('./logicmodel.pkl', 'rb')\n",
    "# logreg_pickle = pickle.load(fr)\n",
    "\n",
    "# sum(logreg.predict(x_data) == logreg_pickle.predict(x_data)) / len(y_data.ravel())\n",
    "\n"
   ]
  }
 ],
 "metadata": {
  "kernelspec": {
   "display_name": "Python 3",
   "language": "python",
   "name": "python3"
  },
  "language_info": {
   "codemirror_mode": {
    "name": "ipython",
    "version": 3
   },
   "file_extension": ".py",
   "mimetype": "text/x-python",
   "name": "python",
   "nbconvert_exporter": "python",
   "pygments_lexer": "ipython3",
   "version": "3.6.3"
  }
 },
 "nbformat": 4,
 "nbformat_minor": 2
}
