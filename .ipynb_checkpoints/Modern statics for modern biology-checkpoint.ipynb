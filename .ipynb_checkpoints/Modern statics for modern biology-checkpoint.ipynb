{
 "cells": [
  {
   "cell_type": "markdown",
   "metadata": {},
   "source": [
    "# 1. Generate model for discrete data\n",
    "\n",
    "푸아송 분포(Poisson distribution)"
   ]
  },
  {
   "cell_type": "code",
   "execution_count": 1,
   "metadata": {},
   "outputs": [
    {
     "data": {
      "text/html": [
       "0.140373895814281"
      ],
      "text/latex": [
       "0.140373895814281"
      ],
      "text/markdown": [
       "0.140373895814281"
      ],
      "text/plain": [
       "[1] 0.1403739"
      ]
     },
     "metadata": {},
     "output_type": "display_data"
    }
   ],
   "source": [
    "dpois(x=3, lambda=5)"
   ]
  },
  {
   "cell_type": "code",
   "execution_count": 4,
   "metadata": {},
   "outputs": [
    {
     "data": {
      "text/html": [
       "<ol class=list-inline>\n",
       "\t<li>0.00673794699908547</li>\n",
       "\t<li>0.0336897349954273</li>\n",
       "\t<li>0.0842243374885683</li>\n",
       "\t<li>0.140373895814281</li>\n",
       "\t<li>0.175467369767851</li>\n",
       "\t<li>0.175467369767851</li>\n",
       "\t<li>0.146222808139876</li>\n",
       "\t<li>0.104444862957054</li>\n",
       "\t<li>0.0652780393481587</li>\n",
       "\t<li>0.0362655774156437</li>\n",
       "\t<li>0.0181327887078219</li>\n",
       "</ol>\n"
      ],
      "text/latex": [
       "\\begin{enumerate*}\n",
       "\\item 0.00673794699908547\n",
       "\\item 0.0336897349954273\n",
       "\\item 0.0842243374885683\n",
       "\\item 0.140373895814281\n",
       "\\item 0.175467369767851\n",
       "\\item 0.175467369767851\n",
       "\\item 0.146222808139876\n",
       "\\item 0.104444862957054\n",
       "\\item 0.0652780393481587\n",
       "\\item 0.0362655774156437\n",
       "\\item 0.0181327887078219\n",
       "\\end{enumerate*}\n"
      ],
      "text/markdown": [
       "1. 0.00673794699908547\n",
       "2. 0.0336897349954273\n",
       "3. 0.0842243374885683\n",
       "4. 0.140373895814281\n",
       "5. 0.175467369767851\n",
       "6. 0.175467369767851\n",
       "7. 0.146222808139876\n",
       "8. 0.104444862957054\n",
       "9. 0.0652780393481587\n",
       "10. 0.0362655774156437\n",
       "11. 0.0181327887078219\n",
       "\n",
       "\n"
      ],
      "text/plain": [
       " [1] 0.006737947 0.033689735 0.084224337 0.140373896 0.175467370 0.175467370\n",
       " [7] 0.146222808 0.104444863 0.065278039 0.036265577 0.018132789"
      ]
     },
     "metadata": {},
     "output_type": "display_data"
    }
   ],
   "source": [
    "dpois(x = 0:10, lambda = 5)"
   ]
  },
  {
   "cell_type": "code",
   "execution_count": 6,
   "metadata": {},
   "outputs": [
    {
     "data": {
      "image/png": "[encoded data removed]",
      "text/plain": [
       "plot without title"
      ]
     },
     "metadata": {},
     "output_type": "display_data"
    }
   ],
   "source": [
    "barplot(dpois(0:10, 5), names.arg = 0:10, col = \"red\")"
   ]
  },
  {
   "cell_type": "markdown",
   "metadata": {},
   "source": [
    "푸 아송 분포는 돌연변이와 같은 드문 사건에 좋은 모델입니다. 이산 사건에 대한 다른 유용한 확률 모델은 베르누이, 이항 분포 및 다항 분포이다. 이제는 이 모델들을 살펴 보겠습니다.\n",
    "\n",
    "## 1.3. 이산 확률 모델 사용하기\n",
    "\n",
    "표본에 대한 범주 형 변수를 측정 할 때 종종 수의 벡터에서 여러 수준의 빈도를 집계하려고합니다. **R** 에서는 이러한 범주형 번수를 Factor라는 방법을 사용해 표현합니다. 여기서 우리는 표로 작성한 벡터에서 19 명의 피험자에 대해 다른 혈액 유전자형을 포착합니다."
   ]
  },
  {
   "cell_type": "code",
   "execution_count": 8,
   "metadata": {},
   "outputs": [
    {
     "data": {
      "text/plain": [
       "genotype\n",
       "AA AB AO BB BO OO \n",
       " 2  2  7  3  3  2 "
      ]
     },
     "metadata": {},
     "output_type": "display_data"
    }
   ],
   "source": [
    "genotype = c(\"AA\",\"AO\",\"BB\",\"AO\",\"OO\",\"AO\",\"AA\",\"BO\",\"BO\",\"AO\",\"BB\",\"AO\",\"BO\",\"AB\",\"OO\",\"AB\",\"BB\",\"AO\",\"AO\")\n",
    "table(genotype)"
   ]
  },
  {
   "cell_type": "markdown",
   "metadata": {},
   "source": [
    "요인을 만들 때 R은 자동으로 레벨을 감지합니다. 레벨 기능을 사용하여 레벨에 액세스 할 수 있습니다."
   ]
  },
  {
   "cell_type": "code",
   "execution_count": 9,
   "metadata": {},
   "outputs": [
    {
     "data": {
      "text/html": [
       "<ol class=list-inline>\n",
       "\t<li>'AA'</li>\n",
       "\t<li>'AB'</li>\n",
       "\t<li>'AO'</li>\n",
       "\t<li>'BB'</li>\n",
       "\t<li>'BO'</li>\n",
       "\t<li>'OO'</li>\n",
       "</ol>\n"
      ],
      "text/latex": [
       "\\begin{enumerate*}\n",
       "\\item 'AA'\n",
       "\\item 'AB'\n",
       "\\item 'AO'\n",
       "\\item 'BB'\n",
       "\\item 'BO'\n",
       "\\item 'OO'\n",
       "\\end{enumerate*}\n"
      ],
      "text/markdown": [
       "1. 'AA'\n",
       "2. 'AB'\n",
       "3. 'AO'\n",
       "4. 'BB'\n",
       "5. 'BO'\n",
       "6. 'OO'\n",
       "\n",
       "\n"
      ],
      "text/plain": [
       "[1] \"AA\" \"AB\" \"AO\" \"BB\" \"BO\" \"OO\""
      ]
     },
     "metadata": {},
     "output_type": "display_data"
    }
   ],
   "source": [
    "genotypeF = factor(genotype)\n",
    "levels(genotypeF)"
   ]
  },
  {
   "cell_type": "markdown",
   "metadata": {},
   "source": [
    "데이터가 관측되는 순서가 중요하지 않은 경우 무작위 변수를 교환 가능이라고합니다. 이 경우 요인에서 사용할 수있는 모든 정보는 요인 수준의 수로 요약됩니다. 그런 다음 주파수의 벡터가 데이터의 모든 관련 정보를 캡처하기에 충분하므로 데이터를 효과적으로 압축하는 방법을 제공한다고합니다.\n",
    "\n",
    "### 1.3.1 베르누이 시행\n",
    "\n",
    "동전 던지기에는 두 가지 결과가 있습니다. 베르누이 시험이라고 불리는이 간단한 실험은 베르누이 (Bernoulli) 무작위 변수를 사용하여 모델링됩니다. 몇 가지 실험을 시도하여 이러한 임의의 변수 중 일부가 어떻게 보이는지 봅시다.  \n",
    "\n",
    "15 개의 공정한 동전 던지기 시퀀스를 시뮬레이션하려고한다고 가정 해보십시오. 성공 확률이 0.5 인 베르누이 재판 (fair coin)의 결과를 얻으려면,"
   ]
  },
  {
   "cell_type": "code",
   "execution_count": 10,
   "metadata": {},
   "outputs": [
    {
     "data": {
      "text/html": [
       "<ol class=list-inline>\n",
       "\t<li>1</li>\n",
       "\t<li>0</li>\n",
       "\t<li>0</li>\n",
       "\t<li>0</li>\n",
       "\t<li>0</li>\n",
       "\t<li>0</li>\n",
       "\t<li>1</li>\n",
       "\t<li>1</li>\n",
       "\t<li>0</li>\n",
       "\t<li>1</li>\n",
       "\t<li>0</li>\n",
       "\t<li>1</li>\n",
       "\t<li>1</li>\n",
       "\t<li>1</li>\n",
       "\t<li>1</li>\n",
       "</ol>\n"
      ],
      "text/latex": [
       "\\begin{enumerate*}\n",
       "\\item 1\n",
       "\\item 0\n",
       "\\item 0\n",
       "\\item 0\n",
       "\\item 0\n",
       "\\item 0\n",
       "\\item 1\n",
       "\\item 1\n",
       "\\item 0\n",
       "\\item 1\n",
       "\\item 0\n",
       "\\item 1\n",
       "\\item 1\n",
       "\\item 1\n",
       "\\item 1\n",
       "\\end{enumerate*}\n"
      ],
      "text/markdown": [
       "1. 1\n",
       "2. 0\n",
       "3. 0\n",
       "4. 0\n",
       "5. 0\n",
       "6. 0\n",
       "7. 1\n",
       "8. 1\n",
       "9. 0\n",
       "10. 1\n",
       "11. 0\n",
       "12. 1\n",
       "13. 1\n",
       "14. 1\n",
       "15. 1\n",
       "\n",
       "\n"
      ],
      "text/plain": [
       " [1] 1 0 0 0 0 0 1 1 0 1 0 1 1 1 1"
      ]
     },
     "metadata": {},
     "output_type": "display_data"
    }
   ],
   "source": [
    "rbinom(15, prob = 0.5, size = 1)"
   ]
  },
  {
   "cell_type": "markdown",
   "metadata": {},
   "source": [
    "첫 번째 매개 변수는 우리가 관찰하고자하는 시도의 수입니다. 여기에서 우리는 15 점을 선택했습니다. 우리는 prob에 의해 성공 확률을 지정합니다. "
   ]
  },
  {
   "cell_type": "code",
   "execution_count": null,
   "metadata": {},
   "outputs": [],
   "source": []
  }
 ],
 "metadata": {
  "kernelspec": {
   "display_name": "R",
   "language": "R",
   "name": "ir"
  },
  "language_info": {
   "codemirror_mode": "r",
   "file_extension": ".r",
   "mimetype": "text/x-r-source",
   "name": "R",
   "pygments_lexer": "r",
   "version": "3.3.2"
  }
 },
 "nbformat": 4,
 "nbformat_minor": 2
}
