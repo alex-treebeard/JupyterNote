{
 "cells": [
  {
   "cell_type": "code",
   "execution_count": null,
   "metadata": {},
   "outputs": [],
   "source": [
    "# 분석에 필요한 라이브러리 불러오기\n",
    "import os\n",
    "import numpy as np\n",
    "import pandas as pd \n",
    "import matplotlib.pyplot as plt\n",
    "%matplotlib inline \n",
    "import seaborn as sns\n",
    "import warnings\n",
    "warnings.filterwarnings('ignore')\n",
    "\n",
    "df = pd.read_csv('./input/diabetic_data.csv', na_values='?', low_memory=False) \n",
    "# 결측치는 ?로 표시되어 있습니다.\n",
    "df.tail() "
   ]
  },
  {
   "cell_type": "code",
   "execution_count": null,
   "metadata": {},
   "outputs": [],
   "source": [
    "# df[['diag_1','diag_2','diag_3']].replace(regex={r'^[VE][0-9]+$':100}, inplace = False) # other diag for 100\n",
    "df['diag_1'].replace(regex={r'^[VE][0-9]+$':100}, inplace = True)\n",
    "df['diag_2'].replace(regex={r'^[VE][0-9]+$':100}, inplace = True)\n",
    "df['diag_3'].replace(regex={r'^[VE][0-9]+$':100}, inplace = True)"
   ]
  },
  {
   "cell_type": "code",
   "execution_count": null,
   "metadata": {},
   "outputs": [],
   "source": [
    "df['diag_1'] = df['diag_1'].astype(np.float64)\n",
    "df['diag_2'] = df['diag_2'].astype(np.float64)\n",
    "df['diag_3'] = df['diag_3'].astype(np.float64)"
   ]
  },
  {
   "cell_type": "code",
   "execution_count": null,
   "metadata": {},
   "outputs": [],
   "source": [
    "diag = ['diag_1','diag_2','diag_3']\n",
    "for i in diag:\n",
    "    conditions = [\n",
    "        (df[i] <= 100 ),\n",
    "        (df[i] >= 140 ) & (df[i] < 240),\n",
    "        (df[i] >= 250 ) & (df[i] < 251),\n",
    "        (df[i] >= 390 ) & (df[i] < 460),\n",
    "        (df[i] >= 460 ) & (df[i] < 520),\n",
    "        (df[i] >= 520 ) & (df[i] < 580),\n",
    "        (df[i] >= 580 ) & (df[i] < 630),\n",
    "        (df[i] >= 710 ) & (df[i] < 740),\n",
    "        (df[i] >= 800 ) & (df[i] < 1000),        \n",
    "        (df[i] == 785),\n",
    "        (df[i] == 786),\n",
    "        (df[i] == 787),\n",
    "        (df[i] == 788)]\n",
    "    choices = ['other','neoplasms','diabetes','circulatory','respiratory','digestive',\n",
    "               'genitourinanry','musculoskeletal','injury','circulatory','respiratory','digestive','genitourinanry']\n",
    "    df[i] = np.select(conditions, choices)"
   ]
  },
  {
   "cell_type": "code",
   "execution_count": null,
   "metadata": {},
   "outputs": [],
   "source": [
    "df['age'].replace({ '[0-10)':5, '[10-20)':15, \n",
    "                     '[20-30)':25, '[30-40)':35, \n",
    "                     '[40-50)':45, '[50-60)':55, \n",
    "                     '[60-70)':65, '[70-80)':75,\n",
    "                     '[80-90)':85, '[90-100)':95}, inplace = True)\n",
    "\n",
    "df['max_glu_serum'].replace({'None':0,'Norm':100,\n",
    "                             '>200': 200, '>300':300}, inplace = True)\n",
    "\n",
    "df['A1Cresult'].replace({'None':0, 'Norm':10,\n",
    "                        '>7':20, '>8':30}, inplace = True)\n",
    "\n",
    "df['change'].replace({'No':0, 'Ch':1}, inplace = True)\n",
    "\n",
    "df['diabetesMed'].replace({'No':0, 'Yes':1}, inplace = True)\n",
    "\n",
    "medications = [\"metformin\", \"repaglinide\", \"nateglinide\", \"chlorpropamide\", \"glimepiride\",\n",
    "               \"acetohexamide\", \"glipizide\", \"glyburide\", \"tolbutamide\", \"pioglitazone\",\n",
    "               \"rosiglitazone\", \"acarbose\", \"miglitol\", \"troglitazone\", \"tolazamide\", \n",
    "               \"examide\", \"citoglipton\", \"insulin\", \"glyburide-metformin\", \"glipizide-metformin\", \n",
    "               \"glimepiride-pioglitazone\", \"metformin-rosiglitazone\", \"metformin-pioglitazone\"]\n",
    "for i in medications:\n",
    "    df[i].replace({'No': -1,'Down': 0,'Steady': 1,'Up': 2}, inplace = True)\n",
    "\n",
    "\n",
    "categoricals = ['race','gender', 'payer_code', 'medical_specialty','diag_1', 'diag_2', 'diag_3']\n",
    "for j in categoricals:\n",
    "    df[j] = pd.Categorical(df[j]).codes #  integer 값으로 바꿔 줍니다.\n",
    "    df[j].astype('int64')\n",
    "    \n",
    "df['readmitted'].replace({'NO':0, '>30':1, '<30':2}, inplace = True)\n",
    "# 쓸모 없어 보이는 데이터 삭제\n",
    "del_columns = [\"metformin\", \"repaglinide\", \"nateglinide\", \"chlorpropamide\", \"glimepiride\", \"weight\",\n",
    "               \"acetohexamide\", \"glipizide\", \"glyburide\", \"tolbutamide\", \"pioglitazone\",\n",
    "               \"rosiglitazone\", \"acarbose\", \"miglitol\", \"troglitazone\", \"tolazamide\", \n",
    "               \"examide\", \"citoglipton\", \"insulin\", \"glyburide-metformin\", \"glipizide-metformin\", \n",
    "               \"glimepiride-pioglitazone\", \"metformin-rosiglitazone\", \"metformin-pioglitazone\",\"number_emergency\", \"max_glu_serum\",\"number_inpatient\"] # 삭제할 데이터\n",
    "df.drop(del_columns, inplace=True, axis=1)\n",
    "\n",
    "df.head()"
   ]
  },
  {
   "cell_type": "code",
   "execution_count": null,
   "metadata": {},
   "outputs": [],
   "source": [
    "conditions = [\n",
    "    (df['age'] <= 5 ),\n",
    "    (df['age'] >= 15 ) & (df['age'] < 25),\n",
    "    (df['age'] >= 25 ) & (df['age'] < 65),\n",
    "    (df['age'] >= 65 ) & (df['age'] < 95),\n",
    "    (df['age'] >= 95)]\n",
    "choices = [0, 1, 2, 3, 4]\n",
    "df['age'] = np.select(conditions, choices)"
   ]
  },
  {
   "cell_type": "code",
   "execution_count": null,
   "metadata": {},
   "outputs": [],
   "source": [
    "conditions = [(df['number_diagnoses'] <= 1 ),\n",
    "    (df['number_diagnoses'] >= 2 ) & (df['number_diagnoses'] < 6),\n",
    "    (df['number_diagnoses'] >= 6 ) & (df['number_diagnoses'] < 9),\n",
    "    (df['number_diagnoses'] >= 9 )]\n",
    "choices = [0, 1, 2, 3]\n",
    "df['number_diagnoses'] = np.select(conditions, choices)"
   ]
  },
  {
   "cell_type": "code",
   "execution_count": null,
   "metadata": {},
   "outputs": [],
   "source": []
  }
 ],
 "metadata": {
  "kernelspec": {
   "display_name": "Python 3",
   "language": "python",
   "name": "python3"
  },
  "language_info": {
   "codemirror_mode": {
    "name": "ipython",
    "version": 3
   },
   "file_extension": ".py",
   "mimetype": "text/x-python",
   "name": "python",
   "nbconvert_exporter": "python",
   "pygments_lexer": "ipython3",
   "version": "3.6.3"
  }
 },
 "nbformat": 4,
 "nbformat_minor": 2
}
